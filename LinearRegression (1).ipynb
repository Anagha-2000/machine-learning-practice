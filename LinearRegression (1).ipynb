{
  "nbformat": 4,
  "nbformat_minor": 0,
  "metadata": {
    "colab": {
      "name": "Copy of LinearRegression.ipynb",
      "provenance": [],
      "collapsed_sections": [
        "0Kd7SSYBWF-F"
      ],
      "toc_visible": true
    },
    "kernelspec": {
      "name": "python3",
      "display_name": "Python 3"
    },
    "accelerator": "GPU"
  },
  "cells": [
    {
      "cell_type": "markdown",
      "metadata": {
        "id": "0Kd7SSYBWF-F",
        "colab_type": "text"
      },
      "source": [
        "#Simple Linear Regression"
      ]
    },
    {
      "cell_type": "code",
      "metadata": {
        "id": "Txu6wt3iUdyF",
        "colab_type": "code",
        "colab": {}
      },
      "source": [
        "\"\"\"Simple Linear Regression\"\"\"\n",
        "\n",
        "#Importing libraries\n",
        "import numpy as np\n",
        "import pandas as pd\n",
        "import matplotlib.pyplot as plt\n",
        "\n",
        "#Loading the dataset\n",
        "dataset = pd.read_csv('Popln_profit.csv').values\n",
        "\n",
        "#Specify independent and dependent veraibles\n",
        "x = dataset[:, :-1]\n",
        "y = dataset[:, -1]\n",
        "x,y\n"
      ],
      "execution_count": null,
      "outputs": []
    },
    {
      "cell_type": "code",
      "metadata": {
        "id": "MuXbU8qhdt1r",
        "colab_type": "code",
        "colab": {
          "base_uri": "https://localhost:8080/",
          "height": 282
        },
        "outputId": "2fef751d-553c-4bf8-fe06-87ceb3305274"
      },
      "source": [
        "#Visualising the data before regression\n",
        "plt.scatter(x, y)"
      ],
      "execution_count": null,
      "outputs": [
        {
          "output_type": "execute_result",
          "data": {
            "text/plain": [
              "<matplotlib.collections.PathCollection at 0x7ff062b65400>"
            ]
          },
          "metadata": {
            "tags": []
          },
          "execution_count": 37
        },
        {
          "output_type": "display_data",
          "data": {
            "image/png": "[encoded data removed]",
            "text/plain": [
              "<Figure size 432x288 with 1 Axes>"
            ]
          },
          "metadata": {
            "tags": [],
            "needs_background": "light"
          }
        }
      ]
    },
    {
      "cell_type": "code",
      "metadata": {
        "id": "1YVQogCDUdtR",
        "colab_type": "code",
        "colab": {
          "base_uri": "https://localhost:8080/",
          "height": 350
        },
        "outputId": "848f72ea-bde9-416b-fdf0-d6baa4d89638"
      },
      "source": [
        "\"\"\"Fitting Simple Linear Regression\"\"\"\n",
        "\n",
        "#Importing linear regreassion class from sklearn library\n",
        "from sklearn.linear_model import LinearRegression\n",
        "\n",
        "#1 Create linear regression object using the imported class\n",
        "model = LinearRegression()\n",
        "\n",
        "#2 Train the model by applying 'fit fucntion\n",
        "model.fit(x, y)\n",
        "\n",
        "#Predicting the outcome by applying 'predict fucntion on input\n",
        "y_pred = model.predict(x)\n",
        "y_pred\n"
      ],
      "execution_count": null,
      "outputs": [
        {
          "output_type": "execute_result",
          "data": {
            "text/plain": [
              "array([ 3.39377399,  2.6989512 ,  6.26719552,  4.45927234,  3.09515767,\n",
              "        6.10530086,  5.02381586,  6.33818102,  3.84247394,  2.13452698,\n",
              "        2.91727635, 13.00234766,  2.94507404,  6.13572322,  2.833764  ,\n",
              "        2.52202431,  3.69835548,  2.22460102,  3.77494824,  4.53992141,\n",
              "        3.48802365, 20.28701109,  2.65409313,  3.65146926,  2.74333205,\n",
              "       18.70624151, 11.40845471,  9.17628876, 11.82363042, 22.59314512,\n",
              "        2.37050903,  3.96559502,  7.13763287,  3.13333475,  5.90033768,\n",
              "        5.56903223,  5.7629002 ,  2.79272364, 11.41799898,  3.68403908,\n",
              "        2.55483273,  4.31527318, 10.07225703,  2.99243747,  5.43934948,\n",
              "        4.56652606,  2.1531383 ,  3.02548451, 10.06271276,  2.71553436,\n",
              "        5.09993141,  2.43648379,  4.96118159,  5.17497322,  3.65946258,\n",
              "        3.69060076,  3.58955081,  2.83257096,  7.21160096,  7.38268198,\n",
              "        6.63321825,  2.28329828, 21.49078204, 13.88996469, 18.72294398,\n",
              "        4.71577457,  6.0005525 ,  8.3161115 ,  2.66518834, 20.37171648,\n",
              "        8.19680814,  4.85452438,  3.2698178 ,  4.72496093,  2.10147995,\n",
              "        3.91608412,  5.09802255,  2.11293307,  8.36144678,  2.19787707,\n",
              "        2.93934748,  2.29415488,  3.68678305,  7.75860688,  3.87790704,\n",
              "        6.26552528,  7.05650658,  3.26480705,  2.69024205,  2.14025354,\n",
              "        2.91369725,  5.21493985,  3.10816174,  2.43373982,  5.99852435,\n",
              "       12.08371175,  2.59062374])"
            ]
          },
          "metadata": {
            "tags": []
          },
          "execution_count": 38
        }
      ]
    },
    {
      "cell_type": "code",
      "metadata": {
        "id": "mEI6JWLMUdoQ",
        "colab_type": "code",
        "colab": {
          "base_uri": "https://localhost:8080/",
          "height": 282
        },
        "outputId": "40c67353-120b-4aed-8d83-0906e4dd4c07"
      },
      "source": [
        "#Visualising the outcome\n",
        "plt.scatter(x, y)\n",
        "plt.plot(x, y_pred, color='red')\n",
        "\n",
        "model.intercept_\n",
        "model.coef_\n",
        "#"
      ],
      "execution_count": null,
      "outputs": [
        {
          "output_type": "execute_result",
          "data": {
            "text/plain": [
              "array([1.19303364])"
            ]
          },
          "metadata": {
            "tags": []
          },
          "execution_count": 39
        },
        {
          "output_type": "display_data",
          "data": {
            "image/png": "[encoded data removed]",
            "text/plain": [
              "<Figure size 432x288 with 1 Axes>"
            ]
          },
          "metadata": {
            "tags": [],
            "needs_background": "light"
          }
        }
      ]
    },
    {
      "cell_type": "code",
      "metadata": {
        "id": "o9W6OojIVa_a",
        "colab_type": "code",
        "colab": {
          "base_uri": "https://localhost:8080/",
          "height": 600
        },
        "outputId": "4f05017e-e812-499e-ae64-6035b7c89309"
      },
      "source": [
        "##Simple Linear Regression _Example 2\n",
        "#Importing libraries\n",
        "import numpy as np\n",
        "import pandas as pd\n",
        "import matplotlib.pyplot as plt\n",
        "#Importing the dataset\n",
        "dataset= pd.read_csv('Salary_Data.csv')\n",
        "\n",
        "#Matrix creation\n",
        "X= dataset.iloc[:, :-1].values\n",
        "Y= dataset.iloc[:, 1].values\n",
        "X, Y"
      ],
      "execution_count": null,
      "outputs": [
        {
          "output_type": "execute_result",
          "data": {
            "text/plain": [
              "(array([[ 1.1],\n",
              "        [ 1.3],\n",
              "        [ 1.5],\n",
              "        [ 2. ],\n",
              "        [ 2.2],\n",
              "        [ 2.9],\n",
              "        [ 3. ],\n",
              "        [ 3.2],\n",
              "        [ 3.2],\n",
              "        [ 3.7],\n",
              "        [ 3.9],\n",
              "        [ 4. ],\n",
              "        [ 4. ],\n",
              "        [ 4.1],\n",
              "        [ 4.5],\n",
              "        [ 4.9],\n",
              "        [ 5.1],\n",
              "        [ 5.3],\n",
              "        [ 5.9],\n",
              "        [ 6. ],\n",
              "        [ 6.8],\n",
              "        [ 7.1],\n",
              "        [ 7.9],\n",
              "        [ 8.2],\n",
              "        [ 8.7],\n",
              "        [ 9. ],\n",
              "        [ 9.5],\n",
              "        [ 9.6],\n",
              "        [10.3],\n",
              "        [10.5]]),\n",
              " array([ 39343.,  46205.,  37731.,  43525.,  39891.,  56642.,  60150.,\n",
              "         54445.,  64445.,  57189.,  63218.,  55794.,  56957.,  57081.,\n",
              "         61111.,  67938.,  66029.,  83088.,  81363.,  93940.,  91738.,\n",
              "         98273., 101302., 113812., 109431., 105582., 116969., 112635.,\n",
              "        122391., 121872.]))"
            ]
          },
          "metadata": {
            "tags": []
          },
          "execution_count": 43
        }
      ]
    },
    {
      "cell_type": "code",
      "metadata": {
        "id": "pQqTHfxdfkoR",
        "colab_type": "code",
        "colab": {
          "base_uri": "https://localhost:8080/",
          "height": 281
        },
        "outputId": "76bc39f3-d0c4-40bb-e421-a8d8be722ce6"
      },
      "source": [
        "plt.scatter(X, Y)"
      ],
      "execution_count": null,
      "outputs": [
        {
          "output_type": "execute_result",
          "data": {
            "text/plain": [
              "<matplotlib.collections.PathCollection at 0x7ff0628c32b0>"
            ]
          },
          "metadata": {
            "tags": []
          },
          "execution_count": 44
        },
        {
          "output_type": "display_data",
          "data": {
            "image/png": "[encoded data removed]",
            "text/plain": [
              "<Figure size 432x288 with 1 Axes>"
            ]
          },
          "metadata": {
            "tags": [],
            "needs_background": "light"
          }
        }
      ]
    },
    {
      "cell_type": "code",
      "metadata": {
        "id": "WUbVR0P6VfA_",
        "colab_type": "code",
        "colab": {}
      },
      "source": [
        "#Splitting the data into Training and Test set\n",
        "\n",
        "X_train,X_test,Y_train,Y_test = train_test_split(X, Y, test_size= 0.3 ,random_state=0)"
      ],
      "execution_count": null,
      "outputs": []
    },
    {
      "cell_type": "code",
      "metadata": {
        "id": "MXwrnPh4VioI",
        "colab_type": "code",
        "colab": {
          "base_uri": "https://localhost:8080/",
          "height": 33
        },
        "outputId": "0743a43a-f53d-4b0a-c167-7122b4d3b0ba"
      },
      "source": [
        "#Fitting Simple Linear Regression to the Training Set\n",
        "from sklearn.linear_model import LinearRegression\n",
        "regressor = LinearRegression()\n",
        "regressor.fit(X_train, Y_train)"
      ],
      "execution_count": null,
      "outputs": [
        {
          "output_type": "execute_result",
          "data": {
            "text/plain": [
              "LinearRegression(copy_X=True, fit_intercept=True, n_jobs=None, normalize=False)"
            ]
          },
          "metadata": {
            "tags": []
          },
          "execution_count": 46
        }
      ]
    },
    {
      "cell_type": "code",
      "metadata": {
        "id": "_h2UPWTVV2zC",
        "colab_type": "code",
        "colab": {
          "base_uri": "https://localhost:8080/",
          "height": 66
        },
        "outputId": "937e69db-3f46-4846-e7aa-ab12eee72a62"
      },
      "source": [
        "#Predicting the Test Set Results\n",
        "Y_pred = regressor.predict(X_test)\n",
        "Y_pred"
      ],
      "execution_count": null,
      "outputs": [
        {
          "output_type": "execute_result",
          "data": {
            "text/plain": [
              "array([ 40817.78327049, 123188.08258899,  65154.46261459,  63282.41035735,\n",
              "       115699.87356004, 108211.66453108, 116635.89968866,  64218.43648597,\n",
              "        76386.77615802])"
            ]
          },
          "metadata": {
            "tags": []
          },
          "execution_count": 47
        }
      ]
    },
    {
      "cell_type": "code",
      "metadata": {
        "id": "jlxsF5L8V-OY",
        "colab_type": "code",
        "colab": {
          "base_uri": "https://localhost:8080/",
          "height": 294
        },
        "outputId": "38e6804a-7e67-42ab-92a3-a25228b0eca6"
      },
      "source": [
        "#Visualising the Training & Test Set Results\n",
        "plt.scatter(X_train, Y_train, color='red')\n",
        "plt.scatter(X_test, Y_test, color='green')\n",
        "plt.plot(X_train, regressor.predict(X_train), color='blue')\n",
        "plt.title('Salary Vs Experince(Training set)')\n",
        "plt.xlabel('Years of exp')\n",
        "plt.ylabel('Salary')\n",
        "plt.show()"
      ],
      "execution_count": null,
      "outputs": [
        {
          "output_type": "display_data",
          "data": {
            "image/png": "[encoded data removed]",
            "text/plain": [
              "<Figure size 432x288 with 1 Axes>"
            ]
          },
          "metadata": {
            "tags": [],
            "needs_background": "light"
          }
        }
      ]
    },
    {
      "cell_type": "code",
      "metadata": {
        "id": "pgz56LBmWcd4",
        "colab_type": "code",
        "colab": {}
      },
      "source": [
        ""
      ],
      "execution_count": null,
      "outputs": []
    },
    {
      "cell_type": "markdown",
      "metadata": {
        "id": "z3le-EexWaI5",
        "colab_type": "text"
      },
      "source": [
        "#Multivariable Linear Regression Model"
      ]
    },
    {
      "cell_type": "code",
      "metadata": {
        "id": "QsA-7kdKWDAH",
        "colab_type": "code",
        "colab": {}
      },
      "source": [
        "import numpy as np\n",
        "from sklearn.linear_model import LinearRegression\n",
        "\n",
        "x = [[0, 1], [5, 1], [15, 2], [25, 5], [35, 11], [45, 15], [55, 34], [60, 35]]\n",
        "y = [4, 5, 20, 14, 32, 22, 38, 43]\n",
        "x, y = np.array(x), np.array(y)"
      ],
      "execution_count": null,
      "outputs": []
    },
    {
      "cell_type": "code",
      "metadata": {
        "id": "zubalGyXWwUe",
        "colab_type": "code",
        "colab": {}
      },
      "source": [
        " print(x)\n",
        " print(y)\n",
        "\n",
        " #In multiple linear regression, x is a two-dimensional array with at least two columns, while y is usually a one-dimensional array. This is a simple example of multiple linear regression, and x has exactly two columns."
      ],
      "execution_count": null,
      "outputs": []
    },
    {
      "cell_type": "code",
      "metadata": {
        "id": "FuY1MEvEWz0O",
        "colab_type": "code",
        "colab": {}
      },
      "source": [
        "model = LinearRegression().fit(x, y)"
      ],
      "execution_count": null,
      "outputs": []
    },
    {
      "cell_type": "code",
      "metadata": {
        "id": "B7ezwDaBW2gw",
        "colab_type": "code",
        "colab": {}
      },
      "source": [
        "r_sq = model.score(x, y)\n",
        "print('coefficient of determination:', r_sq)\n",
        "print('intercept:', model.intercept_)\n",
        "print('slope:', model.coef_)\n",
        "\n",
        "#You obtain the value of 𝑅² using .score() and the values of the estimators of regression coefficients with .intercept_ and .coef_. Again, .intercept_ holds the bias 𝑏₀, while now .coef_ is an array containing 𝑏₁ and 𝑏₂ respectively.\n",
        "\n",
        "#In this example, the intercept is approximately 5.52, and this is the value of the predicted response when 𝑥₁ = 𝑥₂ = 0. The increase of 𝑥₁ by 1 yields the rise of the predicted response by 0.45. Similarly, when 𝑥₂ grows by 1, the response rises by 0.26."
      ],
      "execution_count": null,
      "outputs": []
    },
    {
      "cell_type": "code",
      "metadata": {
        "id": "ih0l_Rt_W9tU",
        "colab_type": "code",
        "colab": {}
      },
      "source": [
        "#Predictions also work the same way as in the case of simple linear regression:\n",
        "y_pred = model.predict(x)\n",
        "print('predicted response:', y_pred, sep='\\n')"
      ],
      "execution_count": null,
      "outputs": []
    },
    {
      "cell_type": "code",
      "metadata": {
        "id": "rY7gpan6XCLM",
        "colab_type": "code",
        "colab": {}
      },
      "source": [
        "#The predicted response is obtained with .predict(), which is very similar to the following:\n",
        "y_pred = model.intercept_ + np.sum(model.coef_ * x, axis=1)\n",
        "print('predicted response:', y_pred, sep='\\n')"
      ],
      "execution_count": null,
      "outputs": []
    },
    {
      "cell_type": "code",
      "metadata": {
        "id": "TVBMeVHlXFxL",
        "colab_type": "code",
        "colab": {}
      },
      "source": [
        "#You can apply this model to new data as well\n",
        "x_new = np.arange(10).reshape((-1, 2))\n",
        "print(x_new)\n",
        "\n",
        "y_new = model.predict(x_new)\n",
        "print(y_new)"
      ],
      "execution_count": null,
      "outputs": []
    },
    {
      "cell_type": "code",
      "metadata": {
        "id": "dXeSl8JPXN_5",
        "colab_type": "code",
        "colab": {}
      },
      "source": [
        ""
      ],
      "execution_count": null,
      "outputs": []
    },
    {
      "cell_type": "code",
      "metadata": {
        "id": "wlfw9zYkeMEv",
        "colab_type": "code",
        "colab": {}
      },
      "source": [
        "#Example-2"
      ],
      "execution_count": null,
      "outputs": []
    },
    {
      "cell_type": "code",
      "metadata": {
        "id": "TVyxfrEoeN-M",
        "colab_type": "code",
        "colab": {}
      },
      "source": [
        "import pandas as pd  \n",
        "import numpy as np  \n",
        "import matplotlib.pyplot as plt  \n",
        "import seaborn as seabornInstance \n",
        "from sklearn.model_selection import train_test_split \n",
        "from sklearn.linear_model import LinearRegression\n",
        "from sklearn import metrics"
      ],
      "execution_count": null,
      "outputs": []
    },
    {
      "cell_type": "code",
      "metadata": {
        "id": "95jpMlm9eQl4",
        "colab_type": "code",
        "colab": {}
      },
      "source": [
        "dataset = pd.read_csv('/content/winequality-red.csv')"
      ],
      "execution_count": null,
      "outputs": []
    },
    {
      "cell_type": "code",
      "metadata": {
        "id": "TOR-btUFebWt",
        "colab_type": "code",
        "colab": {}
      },
      "source": [
        "dataset.shape"
      ],
      "execution_count": null,
      "outputs": []
    },
    {
      "cell_type": "code",
      "metadata": {
        "id": "L-QguUYweeyN",
        "colab_type": "code",
        "colab": {}
      },
      "source": [
        "dataset.describe()"
      ],
      "execution_count": null,
      "outputs": []
    },
    {
      "cell_type": "code",
      "metadata": {
        "id": "IlcS9EAhehJb",
        "colab_type": "code",
        "colab": {}
      },
      "source": [
        "dataset.isnull().any()"
      ],
      "execution_count": null,
      "outputs": []
    },
    {
      "cell_type": "code",
      "metadata": {
        "id": "ueon-iUoekuv",
        "colab_type": "code",
        "colab": {}
      },
      "source": [
        "dataset = dataset.fillna(method='ffill')"
      ],
      "execution_count": null,
      "outputs": []
    },
    {
      "cell_type": "code",
      "metadata": {
        "id": "-6DLcZ6Rem1g",
        "colab_type": "code",
        "colab": {}
      },
      "source": [
        "X = dataset[['fixed acidity', 'volatile acidity', 'citric acid', 'residual sugar', 'chlorides', 'free sulfur dioxide', 'total sulfur dioxide', 'density', 'pH', 'sulphates','alcohol']].values\n",
        "y = dataset['quality'].values"
      ],
      "execution_count": null,
      "outputs": []
    },
    {
      "cell_type": "code",
      "metadata": {
        "id": "1WDKpFhteqF9",
        "colab_type": "code",
        "colab": {}
      },
      "source": [
        "plt.figure(figsize=(15,10))\n",
        "plt.tight_layout()\n",
        "seabornInstance.distplot(dataset['quality'])"
      ],
      "execution_count": null,
      "outputs": []
    },
    {
      "cell_type": "code",
      "metadata": {
        "id": "VKD9o8OKesyw",
        "colab_type": "code",
        "colab": {}
      },
      "source": [
        "X_train, X_test, y_train, y_test = train_test_split(X, y, test_size=0.2, random_state=0)"
      ],
      "execution_count": null,
      "outputs": []
    },
    {
      "cell_type": "code",
      "metadata": {
        "id": "3aWIaWUjevqv",
        "colab_type": "code",
        "colab": {}
      },
      "source": [
        "regressor = LinearRegression()  \n",
        "regressor.fit(X_train, y_train)"
      ],
      "execution_count": null,
      "outputs": []
    },
    {
      "cell_type": "code",
      "metadata": {
        "id": "kmXTPbF_eyLa",
        "colab_type": "code",
        "colab": {}
      },
      "source": [
        "coeff_df = pd.DataFrame(regressor.coef_, X.columns, columns=['Coefficient'])  \n",
        "coeff_df"
      ],
      "execution_count": null,
      "outputs": []
    },
    {
      "cell_type": "code",
      "metadata": {
        "id": "5dhVpzVGe1Wq",
        "colab_type": "code",
        "colab": {}
      },
      "source": [
        "y_pred = regressor.predict(X_test)"
      ],
      "execution_count": null,
      "outputs": []
    },
    {
      "cell_type": "code",
      "metadata": {
        "id": "BYL5m8Ffe8Tg",
        "colab_type": "code",
        "colab": {}
      },
      "source": [
        "df = pd.DataFrame({'Actual': y_test, 'Predicted': y_pred})\n",
        "df1 = df.head(25)\n",
        "print(df1)"
      ],
      "execution_count": null,
      "outputs": []
    },
    {
      "cell_type": "code",
      "metadata": {
        "id": "GUrGT47We-8A",
        "colab_type": "code",
        "colab": {}
      },
      "source": [
        "df1.plot(kind='bar',figsize=(10,8))\n",
        "plt.grid(which='major', linestyle='-', linewidth='0.5', color='green')\n",
        "plt.grid(which='minor', linestyle=':', linewidth='0.5', color='black')\n",
        "plt.show()"
      ],
      "execution_count": null,
      "outputs": []
    },
    {
      "cell_type": "code",
      "metadata": {
        "id": "GYEpG1ZRfHaL",
        "colab_type": "code",
        "colab": {}
      },
      "source": [
        "print('Mean Absolute Error:', metrics.mean_absolute_error(y_test, y_pred))  \n",
        "print('Mean Squared Error:', metrics.mean_squared_error(y_test, y_pred))  \n",
        "print('Root Mean Squared Error:', np.sqrt(metrics.mean_squared_error(y_test, y_pred)))"
      ],
      "execution_count": null,
      "outputs": []
    },
    {
      "cell_type": "code",
      "metadata": {
        "id": "dJ39vZkjfKz-",
        "colab_type": "code",
        "colab": {}
      },
      "source": [
        "'''There are many factors that may have contributed to this inaccuracy, for example :\n",
        "Need more data: We need to have a huge amount of data to get the best possible prediction.\n",
        "Bad assumptions: We made the assumption that this data has a linear relationship, but that might not be the case. Visualizing the data may help you determine that.\n",
        "Poor features: The features we used may not have had a high enough correlation to the values we were trying to predict.'''"
      ],
      "execution_count": null,
      "outputs": []
    }
  ]
}