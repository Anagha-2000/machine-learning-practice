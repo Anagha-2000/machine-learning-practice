{
  "nbformat": 4,
  "nbformat_minor": 0,
  "metadata": {
    "colab": {
      "name": " logistic_regression_final.ipynb",
      "provenance": [],
      "toc_visible": true
    },
    "kernelspec": {
      "name": "python3",
      "display_name": "Python 3"
    }
  },
  "cells": [
    {
      "cell_type": "markdown",
      "metadata": {
        "id": "fdOXvhC4i09A"
      },
      "source": [
        "#Simple Example of Logistic Regression"
      ]
    },
    {
      "cell_type": "code",
      "metadata": {
        "id": "S2VpxU1SzpwV"
      },
      "source": [
        "import pandas as pd\n",
        "from sklearn.model_selection import train_test_split\n",
        "from sklearn.linear_model import LogisticRegression\n",
        "from sklearn import metrics\n",
        "import seaborn as sn"
      ],
      "execution_count": null,
      "outputs": []
    },
    {
      "cell_type": "code",
      "metadata": {
        "id": "5GVpL5jPjACk"
      },
      "source": [
        "import pandas as pd\n",
        "candidates = {'gmat': [780,750,690,710,680,730,690,720,740,690,610,690,710,680,770,610,580,650,540,590,620,600,550,550,570,670,660,580,650,660,640,620,660,660,680,650,670,580,590,690],\n",
        "              'gpa': [4,3.9,3.3,3.7,3.9,3.7,2.3,3.3,3.3,1.7,2.7,3.7,3.7,3.3,3.3,3,2.7,3.7,2.7,2.3,3.3,2,2.3,2.7,3,3.3,3.7,2.3,3.7,3.3,3,2.7,4,3.3,3.3,2.3,2.7,3.3,1.7,3.7],\n",
        "              'work_experience': [3,4,3,5,4,6,1,4,5,1,3,5,6,4,3,1,4,6,2,3,2,1,4,1,2,6,4,2,6,5,1,2,4,6,5,1,2,1,4,5],\n",
        "              'admitted': [1,1,0,1,0,1,0,1,1,0,0,1,1,0,1,0,0,1,0,0,1,0,0,0,0,1,1,0,1,1,0,0,1,1,1,0,0,0,0,1]\n",
        "              }\n",
        "\n",
        "df = pd.DataFrame(candidates,columns= ['gmat', 'gpa','work_experience','admitted'])\n",
        "df.head()"
      ],
      "execution_count": null,
      "outputs": []
    },
    {
      "cell_type": "code",
      "metadata": {
        "id": "SFEWKYt4jEKL"
      },
      "source": [
        "X = df[['gmat', 'gpa','work_experience']]\n",
        "y = df['admitted']"
      ],
      "execution_count": null,
      "outputs": []
    },
    {
      "cell_type": "code",
      "metadata": {
        "id": "DyuYEEq7jGoU"
      },
      "source": [
        "X_train,X_test,y_train,y_test = train_test_split(X,y,test_size=0.25,random_state=0)"
      ],
      "execution_count": null,
      "outputs": []
    },
    {
      "cell_type": "code",
      "metadata": {
        "id": "f9CFLrZjjS1U"
      },
      "source": [
        "logistic_regression= LogisticRegression()\n",
        "logistic_regression.fit(X_train,y_train)\n",
        "y_pred=logistic_regression.predict(X_test)"
      ],
      "execution_count": null,
      "outputs": []
    },
    {
      "cell_type": "code",
      "metadata": {
        "id": "IQH7MukZB6VF"
      },
      "source": [
        "y_pred"
      ],
      "execution_count": null,
      "outputs": []
    },
    {
      "cell_type": "code",
      "metadata": {
        "id": "jy0jPr0YjVb0"
      },
      "source": [
        "confusion_matrix = pd.crosstab(y_test, y_pred, rownames=['Actual'], colnames=['Predicted'])\n",
        "sn.heatmap(confusion_matrix, annot=True)"
      ],
      "execution_count": null,
      "outputs": []
    },
    {
      "cell_type": "code",
      "metadata": {
        "id": "Q3liRbl5jacr"
      },
      "source": [
        "print('Accuracy: ',metrics.accuracy_score(y_test, y_pred))"
      ],
      "execution_count": null,
      "outputs": []
    },
    {
      "cell_type": "markdown",
      "metadata": {
        "id": "ZD9EQ1mnHP8Y"
      },
      "source": [
        "#Second Example"
      ]
    },
    {
      "cell_type": "code",
      "metadata": {
        "id": "9dOQBJJZoZ1O"
      },
      "source": [
        "#Logistic Regression\n",
        "\n",
        "# Importing the libraries\n",
        "import numpy as np\n",
        "import matplotlib.pyplot as plt\n",
        "import pandas as pd"
      ],
      "execution_count": null,
      "outputs": []
    },
    {
      "cell_type": "code",
      "metadata": {
        "id": "l4R4Eyhgov4W"
      },
      "source": [
        "# Importing the dataset\n",
        "dataset = pd.read_csv('/content/Ads.csv')\n",
        "x = dataset.iloc[:, [2,3]].values\n",
        "y = dataset.iloc[:, 4].values\n",
        "x, y"
      ],
      "execution_count": null,
      "outputs": []
    },
    {
      "cell_type": "code",
      "metadata": {
        "id": "DqhsnfUepVj3"
      },
      "source": [
        "# Splitting the dataset into the Training set and Test set\n",
        "from sklearn.model_selection import train_test_split\n",
        "x_train, x_test, y_train, y_test = train_test_split(x, y, test_size = 0.25)"
      ],
      "execution_count": null,
      "outputs": []
    },
    {
      "cell_type": "code",
      "metadata": {
        "id": "XetGIRyjphfc",
        "outputId": "d90d458c-9cae-4ee1-cda2-db56bca078ea",
        "colab": {
          "base_uri": "https://localhost:8080/",
          "height": 1000
        }
      },
      "source": [
        "# Feature Scaling\n",
        "from sklearn.preprocessing import StandardScaler\n",
        "sc_x = StandardScaler()\n",
        "x_train = sc_x.fit_transform(x_train)\n",
        "x_test = sc_x.transform(x_test)\n",
        "x_train, x_test"
      ],
      "execution_count": null,
      "outputs": [
        {
          "output_type": "execute_result",
          "data": {
            "text/plain": [
              "(array([[ 0.20810017,  0.03231723],\n",
              "        [ 2.12019975,  0.937589  ],\n",
              "        [ 0.20810017, -0.31811055],\n",
              "        [ 0.39931013,  1.11280289],\n",
              "        [ 0.11249519,  0.76237511],\n",
              "        [ 0.20810017,  0.14912649],\n",
              "        [-0.65234464,  0.5579589 ],\n",
              "        [-0.74794962,  0.5579589 ],\n",
              "        [-1.03476456, -1.5446078 ],\n",
              "        [ 0.78173005, -1.36939391],\n",
              "        [-0.07871477,  0.20753112],\n",
              "        [-1.41718447, -0.11369435],\n",
              "        [-1.89520937, -0.05528972],\n",
              "        [-0.26992472, -1.25258464],\n",
              "        [-1.03476456, -0.34731287],\n",
              "        [-0.8435546 ,  0.14912649],\n",
              "        [-0.17431975,  1.60924225],\n",
              "        [ 1.92898979,  0.90838669],\n",
              "        [-1.51278945, -0.20130129],\n",
              "        [ 1.4509649 ,  0.06151954],\n",
              "        [-0.55673966,  0.47035196],\n",
              "        [-1.70399941, -0.98976381],\n",
              "        [-0.07871477,  1.95967004],\n",
              "        [-0.26992472, -0.58093139],\n",
              "        [ 2.12019975,  0.38274501],\n",
              "        [-0.46113468,  2.31009782],\n",
              "        [ 0.97294   , -1.19418001],\n",
              "        [ 1.06854498, -1.22338233],\n",
              "        [ 1.92898979,  2.16408625],\n",
              "        [ 0.11249519,  0.26593575],\n",
              "        [-1.32157949,  0.41194733],\n",
              "        [-0.93915958,  0.44114964],\n",
              "        [-1.13036954, -1.01896612],\n",
              "        [-0.26992472, -0.49332445],\n",
              "        [ 1.06854498, -0.98976381],\n",
              "        [-1.79960439,  0.00311491],\n",
              "        [ 0.97294   ,  0.11992417],\n",
              "        [ 0.30370515,  0.03231723],\n",
              "        [-0.65234464,  0.11992417],\n",
              "        [-0.3655297 ,  0.06151954],\n",
              "        [-0.26992472, -1.31098927],\n",
              "        [-1.79960439, -1.42779854],\n",
              "        [ 0.30370515, -0.55172908],\n",
              "        [ 0.11249519,  0.20753112],\n",
              "        [ 1.06854498,  2.0764793 ],\n",
              "        [ 1.54656988,  0.99599363],\n",
              "        [ 0.11249519,  1.52163531],\n",
              "        [-1.60839443,  0.52875659],\n",
              "        [-1.13036954, -1.60301243],\n",
              "        [-0.26992472, -0.90215686],\n",
              "        [ 2.12019975, -1.04816844],\n",
              "        [ 0.87733502, -0.66853834],\n",
              "        [-0.26992472,  0.52875659],\n",
              "        [ 1.73777984,  0.99599363],\n",
              "        [-0.26992472, -1.39859622],\n",
              "        [-1.13036954,  0.06151954],\n",
              "        [ 0.30370515,  0.49955427],\n",
              "        [ 1.4509649 ,  0.99599363],\n",
              "        [ 0.78173005,  1.37562373],\n",
              "        [ 0.97294   , -1.07737075],\n",
              "        [ 0.20810017,  0.23673344],\n",
              "        [-0.07871477, -0.49332445],\n",
              "        [-0.17431975,  0.84998206],\n",
              "        [ 0.11249519, -0.81454991],\n",
              "        [-1.41718447,  0.3535427 ],\n",
              "        [ 2.12019975, -0.69774065],\n",
              "        [ 1.06854498,  0.5579589 ],\n",
              "        [ 0.30370515, -0.72694297],\n",
              "        [ 0.01689021,  0.29513807],\n",
              "        [-0.26992472,  0.61636353],\n",
              "        [-0.46113468, -1.13577538],\n",
              "        [ 1.64217486, -0.90215686],\n",
              "        [-0.3655297 , -0.7853476 ],\n",
              "        [ 0.11249519, -0.81454991],\n",
              "        [ 0.11249519,  0.03231723],\n",
              "        [-1.89520937, -0.52252676],\n",
              "        [-1.60839443,  0.06151954],\n",
              "        [ 2.12019975, -0.81454991],\n",
              "        [ 0.01689021, -0.43491982],\n",
              "        [-0.07871477,  0.06151954],\n",
              "        [-1.13036954, -1.1649777 ],\n",
              "        [-0.26992472, -0.58093139],\n",
              "        [-1.13036954, -0.7853476 ],\n",
              "        [ 1.06854498, -0.90215686],\n",
              "        [-1.03476456,  0.5579589 ],\n",
              "        [-0.07871477, -0.43491982],\n",
              "        [ 0.01689021,  1.25881447],\n",
              "        [-0.74794962,  1.34642142],\n",
              "        [ 1.16414996, -0.98976381],\n",
              "        [-0.46113468,  1.25881447],\n",
              "        [-1.03476456, -0.37651519],\n",
              "        [ 1.35535992,  2.33930014],\n",
              "        [-0.8435546 ,  2.28089551],\n",
              "        [ 0.39931013,  2.31009782],\n",
              "        [-1.41718447, -0.63933602],\n",
              "        [-1.79960439,  0.44114964],\n",
              "        [ 0.11249519,  1.87206309],\n",
              "        [ 0.30370515, -0.20130129],\n",
              "        [-1.03476456, -0.46412213],\n",
              "        [ 0.20810017, -0.37651519],\n",
              "        [-0.8435546 , -0.66853834],\n",
              "        [ 0.97294   , -1.1649777 ],\n",
              "        [ 1.4509649 ,  0.3535427 ],\n",
              "        [-1.79960439, -1.28178696],\n",
              "        [-0.55673966, -1.51540548],\n",
              "        [ 0.11249519,  0.09072186],\n",
              "        [-1.70399941,  0.3535427 ],\n",
              "        [ 0.01689021, -0.25970592],\n",
              "        [-1.13036954,  0.29513807],\n",
              "        [ 0.68612507, -0.72694297],\n",
              "        [-0.3655297 ,  1.3172191 ],\n",
              "        [-1.32157949, -0.34731287],\n",
              "        [-0.93915958, -0.31811055],\n",
              "        [ 0.97294   ,  1.78445615],\n",
              "        [-1.03476456, -1.45700085],\n",
              "        [-1.03476456,  0.41194733],\n",
              "        [-0.65234464,  1.40482605],\n",
              "        [ 1.83338481, -0.28890824],\n",
              "        [ 0.30370515, -0.52252676],\n",
              "        [-1.22597451, -1.39859622],\n",
              "        [ 0.20810017, -0.14289666],\n",
              "        [ 0.39931013, -0.14289666],\n",
              "        [-0.65234464,  0.17832881],\n",
              "        [ 2.12019975,  1.11280289],\n",
              "        [-0.74794962, -0.23050361],\n",
              "        [-0.07871477, -0.52252676],\n",
              "        [ 0.68612507, -1.28178696],\n",
              "        [ 0.11249519,  0.14912649],\n",
              "        [ 0.97294   , -1.01896612],\n",
              "        [-1.22597451,  0.49955427],\n",
              "        [-1.32157949, -1.25258464],\n",
              "        [ 1.92898979, -0.66853834],\n",
              "        [-1.13036954,  0.47035196],\n",
              "        [-1.41718447, -1.22338233],\n",
              "        [ 1.16414996, -1.45700085],\n",
              "        [-1.89520937,  0.47035196],\n",
              "        [ 0.39931013,  0.00311491],\n",
              "        [ 0.87733502, -1.31098927],\n",
              "        [ 0.39931013, -0.46412213],\n",
              "        [-0.46113468, -0.0260874 ],\n",
              "        [-1.70399941, -0.61013371],\n",
              "        [-1.13036954,  0.32434038],\n",
              "        [ 0.68612507, -1.39859622],\n",
              "        [-0.65234464, -1.60301243],\n",
              "        [ 1.83338481, -1.07737075],\n",
              "        [-0.26992472, -0.66853834],\n",
              "        [ 0.20810017, -0.37651519],\n",
              "        [-0.17431975,  0.14912649],\n",
              "        [ 0.39931013,  0.58716122],\n",
              "        [ 1.54656988, -1.28178696],\n",
              "        [-1.22597451,  0.58716122],\n",
              "        [-0.07871477, -0.23050361],\n",
              "        [-0.93915958, -0.75614528],\n",
              "        [-0.74794962, -0.61013371],\n",
              "        [ 0.01689021, -0.58093139],\n",
              "        [ 0.30370515,  0.26593575],\n",
              "        [-1.32157949, -1.10657307],\n",
              "        [ 0.20810017, -0.66853834],\n",
              "        [-0.07871477,  0.26593575],\n",
              "        [-0.55673966,  2.33930014],\n",
              "        [-1.70399941, -1.36939391],\n",
              "        [-0.26992472, -0.37651519],\n",
              "        [ 0.59052009, -0.90215686],\n",
              "        [-0.26992472, -0.14289666],\n",
              "        [ 0.20810017, -0.28890824],\n",
              "        [-0.07871477, -0.37651519],\n",
              "        [-0.26992472, -0.25970592],\n",
              "        [-0.07871477,  0.00311491],\n",
              "        [ 0.01689021,  0.03231723],\n",
              "        [ 0.78173005,  0.26593575],\n",
              "        [ 0.30370515, -0.52252676],\n",
              "        [ 0.78173005,  0.11992417],\n",
              "        [ 0.87733502, -0.58093139],\n",
              "        [-0.8435546 ,  0.29513807],\n",
              "        [ 0.30370515,  0.06151954],\n",
              "        [-0.26992472,  0.14912649],\n",
              "        [-1.13036954, -1.57381011],\n",
              "        [ 0.87733502, -0.7853476 ],\n",
              "        [-0.26992472,  0.20753112],\n",
              "        [-1.13036954, -1.60301243],\n",
              "        [-0.8435546 , -0.7853476 ],\n",
              "        [-1.89520937, -0.75614528],\n",
              "        [-0.74794962,  0.29513807],\n",
              "        [-0.3655297 , -1.31098927],\n",
              "        [-0.07871477,  0.23673344],\n",
              "        [-0.26992472,  0.03231723],\n",
              "        [-0.26992472,  0.09072186],\n",
              "        [ 0.78173005, -0.84375223],\n",
              "        [-0.65234464, -1.51540548],\n",
              "        [ 0.87733502, -1.04816844],\n",
              "        [ 0.87733502,  2.16408625],\n",
              "        [-0.8435546 ,  0.38274501],\n",
              "        [ 1.06854498,  0.11992417],\n",
              "        [-0.55673966,  1.90126541],\n",
              "        [-0.17431975,  1.63844457],\n",
              "        [ 1.35535992,  0.58716122],\n",
              "        [ 1.4509649 , -1.04816844],\n",
              "        [ 0.87733502, -1.36939391],\n",
              "        [ 0.97294   ,  2.0764793 ],\n",
              "        [ 1.16414996, -0.75614528],\n",
              "        [ 0.87733502,  1.02519595],\n",
              "        [-1.79960439, -1.48620317],\n",
              "        [ 0.68612507, -1.10657307],\n",
              "        [ 0.30370515,  0.29513807],\n",
              "        [ 0.59052009,  2.01807467],\n",
              "        [ 2.02459477,  0.52875659],\n",
              "        [-1.03476456, -1.13577538],\n",
              "        [-1.32157949, -1.36939391],\n",
              "        [-0.65234464, -1.04816844],\n",
              "        [-0.93915958,  0.49955427],\n",
              "        [-0.26992472,  2.25169319],\n",
              "        [ 0.87733502,  1.25881447],\n",
              "        [ 1.35535992, -1.42779854],\n",
              "        [ 0.87733502, -1.45700085],\n",
              "        [-0.26992472, -0.43491982],\n",
              "        [ 0.87733502, -1.1649777 ],\n",
              "        [ 1.25975494,  2.22249088],\n",
              "        [-1.03476456,  1.95967004],\n",
              "        [ 1.54656988,  1.11280289],\n",
              "        [ 0.20810017, -0.25970592],\n",
              "        [ 2.02459477,  0.17832881],\n",
              "        [ 2.12019975, -0.81454991],\n",
              "        [ 0.97294   , -0.84375223],\n",
              "        [ 1.16414996,  0.52875659],\n",
              "        [ 1.64217486,  1.60924225],\n",
              "        [ 0.20810017, -0.37651519],\n",
              "        [-0.93915958,  1.55083762],\n",
              "        [-0.93915958, -0.31811055],\n",
              "        [-0.65234464, -0.11369435],\n",
              "        [-0.26992472,  1.11280289],\n",
              "        [ 1.25975494, -1.36939391],\n",
              "        [ 0.39931013, -0.17209898],\n",
              "        [ 0.39931013,  0.26593575],\n",
              "        [ 0.30370515,  0.06151954],\n",
              "        [-0.8435546 , -1.22338233],\n",
              "        [ 0.49491511,  1.72605152],\n",
              "        [ 0.20810017,  1.08360058],\n",
              "        [-1.79960439, -1.31098927],\n",
              "        [-0.74794962,  1.08360058],\n",
              "        [ 1.64217486,  1.75525383],\n",
              "        [ 0.39931013,  0.99599363],\n",
              "        [ 0.39931013,  0.29513807],\n",
              "        [ 0.87733502,  1.08360058],\n",
              "        [-0.46113468, -0.28890824],\n",
              "        [-0.17431975, -0.28890824],\n",
              "        [-1.70399941,  0.47035196],\n",
              "        [ 0.01689021, -0.58093139],\n",
              "        [ 2.02459477, -1.19418001],\n",
              "        [-0.65234464, -0.34731287],\n",
              "        [-0.93915958, -0.43491982],\n",
              "        [ 2.02459477,  0.38274501],\n",
              "        [ 0.78173005,  0.76237511],\n",
              "        [-1.13036954,  0.41194733],\n",
              "        [ 1.06854498,  0.47035196],\n",
              "        [ 0.97294   ,  1.98887235],\n",
              "        [-0.55673966, -1.51540548],\n",
              "        [-0.74794962, -1.5446078 ],\n",
              "        [-0.07871477,  0.11992417],\n",
              "        [ 0.97294   ,  1.87206309],\n",
              "        [-0.46113468, -0.7853476 ],\n",
              "        [ 0.01689021, -0.31811055],\n",
              "        [ 1.54656988,  0.00311491],\n",
              "        [ 1.06854498, -0.14289666],\n",
              "        [-0.17431975, -0.46412213],\n",
              "        [-0.74794962,  1.90126541],\n",
              "        [-0.93915958, -1.10657307],\n",
              "        [ 1.35535992, -0.93135918],\n",
              "        [ 1.4509649 ,  2.13488393],\n",
              "        [ 0.11249519,  0.03231723],\n",
              "        [-0.26992472, -0.31811055],\n",
              "        [-0.07871477,  2.22249088],\n",
              "        [ 0.39931013, -0.46412213],\n",
              "        [-0.26992472,  0.79157743],\n",
              "        [-0.07871477,  2.16408625],\n",
              "        [-1.13036954, -0.52252676],\n",
              "        [-0.07871477,  0.03231723],\n",
              "        [ 0.30370515, -0.31811055],\n",
              "        [-0.8435546 , -0.25970592],\n",
              "        [-0.07871477,  0.14912649],\n",
              "        [-1.60839443, -0.05528972],\n",
              "        [ 0.30370515,  0.06151954],\n",
              "        [ 1.35535992,  1.28801679],\n",
              "        [ 0.78173005, -1.39859622],\n",
              "        [-0.26992472,  0.14912649],\n",
              "        [-1.03476456,  0.52875659],\n",
              "        [-0.8435546 ,  0.38274501],\n",
              "        [-0.93915958,  0.41194733],\n",
              "        [-1.32157949,  0.5579589 ],\n",
              "        [-1.13036954,  0.29513807],\n",
              "        [-0.55673966,  1.37562373],\n",
              "        [-1.41718447, -1.45700085],\n",
              "        [ 0.68612507,  0.26593575],\n",
              "        [-0.3655297 , -0.7853476 ],\n",
              "        [-0.55673966,  1.37562373],\n",
              "        [-0.17431975,  2.16408625],\n",
              "        [ 0.87733502, -0.55172908],\n",
              "        [ 1.83338481,  1.52163531],\n",
              "        [-0.74794962,  0.49955427],\n",
              "        [ 0.97294   , -1.07737075],\n",
              "        [ 1.06854498,  0.52875659]]), array([[ 1.25975494,  1.87206309],\n",
              "        [-0.26992472, -0.34731287],\n",
              "        [ 0.01689021, -0.14289666],\n",
              "        [ 0.49491511,  1.22961216],\n",
              "        [-1.32157949, -1.48620317],\n",
              "        [-1.51278945, -0.43491982],\n",
              "        [ 0.01689021, -0.55172908],\n",
              "        [ 0.39931013,  0.09072186],\n",
              "        [-0.93915958,  0.26593575],\n",
              "        [ 0.87733502, -0.61013371],\n",
              "        [-1.22597451,  0.26593575],\n",
              "        [-1.03476456,  0.76237511],\n",
              "        [-0.55673966,  0.87918437],\n",
              "        [ 0.78173005, -0.31811055],\n",
              "        [ 0.78173005, -1.10657307],\n",
              "        [-1.22597451, -1.07737075],\n",
              "        [-1.70399941,  0.11992417],\n",
              "        [-1.03476456, -0.34731287],\n",
              "        [ 1.92898979, -1.36939391],\n",
              "        [-1.32157949, -0.43491982],\n",
              "        [ 0.49491511,  1.84286078],\n",
              "        [ 0.30370515,  0.06151954],\n",
              "        [-1.32157949, -0.43491982],\n",
              "        [-0.26992472, -0.75614528],\n",
              "        [ 0.30370515, -1.1649777 ],\n",
              "        [-1.03476456,  0.58716122],\n",
              "        [-0.55673966,  1.46323068],\n",
              "        [ 2.02459477,  1.75525383],\n",
              "        [-0.93915958,  0.5579589 ],\n",
              "        [-0.17431975, -0.20130129],\n",
              "        [-1.41718447, -0.20130129],\n",
              "        [-1.79960439,  0.17832881],\n",
              "        [-1.51278945, -1.51540548],\n",
              "        [-1.13036954,  1.40482605],\n",
              "        [ 2.02459477,  2.13488393],\n",
              "        [ 0.11249519,  1.87206309],\n",
              "        [-0.46113468, -0.55172908],\n",
              "        [ 0.78173005, -1.22338233],\n",
              "        [-1.13036954, -1.5446078 ],\n",
              "        [-1.51278945,  0.32434038],\n",
              "        [ 1.73777984, -0.28890824],\n",
              "        [-1.70399941,  0.3535427 ],\n",
              "        [-0.17431975,  1.40482605],\n",
              "        [ 0.39931013,  0.14912649],\n",
              "        [ 1.73777984,  1.84286078],\n",
              "        [ 0.97294   ,  0.76237511],\n",
              "        [-0.74794962,  0.26593575],\n",
              "        [ 1.83338481, -1.28178696],\n",
              "        [-0.26992472, -1.36939391],\n",
              "        [-0.8435546 , -0.7853476 ],\n",
              "        [-1.22597451,  0.29513807],\n",
              "        [ 2.02459477, -0.81454991],\n",
              "        [ 0.20810017,  0.14912649],\n",
              "        [-0.17431975, -0.52252676],\n",
              "        [-0.07871477,  0.29513807],\n",
              "        [-1.60839443, -1.57381011],\n",
              "        [-0.26992472, -0.93135918],\n",
              "        [-0.26992472,  0.26593575],\n",
              "        [ 0.68612507, -1.39859622],\n",
              "        [ 0.39931013,  0.29513807],\n",
              "        [ 0.01689021,  0.03231723],\n",
              "        [-0.17431975, -0.58093139],\n",
              "        [ 0.11249519, -0.25970592],\n",
              "        [ 0.30370515, -0.28890824],\n",
              "        [-0.3655297 ,  1.22961216],\n",
              "        [ 0.11249519, -0.31811055],\n",
              "        [ 0.20810017,  2.10568161],\n",
              "        [ 0.39931013, -0.14289666],\n",
              "        [-0.93915958, -0.96056149],\n",
              "        [-0.65234464, -0.05528972],\n",
              "        [ 1.35535992,  1.98887235],\n",
              "        [-0.17431975, -1.07737075],\n",
              "        [-1.89520937,  0.3535427 ],\n",
              "        [-0.65234464,  0.03231723],\n",
              "        [-1.13036954, -1.10657307],\n",
              "        [-0.07871477, -1.07737075],\n",
              "        [ 0.97294   ,  1.43402836],\n",
              "        [-0.46113468, -0.84375223],\n",
              "        [ 1.92898979,  0.7331728 ],\n",
              "        [ 1.92898979, -0.93135918],\n",
              "        [-0.26992472,  0.06151954],\n",
              "        [ 0.97294   ,  0.58716122],\n",
              "        [ 1.06854498, -1.22338233],\n",
              "        [ 0.01689021, -0.25970592],\n",
              "        [-1.51278945, -1.25258464],\n",
              "        [-0.26992472, -0.28890824],\n",
              "        [ 0.11249519,  1.05439826],\n",
              "        [-0.74794962, -1.60301243],\n",
              "        [-0.26992472, -1.45700085],\n",
              "        [ 0.78173005,  0.52875659],\n",
              "        [ 0.39931013, -0.49332445],\n",
              "        [-0.07871477,  0.67476817],\n",
              "        [-0.46113468, -1.22338233],\n",
              "        [ 0.01689021,  1.22961216],\n",
              "        [ 1.83338481,  0.11992417],\n",
              "        [-0.07871477,  0.29513807],\n",
              "        [ 0.68612507,  1.78445615],\n",
              "        [-0.26992472,  0.06151954],\n",
              "        [ 0.20810017,  0.06151954],\n",
              "        [ 0.78173005,  0.3535427 ]]))"
            ]
          },
          "metadata": {
            "tags": []
          },
          "execution_count": 108
        }
      ]
    },
    {
      "cell_type": "markdown",
      "metadata": {
        "id": "VFen8fOaHUs2"
      },
      "source": [
        "#Logistic Regression"
      ]
    },
    {
      "cell_type": "code",
      "metadata": {
        "id": "nwStfW_kpmFL",
        "outputId": "973a33be-996f-4b61-b12b-76b209164e6c",
        "colab": {
          "base_uri": "https://localhost:8080/",
          "height": 100
        }
      },
      "source": [
        "#Fitting Logistic Regresssion to Training Set\n",
        "from sklearn.linear_model import LogisticRegression\n",
        "classifier = LogisticRegression(random_state =0)\n",
        "classifier.fit(x_train,y_train)"
      ],
      "execution_count": null,
      "outputs": [
        {
          "output_type": "execute_result",
          "data": {
            "text/plain": [
              "LogisticRegression(C=1.0, class_weight=None, dual=False, fit_intercept=True,\n",
              "                   intercept_scaling=1, l1_ratio=None, max_iter=100,\n",
              "                   multi_class='auto', n_jobs=None, penalty='l2',\n",
              "                   random_state=0, solver='lbfgs', tol=0.0001, verbose=0,\n",
              "                   warm_start=False)"
            ]
          },
          "metadata": {
            "tags": []
          },
          "execution_count": 109
        }
      ]
    },
    {
      "cell_type": "markdown",
      "metadata": {
        "id": "W-BqJeoeHZwu"
      },
      "source": [
        "#Predicting the results"
      ]
    },
    {
      "cell_type": "code",
      "metadata": {
        "id": "jasS-KSRpvoV",
        "outputId": "9de056bc-ca23-40a4-c3c1-1b5c1697d7d9",
        "colab": {
          "base_uri": "https://localhost:8080/",
          "height": 100
        }
      },
      "source": [
        "#Predicting the Test Set Results\n",
        "y_pred = classifier.predict(x_test)\n",
        "y_pred"
      ],
      "execution_count": null,
      "outputs": [
        {
          "output_type": "execute_result",
          "data": {
            "text/plain": [
              "array([1, 0, 0, 1, 0, 0, 0, 1, 0, 1, 0, 0, 0, 1, 0, 0, 0, 0, 1, 0, 1, 0,\n",
              "       0, 0, 0, 0, 0, 1, 0, 0, 0, 0, 0, 0, 1, 1, 0, 0, 0, 0, 1, 0, 1, 1,\n",
              "       1, 1, 0, 1, 0, 0, 0, 1, 0, 0, 0, 0, 0, 0, 0, 1, 0, 0, 0, 0, 0, 0,\n",
              "       1, 0, 0, 0, 1, 0, 0, 0, 0, 0, 1, 0, 1, 1, 0, 1, 1, 0, 0, 0, 1, 0,\n",
              "       0, 1, 0, 0, 0, 1, 1, 0, 1, 0, 0, 1])"
            ]
          },
          "metadata": {
            "tags": []
          },
          "execution_count": 110
        }
      ]
    },
    {
      "cell_type": "markdown",
      "metadata": {
        "id": "dvE2gMRsHJVF"
      },
      "source": [
        "#Cross Validation"
      ]
    },
    {
      "cell_type": "code",
      "metadata": {
        "id": "G81Do5wmGPTM",
        "outputId": "3ae57780-c7c4-4fab-ce05-a307718061b5",
        "colab": {
          "base_uri": "https://localhost:8080/",
          "height": 50
        }
      },
      "source": [
        "from sklearn.model_selection import cross_val_score\n",
        "\n",
        "scores = cross_val_score(classifier, x_train , y_train, cv=8)\n",
        "print('Cross-Validation Accuracy Scores', scores)"
      ],
      "execution_count": null,
      "outputs": [
        {
          "output_type": "stream",
          "text": [
            "Cross-Validation Accuracy Scores [0.92105263 0.94736842 0.89473684 0.78947368 0.75675676 0.78378378\n",
            " 0.83783784 0.86486486]\n"
          ],
          "name": "stdout"
        }
      ]
    },
    {
      "cell_type": "markdown",
      "metadata": {
        "id": "lxvxDhhTHDsn"
      },
      "source": [
        "#Confusion Matrix"
      ]
    },
    {
      "cell_type": "code",
      "metadata": {
        "id": "PhQ-HImDsuL7",
        "outputId": "3c34ec9d-f3b7-49c2-db3c-fe356587c61a",
        "colab": {
          "base_uri": "https://localhost:8080/",
          "height": 50
        }
      },
      "source": [
        "#Making the Confusion Matrix\n",
        "from sklearn.metrics import confusion_matrix\n",
        "cm = confusion_matrix(y_test,y_pred)\n",
        "cm"
      ],
      "execution_count": null,
      "outputs": [
        {
          "output_type": "execute_result",
          "data": {
            "text/plain": [
              "array([[61,  8],\n",
              "       [ 8, 23]])"
            ]
          },
          "metadata": {
            "tags": []
          },
          "execution_count": 113
        }
      ]
    },
    {
      "cell_type": "code",
      "metadata": {
        "id": "GqKeBRSDjGfg",
        "outputId": "a6b73115-1dac-4b35-814b-32a3080b6a87",
        "colab": {
          "base_uri": "https://localhost:8080/",
          "height": 281
        }
      },
      "source": [
        "import seaborn as sns\n",
        "sns.heatmap(cm, annot=True, cmap='Blues')"
      ],
      "execution_count": null,
      "outputs": [
        {
          "output_type": "execute_result",
          "data": {
            "text/plain": [
              "<matplotlib.axes._subplots.AxesSubplot at 0x7f866d7ed630>"
            ]
          },
          "metadata": {
            "tags": []
          },
          "execution_count": 114
        },
        {
          "output_type": "display_data",
          "data": {
            "image/png": "[encoded data removed]",
            "text/plain": [
              "<Figure size 432x288 with 2 Axes>"
            ]
          },
          "metadata": {
            "tags": [],
            "needs_background": "light"
          }
        }
      ]
    },
    {
      "cell_type": "code",
      "metadata": {
        "id": "VVvdlSFekc3r",
        "outputId": "e6b5aae0-f151-465e-9f30-799d5cef1688",
        "colab": {
          "base_uri": "https://localhost:8080/",
          "height": 281
        }
      },
      "source": [
        "sns.heatmap(cm/np.sum(cm), annot=True, \n",
        "            fmt='.2%', cmap='Blues')"
      ],
      "execution_count": null,
      "outputs": [
        {
          "output_type": "execute_result",
          "data": {
            "text/plain": [
              "<matplotlib.axes._subplots.AxesSubplot at 0x7f866d717208>"
            ]
          },
          "metadata": {
            "tags": []
          },
          "execution_count": 115
        },
        {
          "output_type": "display_data",
          "data": {
            "image/png": "[encoded data removed]",
            "text/plain": [
              "<Figure size 432x288 with 2 Axes>"
            ]
          },
          "metadata": {
            "tags": [],
            "needs_background": "light"
          }
        }
      ]
    },
    {
      "cell_type": "markdown",
      "metadata": {
        "id": "894pdbVHHexH"
      },
      "source": [
        "#Analysing result parameters"
      ]
    },
    {
      "cell_type": "code",
      "metadata": {
        "id": "luwxTPsQp08j",
        "outputId": "6934b9e2-95f8-4c05-c702-87e02103c53e",
        "colab": {
          "base_uri": "https://localhost:8080/",
          "height": 347
        }
      },
      "source": [
        "#Visualizing the Training Set Results\n",
        "from matplotlib.colors import ListedColormap\n",
        "x_set , y_set = x_train ,y_train\n",
        "x1, x2 = np.meshgrid(np.arange(start = x_set[:,0].min()-1,stop =x_set[:,0].max()+1,step=0.01),\n",
        "                    np.arange(start = x_set[:,1].min()-1,stop =x_set[:,1].max()+1,step=0.01))\n",
        "plt.contour(x1,x2,classifier.predict(np.array([x1.ravel(),x2.ravel()]).T).reshape(x1.shape),\n",
        "            alpha= 0.75 ,cmap = ListedColormap(('red','green')))\n",
        "plt.xlim(x1.min() ,x1.max())\n",
        "plt.ylim(x2.min() ,x2.max())\n",
        "for i,j in enumerate(np.unique(y_set)):\n",
        "    plt.scatter(x_set[y_set == j ,0], x_set[y_set == j,1],\n",
        "                c= ListedColormap(('red' , 'green'))(i) , label = j)\n",
        "plt.title('Logistic Regression(Training Set)')\n",
        "plt.xlabel('Age')\n",
        "plt.ylabel('Estimated Salary')\n",
        "plt.legend()\n",
        "plt.show()"
      ],
      "execution_count": null,
      "outputs": [
        {
          "output_type": "stream",
          "text": [
            "*c* argument looks like a single numeric RGB or RGBA sequence, which should be avoided as value-mapping will have precedence in case its length matches with *x* & *y*.  Please use the *color* keyword-argument or provide a 2-D array with a single row if you intend to specify the same RGB or RGBA value for all points.\n",
            "*c* argument looks like a single numeric RGB or RGBA sequence, which should be avoided as value-mapping will have precedence in case its length matches with *x* & *y*.  Please use the *color* keyword-argument or provide a 2-D array with a single row if you intend to specify the same RGB or RGBA value for all points.\n"
          ],
          "name": "stderr"
        },
        {
          "output_type": "display_data",
          "data": {
            "image/png": "[encoded data removed]",
            "text/plain": [
              "<Figure size 432x288 with 1 Axes>"
            ]
          },
          "metadata": {
            "tags": [],
            "needs_background": "light"
          }
        }
      ]
    },
    {
      "cell_type": "code",
      "metadata": {
        "id": "eXP1NgG0p47L",
        "outputId": "b3df084f-d232-4fd7-ba1a-edb95137218a",
        "colab": {
          "base_uri": "https://localhost:8080/",
          "height": 347
        }
      },
      "source": [
        "#Visualizing the Test Set Results\n",
        "from matplotlib.colors import ListedColormap\n",
        "x_set , y_set = x_test ,y_test\n",
        "x1, x2 = np.meshgrid(np.arange(start = x_set[:,0].min()-1,stop =x_set[:,0].max()+1,step=0.01),\n",
        "                    np.arange(start = x_set[:,1].min()-1,stop =x_set[:,1].max()+1,step=0.01))\n",
        "plt.contour(x1,x2,classifier.predict(np.array([x1.ravel(),x2.ravel()]).T).reshape(x1.shape),\n",
        "            alpha= 0.75 ,cmap = ListedColormap(('red','green')))\n",
        "plt.xlim(x1.min() ,x1.max())\n",
        "plt.ylim(x2.min() ,x2.max())\n",
        "for i,j in enumerate(np.unique(y_set)):\n",
        "    plt.scatter(x_set[y_set == j ,0], x_set[y_set == j,1],\n",
        "                c= ListedColormap(('red' , 'green'))(i) , label = j)\n",
        "plt.title('Logistic Regression(Test Set)')\n",
        "plt.xlabel('Age')\n",
        "plt.ylabel('Estimated Salary')\n",
        "plt.legend()\n",
        "plt.show()"
      ],
      "execution_count": null,
      "outputs": [
        {
          "output_type": "stream",
          "text": [
            "*c* argument looks like a single numeric RGB or RGBA sequence, which should be avoided as value-mapping will have precedence in case its length matches with *x* & *y*.  Please use the *color* keyword-argument or provide a 2-D array with a single row if you intend to specify the same RGB or RGBA value for all points.\n",
            "*c* argument looks like a single numeric RGB or RGBA sequence, which should be avoided as value-mapping will have precedence in case its length matches with *x* & *y*.  Please use the *color* keyword-argument or provide a 2-D array with a single row if you intend to specify the same RGB or RGBA value for all points.\n"
          ],
          "name": "stderr"
        },
        {
          "output_type": "display_data",
          "data": {
            "image/png": "[encoded data removed]",
            "text/plain": [
              "<Figure size 432x288 with 1 Axes>"
            ]
          },
          "metadata": {
            "tags": [],
            "needs_background": "light"
          }
        }
      ]
    },
    {
      "cell_type": "code",
      "metadata": {
        "id": "hedFf8jpjTRq",
        "outputId": "69ccbe64-b892-4833-ecae-6a6c6d48d24f",
        "colab": {
          "base_uri": "https://localhost:8080/",
          "height": 33
        }
      },
      "source": [
        "metrics.accuracy_score(y_test, y_pred)"
      ],
      "execution_count": null,
      "outputs": [
        {
          "output_type": "execute_result",
          "data": {
            "text/plain": [
              "0.84"
            ]
          },
          "metadata": {
            "tags": []
          },
          "execution_count": 118
        }
      ]
    },
    {
      "cell_type": "markdown",
      "metadata": {
        "id": "YaEEPmHyy4FH"
      },
      "source": [
        "#Third example with Iris Dataset"
      ]
    },
    {
      "cell_type": "code",
      "metadata": {
        "id": "GVpJcgF_updu"
      },
      "source": [
        "from sklearn import datasets\n",
        "import matplotlib.pyplot as plt"
      ],
      "execution_count": null,
      "outputs": []
    },
    {
      "cell_type": "code",
      "metadata": {
        "scrolled": true,
        "id": "L7zcw4XrwlAz"
      },
      "source": [
        "#import data\n",
        "data = datasets.load_iris()"
      ],
      "execution_count": null,
      "outputs": []
    },
    {
      "cell_type": "code",
      "metadata": {
        "scrolled": true,
        "id": "Wy0_6EnZwlA5",
        "outputId": "679bc44f-a608-4d96-b8af-8281cbbbeb0f",
        "colab": {
          "base_uri": "https://localhost:8080/",
          "height": 1000
        }
      },
      "source": [
        "# here as we have imported the data through sckit's package , we will get the data in form of arrays,\n",
        "# so here our labes is stored in \n",
        "data.data"
      ],
      "execution_count": null,
      "outputs": [
        {
          "output_type": "execute_result",
          "data": {
            "text/plain": [
              "array([[5.1, 3.5, 1.4, 0.2],\n",
              "       [4.9, 3. , 1.4, 0.2],\n",
              "       [4.7, 3.2, 1.3, 0.2],\n",
              "       [4.6, 3.1, 1.5, 0.2],\n",
              "       [5. , 3.6, 1.4, 0.2],\n",
              "       [5.4, 3.9, 1.7, 0.4],\n",
              "       [4.6, 3.4, 1.4, 0.3],\n",
              "       [5. , 3.4, 1.5, 0.2],\n",
              "       [4.4, 2.9, 1.4, 0.2],\n",
              "       [4.9, 3.1, 1.5, 0.1],\n",
              "       [5.4, 3.7, 1.5, 0.2],\n",
              "       [4.8, 3.4, 1.6, 0.2],\n",
              "       [4.8, 3. , 1.4, 0.1],\n",
              "       [4.3, 3. , 1.1, 0.1],\n",
              "       [5.8, 4. , 1.2, 0.2],\n",
              "       [5.7, 4.4, 1.5, 0.4],\n",
              "       [5.4, 3.9, 1.3, 0.4],\n",
              "       [5.1, 3.5, 1.4, 0.3],\n",
              "       [5.7, 3.8, 1.7, 0.3],\n",
              "       [5.1, 3.8, 1.5, 0.3],\n",
              "       [5.4, 3.4, 1.7, 0.2],\n",
              "       [5.1, 3.7, 1.5, 0.4],\n",
              "       [4.6, 3.6, 1. , 0.2],\n",
              "       [5.1, 3.3, 1.7, 0.5],\n",
              "       [4.8, 3.4, 1.9, 0.2],\n",
              "       [5. , 3. , 1.6, 0.2],\n",
              "       [5. , 3.4, 1.6, 0.4],\n",
              "       [5.2, 3.5, 1.5, 0.2],\n",
              "       [5.2, 3.4, 1.4, 0.2],\n",
              "       [4.7, 3.2, 1.6, 0.2],\n",
              "       [4.8, 3.1, 1.6, 0.2],\n",
              "       [5.4, 3.4, 1.5, 0.4],\n",
              "       [5.2, 4.1, 1.5, 0.1],\n",
              "       [5.5, 4.2, 1.4, 0.2],\n",
              "       [4.9, 3.1, 1.5, 0.2],\n",
              "       [5. , 3.2, 1.2, 0.2],\n",
              "       [5.5, 3.5, 1.3, 0.2],\n",
              "       [4.9, 3.6, 1.4, 0.1],\n",
              "       [4.4, 3. , 1.3, 0.2],\n",
              "       [5.1, 3.4, 1.5, 0.2],\n",
              "       [5. , 3.5, 1.3, 0.3],\n",
              "       [4.5, 2.3, 1.3, 0.3],\n",
              "       [4.4, 3.2, 1.3, 0.2],\n",
              "       [5. , 3.5, 1.6, 0.6],\n",
              "       [5.1, 3.8, 1.9, 0.4],\n",
              "       [4.8, 3. , 1.4, 0.3],\n",
              "       [5.1, 3.8, 1.6, 0.2],\n",
              "       [4.6, 3.2, 1.4, 0.2],\n",
              "       [5.3, 3.7, 1.5, 0.2],\n",
              "       [5. , 3.3, 1.4, 0.2],\n",
              "       [7. , 3.2, 4.7, 1.4],\n",
              "       [6.4, 3.2, 4.5, 1.5],\n",
              "       [6.9, 3.1, 4.9, 1.5],\n",
              "       [5.5, 2.3, 4. , 1.3],\n",
              "       [6.5, 2.8, 4.6, 1.5],\n",
              "       [5.7, 2.8, 4.5, 1.3],\n",
              "       [6.3, 3.3, 4.7, 1.6],\n",
              "       [4.9, 2.4, 3.3, 1. ],\n",
              "       [6.6, 2.9, 4.6, 1.3],\n",
              "       [5.2, 2.7, 3.9, 1.4],\n",
              "       [5. , 2. , 3.5, 1. ],\n",
              "       [5.9, 3. , 4.2, 1.5],\n",
              "       [6. , 2.2, 4. , 1. ],\n",
              "       [6.1, 2.9, 4.7, 1.4],\n",
              "       [5.6, 2.9, 3.6, 1.3],\n",
              "       [6.7, 3.1, 4.4, 1.4],\n",
              "       [5.6, 3. , 4.5, 1.5],\n",
              "       [5.8, 2.7, 4.1, 1. ],\n",
              "       [6.2, 2.2, 4.5, 1.5],\n",
              "       [5.6, 2.5, 3.9, 1.1],\n",
              "       [5.9, 3.2, 4.8, 1.8],\n",
              "       [6.1, 2.8, 4. , 1.3],\n",
              "       [6.3, 2.5, 4.9, 1.5],\n",
              "       [6.1, 2.8, 4.7, 1.2],\n",
              "       [6.4, 2.9, 4.3, 1.3],\n",
              "       [6.6, 3. , 4.4, 1.4],\n",
              "       [6.8, 2.8, 4.8, 1.4],\n",
              "       [6.7, 3. , 5. , 1.7],\n",
              "       [6. , 2.9, 4.5, 1.5],\n",
              "       [5.7, 2.6, 3.5, 1. ],\n",
              "       [5.5, 2.4, 3.8, 1.1],\n",
              "       [5.5, 2.4, 3.7, 1. ],\n",
              "       [5.8, 2.7, 3.9, 1.2],\n",
              "       [6. , 2.7, 5.1, 1.6],\n",
              "       [5.4, 3. , 4.5, 1.5],\n",
              "       [6. , 3.4, 4.5, 1.6],\n",
              "       [6.7, 3.1, 4.7, 1.5],\n",
              "       [6.3, 2.3, 4.4, 1.3],\n",
              "       [5.6, 3. , 4.1, 1.3],\n",
              "       [5.5, 2.5, 4. , 1.3],\n",
              "       [5.5, 2.6, 4.4, 1.2],\n",
              "       [6.1, 3. , 4.6, 1.4],\n",
              "       [5.8, 2.6, 4. , 1.2],\n",
              "       [5. , 2.3, 3.3, 1. ],\n",
              "       [5.6, 2.7, 4.2, 1.3],\n",
              "       [5.7, 3. , 4.2, 1.2],\n",
              "       [5.7, 2.9, 4.2, 1.3],\n",
              "       [6.2, 2.9, 4.3, 1.3],\n",
              "       [5.1, 2.5, 3. , 1.1],\n",
              "       [5.7, 2.8, 4.1, 1.3],\n",
              "       [6.3, 3.3, 6. , 2.5],\n",
              "       [5.8, 2.7, 5.1, 1.9],\n",
              "       [7.1, 3. , 5.9, 2.1],\n",
              "       [6.3, 2.9, 5.6, 1.8],\n",
              "       [6.5, 3. , 5.8, 2.2],\n",
              "       [7.6, 3. , 6.6, 2.1],\n",
              "       [4.9, 2.5, 4.5, 1.7],\n",
              "       [7.3, 2.9, 6.3, 1.8],\n",
              "       [6.7, 2.5, 5.8, 1.8],\n",
              "       [7.2, 3.6, 6.1, 2.5],\n",
              "       [6.5, 3.2, 5.1, 2. ],\n",
              "       [6.4, 2.7, 5.3, 1.9],\n",
              "       [6.8, 3. , 5.5, 2.1],\n",
              "       [5.7, 2.5, 5. , 2. ],\n",
              "       [5.8, 2.8, 5.1, 2.4],\n",
              "       [6.4, 3.2, 5.3, 2.3],\n",
              "       [6.5, 3. , 5.5, 1.8],\n",
              "       [7.7, 3.8, 6.7, 2.2],\n",
              "       [7.7, 2.6, 6.9, 2.3],\n",
              "       [6. , 2.2, 5. , 1.5],\n",
              "       [6.9, 3.2, 5.7, 2.3],\n",
              "       [5.6, 2.8, 4.9, 2. ],\n",
              "       [7.7, 2.8, 6.7, 2. ],\n",
              "       [6.3, 2.7, 4.9, 1.8],\n",
              "       [6.7, 3.3, 5.7, 2.1],\n",
              "       [7.2, 3.2, 6. , 1.8],\n",
              "       [6.2, 2.8, 4.8, 1.8],\n",
              "       [6.1, 3. , 4.9, 1.8],\n",
              "       [6.4, 2.8, 5.6, 2.1],\n",
              "       [7.2, 3. , 5.8, 1.6],\n",
              "       [7.4, 2.8, 6.1, 1.9],\n",
              "       [7.9, 3.8, 6.4, 2. ],\n",
              "       [6.4, 2.8, 5.6, 2.2],\n",
              "       [6.3, 2.8, 5.1, 1.5],\n",
              "       [6.1, 2.6, 5.6, 1.4],\n",
              "       [7.7, 3. , 6.1, 2.3],\n",
              "       [6.3, 3.4, 5.6, 2.4],\n",
              "       [6.4, 3.1, 5.5, 1.8],\n",
              "       [6. , 3. , 4.8, 1.8],\n",
              "       [6.9, 3.1, 5.4, 2.1],\n",
              "       [6.7, 3.1, 5.6, 2.4],\n",
              "       [6.9, 3.1, 5.1, 2.3],\n",
              "       [5.8, 2.7, 5.1, 1.9],\n",
              "       [6.8, 3.2, 5.9, 2.3],\n",
              "       [6.7, 3.3, 5.7, 2.5],\n",
              "       [6.7, 3. , 5.2, 2.3],\n",
              "       [6.3, 2.5, 5. , 1.9],\n",
              "       [6.5, 3. , 5.2, 2. ],\n",
              "       [6.2, 3.4, 5.4, 2.3],\n",
              "       [5.9, 3. , 5.1, 1.8]])"
            ]
          },
          "metadata": {
            "tags": []
          },
          "execution_count": 121
        }
      ]
    },
    {
      "cell_type": "code",
      "metadata": {
        "id": "7vRtTUEXwlBC",
        "outputId": "add0c1a6-17f2-489e-f006-b3ead1c288de",
        "colab": {
          "base_uri": "https://localhost:8080/",
          "height": 133
        }
      },
      "source": [
        "# and labels\n",
        "data.target"
      ],
      "execution_count": null,
      "outputs": [
        {
          "output_type": "execute_result",
          "data": {
            "text/plain": [
              "array([0, 0, 0, 0, 0, 0, 0, 0, 0, 0, 0, 0, 0, 0, 0, 0, 0, 0, 0, 0, 0, 0,\n",
              "       0, 0, 0, 0, 0, 0, 0, 0, 0, 0, 0, 0, 0, 0, 0, 0, 0, 0, 0, 0, 0, 0,\n",
              "       0, 0, 0, 0, 0, 0, 1, 1, 1, 1, 1, 1, 1, 1, 1, 1, 1, 1, 1, 1, 1, 1,\n",
              "       1, 1, 1, 1, 1, 1, 1, 1, 1, 1, 1, 1, 1, 1, 1, 1, 1, 1, 1, 1, 1, 1,\n",
              "       1, 1, 1, 1, 1, 1, 1, 1, 1, 1, 1, 1, 2, 2, 2, 2, 2, 2, 2, 2, 2, 2,\n",
              "       2, 2, 2, 2, 2, 2, 2, 2, 2, 2, 2, 2, 2, 2, 2, 2, 2, 2, 2, 2, 2, 2,\n",
              "       2, 2, 2, 2, 2, 2, 2, 2, 2, 2, 2, 2, 2, 2, 2, 2, 2, 2])"
            ]
          },
          "metadata": {
            "tags": []
          },
          "execution_count": 122
        }
      ]
    },
    {
      "cell_type": "code",
      "metadata": {
        "id": "YbeYH-KnwlBJ"
      },
      "source": [
        "# First let's divide the dataset into data and target \n",
        "\n",
        "X = data.data[:, :2]   # X is the features in our dataset\n",
        "y = (data.target != 0) * 1  # y is the Labels in our dataset"
      ],
      "execution_count": null,
      "outputs": []
    },
    {
      "cell_type": "code",
      "metadata": {
        "scrolled": true,
        "id": "UlJBi8ZtwlBd",
        "outputId": "651e09a3-2a55-411e-9581-6f02460f21b4",
        "colab": {
          "base_uri": "https://localhost:8080/",
          "height": 375
        }
      },
      "source": [
        "plt.figure(figsize=(10, 6))\n",
        "plt.scatter(X[y == 0][:, 0], X[y == 0][:, 1], color='b', label='0') \n",
        "plt.scatter(X[y == 1][:, 0], X[y == 1][:, 1], color='r', label='1')\n",
        "plt.legend();\n"
      ],
      "execution_count": null,
      "outputs": [
        {
          "output_type": "display_data",
          "data": {
            "image/png": "[encoded data removed]",
            "text/plain": [
              "<Figure size 720x432 with 1 Axes>"
            ]
          },
          "metadata": {
            "tags": [],
            "needs_background": "light"
          }
        }
      ]
    },
    {
      "cell_type": "code",
      "metadata": {
        "id": "Jr_E8QVQwlCa"
      },
      "source": [
        "# import dependencies\n",
        "from sklearn.linear_model import LogisticRegression"
      ],
      "execution_count": null,
      "outputs": []
    },
    {
      "cell_type": "code",
      "metadata": {
        "id": "SbVpoGI9wlCe"
      },
      "source": [
        "# load model\n",
        "model = LogisticRegression()"
      ],
      "execution_count": null,
      "outputs": []
    },
    {
      "cell_type": "code",
      "metadata": {
        "id": "CpaBljWhwlCj",
        "outputId": "6b00c9d7-f446-41ad-e3f6-6fd3f1aa16a2",
        "colab": {
          "base_uri": "https://localhost:8080/",
          "height": 100
        }
      },
      "source": [
        "# fit model\n",
        "model.fit(X, y)"
      ],
      "execution_count": null,
      "outputs": [
        {
          "output_type": "execute_result",
          "data": {
            "text/plain": [
              "LogisticRegression(C=1.0, class_weight=None, dual=False, fit_intercept=True,\n",
              "                   intercept_scaling=1, l1_ratio=None, max_iter=100,\n",
              "                   multi_class='auto', n_jobs=None, penalty='l2',\n",
              "                   random_state=None, solver='lbfgs', tol=0.0001, verbose=0,\n",
              "                   warm_start=False)"
            ]
          },
          "metadata": {
            "tags": []
          },
          "execution_count": 128
        }
      ]
    },
    {
      "cell_type": "code",
      "metadata": {
        "id": "IGBv3AnGwlCr",
        "outputId": "8c37c712-e2f1-465d-8002-6a0f038c0786",
        "colab": {
          "base_uri": "https://localhost:8080/",
          "height": 133
        }
      },
      "source": [
        "# Predict Model\n",
        "preds = model.predict(X)\n",
        "preds"
      ],
      "execution_count": null,
      "outputs": [
        {
          "output_type": "execute_result",
          "data": {
            "text/plain": [
              "array([0, 0, 0, 0, 0, 0, 0, 0, 0, 0, 0, 0, 0, 0, 0, 0, 0, 0, 0, 0, 0, 0,\n",
              "       0, 0, 0, 0, 0, 0, 0, 0, 0, 0, 0, 0, 0, 0, 0, 0, 0, 0, 0, 0, 0, 0,\n",
              "       0, 0, 0, 0, 0, 0, 1, 1, 1, 1, 1, 1, 1, 1, 1, 1, 1, 1, 1, 1, 1, 1,\n",
              "       1, 1, 1, 1, 1, 1, 1, 1, 1, 1, 1, 1, 1, 1, 1, 1, 1, 1, 1, 1, 1, 1,\n",
              "       1, 1, 1, 1, 1, 1, 1, 1, 1, 1, 1, 1, 1, 1, 1, 1, 1, 1, 1, 1, 1, 1,\n",
              "       1, 1, 1, 1, 1, 1, 1, 1, 1, 1, 1, 1, 1, 1, 1, 1, 1, 1, 1, 1, 1, 1,\n",
              "       1, 1, 1, 1, 1, 1, 1, 1, 1, 1, 1, 1, 1, 1, 1, 1, 1, 1])"
            ]
          },
          "metadata": {
            "tags": []
          },
          "execution_count": 129
        }
      ]
    },
    {
      "cell_type": "code",
      "metadata": {
        "id": "Fhj-AGWmjYYO",
        "outputId": "be3bd119-6e4f-4637-a087-10783579f98e",
        "colab": {
          "base_uri": "https://localhost:8080/",
          "height": 33
        }
      },
      "source": [
        "metrics.accuracy_score(y, preds)"
      ],
      "execution_count": null,
      "outputs": [
        {
          "output_type": "execute_result",
          "data": {
            "text/plain": [
              "1.0"
            ]
          },
          "metadata": {
            "tags": []
          },
          "execution_count": 130
        }
      ]
    },
    {
      "cell_type": "markdown",
      "metadata": {
        "id": "MfkH0Qmu3m47"
      },
      "source": [
        "#Fourth Example"
      ]
    },
    {
      "cell_type": "code",
      "metadata": {
        "id": "-3vMd20uyeLY",
        "outputId": "4d020aa0-ab83-46f4-a98f-d416e2491988",
        "colab": {
          "base_uri": "https://localhost:8080/",
          "height": 33
        }
      },
      "source": [
        "#Logistic Regression\n",
        "\n",
        "# Importing the libraries\n",
        "import numpy as np\n",
        "import matplotlib.pyplot as plt\n",
        "import pandas as pd\n",
        "#Importing the data\n",
        "df =pd.read_csv('Chip_test.csv').values\n",
        "df.shape"
      ],
      "execution_count": null,
      "outputs": [
        {
          "output_type": "execute_result",
          "data": {
            "text/plain": [
              "(118, 3)"
            ]
          },
          "metadata": {
            "tags": []
          },
          "execution_count": 131
        }
      ]
    },
    {
      "cell_type": "code",
      "metadata": {
        "scrolled": true,
        "id": "knHn7zeG3cVE"
      },
      "source": [
        "x= df[:, 0:2 ]\n",
        "y= df[:, -1] "
      ],
      "execution_count": null,
      "outputs": []
    },
    {
      "cell_type": "code",
      "metadata": {
        "id": "bpyVEYHA3cVJ"
      },
      "source": [
        "# Splitting the dataset into the Training set and Test set\n",
        "from sklearn.model_selection import train_test_split\n",
        "x_train, x_test, y_train, y_test = train_test_split(x, y, test_size = 0.25) "
      ],
      "execution_count": null,
      "outputs": []
    },
    {
      "cell_type": "code",
      "metadata": {
        "id": "Fxg_KmjU3cVQ",
        "outputId": "c2541a75-8875-4019-c66b-632ad8442af6",
        "colab": {
          "base_uri": "https://localhost:8080/",
          "height": 100
        }
      },
      "source": [
        "#Fitting Logistic Regresssion to Training Set\n",
        "from sklearn.linear_model import LogisticRegression\n",
        "model = LogisticRegression()\n",
        "model.fit(x_train,y_train)"
      ],
      "execution_count": null,
      "outputs": [
        {
          "output_type": "execute_result",
          "data": {
            "text/plain": [
              "LogisticRegression(C=1.0, class_weight=None, dual=False, fit_intercept=True,\n",
              "                   intercept_scaling=1, l1_ratio=None, max_iter=100,\n",
              "                   multi_class='auto', n_jobs=None, penalty='l2',\n",
              "                   random_state=None, solver='lbfgs', tol=0.0001, verbose=0,\n",
              "                   warm_start=False)"
            ]
          },
          "metadata": {
            "tags": []
          },
          "execution_count": 134
        }
      ]
    },
    {
      "cell_type": "code",
      "metadata": {
        "id": "Ia8b5qLx3cVe",
        "outputId": "3e924a2b-209d-4a23-82f6-cb42d3e93696",
        "colab": {
          "base_uri": "https://localhost:8080/",
          "height": 50
        }
      },
      "source": [
        "#Predicting the Test Set Results\n",
        "y_pred = model.predict(x_test)\n",
        "y_pred"
      ],
      "execution_count": null,
      "outputs": [
        {
          "output_type": "execute_result",
          "data": {
            "text/plain": [
              "array([0., 1., 0., 0., 0., 0., 0., 0., 0., 1., 0., 0., 0., 0., 0., 0., 0.,\n",
              "       0., 0., 0., 0., 1., 0., 0., 0., 0., 0., 0., 0., 1.])"
            ]
          },
          "metadata": {
            "tags": []
          },
          "execution_count": 135
        }
      ]
    },
    {
      "cell_type": "code",
      "metadata": {
        "id": "OfrXV0w03cVk",
        "outputId": "f18983f8-9b86-42b8-f7c8-21e04a6d0992",
        "colab": {
          "base_uri": "https://localhost:8080/",
          "height": 50
        }
      },
      "source": [
        "from sklearn.metrics import confusion_matrix\n",
        "cm = confusion_matrix(y_test,y_pred)\n",
        "cm"
      ],
      "execution_count": null,
      "outputs": [
        {
          "output_type": "execute_result",
          "data": {
            "text/plain": [
              "array([[12,  3],\n",
              "       [14,  1]])"
            ]
          },
          "metadata": {
            "tags": []
          },
          "execution_count": 136
        }
      ]
    },
    {
      "cell_type": "code",
      "metadata": {
        "id": "IAvhD2Ut5TAr",
        "outputId": "55eced89-e20c-4f76-e152-167fa92c869e",
        "colab": {
          "base_uri": "https://localhost:8080/",
          "height": 285
        }
      },
      "source": [
        "import seaborn as sns\n",
        "sns.heatmap(cm, annot=True, cmap='Blues')"
      ],
      "execution_count": null,
      "outputs": [
        {
          "output_type": "execute_result",
          "data": {
            "text/plain": [
              "<matplotlib.axes._subplots.AxesSubplot at 0x7f866d68bf98>"
            ]
          },
          "metadata": {
            "tags": []
          },
          "execution_count": 137
        },
        {
          "output_type": "display_data",
          "data": {
            "image/png": "[encoded data removed]",
            "text/plain": [
              "<Figure size 432x288 with 2 Axes>"
            ]
          },
          "metadata": {
            "tags": [],
            "needs_background": "light"
          }
        }
      ]
    },
    {
      "cell_type": "code",
      "metadata": {
        "id": "fvWZv0HzkLJY",
        "outputId": "9879dd49-dfaa-4e51-a207-8efebb26827e",
        "colab": {
          "base_uri": "https://localhost:8080/",
          "height": 33
        }
      },
      "source": [
        "metrics.accuracy_score(y_test, y_pred)"
      ],
      "execution_count": null,
      "outputs": [
        {
          "output_type": "execute_result",
          "data": {
            "text/plain": [
              "0.43333333333333335"
            ]
          },
          "metadata": {
            "tags": []
          },
          "execution_count": 138
        }
      ]
    },
    {
      "cell_type": "markdown",
      "metadata": {
        "id": "4EwcQlHu5dd1"
      },
      "source": [
        "#fifth example"
      ]
    },
    {
      "cell_type": "code",
      "metadata": {
        "id": "LkYDtOO03cZ9",
        "outputId": "ced447b4-fef9-416a-baf6-d1f1da6e9198",
        "colab": {
          "base_uri": "https://localhost:8080/",
          "height": 33
        }
      },
      "source": [
        "#Logistic Regression\n",
        "\n",
        "# Importing the libraries\n",
        "import numpy as np\n",
        "import matplotlib.pyplot as plt\n",
        "import pandas as pd\n",
        "\n",
        "# Importing the dataset\n",
        "df = pd.read_csv('examdata.csv').values\n",
        "df.shape"
      ],
      "execution_count": null,
      "outputs": [
        {
          "output_type": "execute_result",
          "data": {
            "text/plain": [
              "(100, 3)"
            ]
          },
          "metadata": {
            "tags": []
          },
          "execution_count": 139
        }
      ]
    },
    {
      "cell_type": "code",
      "metadata": {
        "id": "APjsRaBy3caG"
      },
      "source": [
        "x = df[:, 0:2]\n",
        "y = df[:, 2]\n",
        "# Splitting the dataset into the Training set and Test set\n",
        "from sklearn.model_selection import train_test_split\n",
        "x_train, x_test, y_train, y_test = train_test_split(x, y, test_size = 0.20)"
      ],
      "execution_count": null,
      "outputs": []
    },
    {
      "cell_type": "code",
      "metadata": {
        "id": "8LFmubAw3caN"
      },
      "source": [
        "# Feature Scaling\n",
        "from sklearn.preprocessing import StandardScaler\n",
        "sc_x = StandardScaler()\n",
        "x_train = sc_x.fit_transform(x_train)\n",
        "x_test = sc_x.transform(x_test)\n",
        "\n",
        "#Fitting Logistic Regresssion to Training Set\n",
        "from sklearn.linear_model import LogisticRegression\n",
        "classifier = LogisticRegression(random_state =0)\n",
        "classifier.fit(x_train,y_train)\n",
        "\n",
        "#Predicting the Test Set Results\n",
        "y_pred = classifier.predict(x_test)"
      ],
      "execution_count": null,
      "outputs": []
    },
    {
      "cell_type": "code",
      "metadata": {
        "id": "rOjXpS8_3caT",
        "outputId": "a3190454-beff-4c59-ba12-c8c123f162cd",
        "colab": {
          "base_uri": "https://localhost:8080/",
          "height": 50
        }
      },
      "source": [
        "#Making the Confusion Matrix\n",
        "from sklearn.metrics import confusion_matrix\n",
        "cm = confusion_matrix(y_test,y_pred)\n",
        "cm"
      ],
      "execution_count": null,
      "outputs": [
        {
          "output_type": "execute_result",
          "data": {
            "text/plain": [
              "array([[ 4,  1],\n",
              "       [ 2, 13]])"
            ]
          },
          "metadata": {
            "tags": []
          },
          "execution_count": 142
        }
      ]
    },
    {
      "cell_type": "code",
      "metadata": {
        "id": "Jfn2nDn43caZ",
        "outputId": "82c7d48c-eff2-47cd-e7a3-cc8cbafd9778",
        "colab": {
          "base_uri": "https://localhost:8080/",
          "height": 334
        }
      },
      "source": [
        "#Visualizing the Training Set Results\n",
        "from matplotlib.colors import ListedColormap\n",
        "x_set , y_set = x_train ,y_train\n",
        "x1, x2 = np.meshgrid(np.arange(start = x_set[:,0].min()-1,stop =x_set[:,0].max()+1,step=0.01),\n",
        "                    np.arange(start = x_set[:,1].min()-1,stop =x_set[:,1].max()+1,step=0.01))\n",
        "plt.contour(x1,x2,classifier.predict(np.array([x1.ravel(),x2.ravel()]).T).reshape(x1.shape),\n",
        "            alpha= 0.75 ,cmap = ListedColormap(('red','green')))\n",
        "plt.xlim(x1.min() ,x1.max())\n",
        "plt.ylim(x2.min() ,x2.max())\n",
        "for i,j in enumerate(np.unique(y_set)):\n",
        "    plt.scatter(x_set[y_set == j ,0], x_set[y_set == j,1],\n",
        "                c= ListedColormap(('red' , 'green'))(i) , label = j)\n",
        "plt.title('Logistic Regression(Training Set)')\n",
        "plt.legend()\n",
        "plt.show()\n",
        "      "
      ],
      "execution_count": null,
      "outputs": [
        {
          "output_type": "stream",
          "text": [
            "*c* argument looks like a single numeric RGB or RGBA sequence, which should be avoided as value-mapping will have precedence in case its length matches with *x* & *y*.  Please use the *color* keyword-argument or provide a 2-D array with a single row if you intend to specify the same RGB or RGBA value for all points.\n",
            "*c* argument looks like a single numeric RGB or RGBA sequence, which should be avoided as value-mapping will have precedence in case its length matches with *x* & *y*.  Please use the *color* keyword-argument or provide a 2-D array with a single row if you intend to specify the same RGB or RGBA value for all points.\n"
          ],
          "name": "stderr"
        },
        {
          "output_type": "display_data",
          "data": {
            "image/png": "[encoded data removed]",
            "text/plain": [
              "<Figure size 432x288 with 1 Axes>"
            ]
          },
          "metadata": {
            "tags": [],
            "needs_background": "light"
          }
        }
      ]
    },
    {
      "cell_type": "code",
      "metadata": {
        "id": "rIubRv1N3cag",
        "outputId": "9ea83a3c-964f-4af6-886e-e7bd2fc637a7",
        "colab": {
          "base_uri": "https://localhost:8080/",
          "height": 351
        }
      },
      "source": [
        "#Visualizing the Test Set Results\n",
        "from matplotlib.colors import ListedColormap\n",
        "x_set , y_set = x_test ,y_test\n",
        "x1, x2 = np.meshgrid(np.arange(start = x_set[:,0].min()-1,stop =x_set[:,0].max()+1,step=0.01),\n",
        "                    np.arange(start = x_set[:,1].min()-1,stop =x_set[:,1].max()+1,step=0.01))\n",
        "plt.contour(x1,x2,classifier.predict(np.array([x1.ravel(),x2.ravel()]).T).reshape(x1.shape),\n",
        "            alpha= 0.75 ,cmap = ListedColormap(('red','green')))\n",
        "plt.xlim(x1.min() ,x1.max())\n",
        "plt.ylim(x2.min() ,x2.max())\n",
        "for i,j in enumerate(np.unique(y_set)):\n",
        "    plt.scatter(x_set[y_set == j ,0], x_set[y_set == j,1],\n",
        "                c= ListedColormap(('red' , 'green'))(i) , label = j)\n",
        "plt.title('Test Set')\n",
        " \n",
        "plt.legend()"
      ],
      "execution_count": null,
      "outputs": [
        {
          "output_type": "stream",
          "text": [
            "*c* argument looks like a single numeric RGB or RGBA sequence, which should be avoided as value-mapping will have precedence in case its length matches with *x* & *y*.  Please use the *color* keyword-argument or provide a 2-D array with a single row if you intend to specify the same RGB or RGBA value for all points.\n",
            "*c* argument looks like a single numeric RGB or RGBA sequence, which should be avoided as value-mapping will have precedence in case its length matches with *x* & *y*.  Please use the *color* keyword-argument or provide a 2-D array with a single row if you intend to specify the same RGB or RGBA value for all points.\n"
          ],
          "name": "stderr"
        },
        {
          "output_type": "execute_result",
          "data": {
            "text/plain": [
              "<matplotlib.legend.Legend at 0x7f866d4a6eb8>"
            ]
          },
          "metadata": {
            "tags": []
          },
          "execution_count": 144
        },
        {
          "output_type": "display_data",
          "data": {
            "image/png": "[encoded data removed]",
            "text/plain": [
              "<Figure size 432x288 with 1 Axes>"
            ]
          },
          "metadata": {
            "tags": [],
            "needs_background": "light"
          }
        }
      ]
    },
    {
      "cell_type": "code",
      "metadata": {
        "id": "73g44HQrkT3l",
        "outputId": "72834595-7505-402b-fefb-9bb1ec027709",
        "colab": {
          "base_uri": "https://localhost:8080/",
          "height": 33
        }
      },
      "source": [
        "metrics.accuracy_score(y_test, y_pred)"
      ],
      "execution_count": null,
      "outputs": [
        {
          "output_type": "execute_result",
          "data": {
            "text/plain": [
              "0.85"
            ]
          },
          "metadata": {
            "tags": []
          },
          "execution_count": 145
        }
      ]
    },
    {
      "cell_type": "markdown",
      "metadata": {
        "id": "oZXzNz1x5sZT"
      },
      "source": [
        "#sixth example"
      ]
    },
    {
      "cell_type": "code",
      "metadata": {
        "id": "gAbqQEPO5bCc",
        "outputId": "4df574c3-c900-4b77-dbab-e9332cc09343",
        "colab": {
          "base_uri": "https://localhost:8080/",
          "height": 54
        }
      },
      "source": [
        "import numpy as np\n",
        "import matplotlib.pyplot as plt\n",
        "import pandas as pd\n",
        "\n",
        "# Importing the dataset\n",
        "dataset = pd.read_csv('LR_df.csv').values\n",
        "X = dataset[:, 0].reshape(-1, 1)\n",
        "y = dataset[:, -1] \n",
        "\n",
        "# Splitting the dataset into the Training set and Test set\n",
        "from sklearn.model_selection import train_test_split\n",
        "X_train, X_test, y_train, y_test = train_test_split(X, y, test_size = 0.25, random_state = 0)\n",
        "# Feature Scaling\n",
        "from sklearn.preprocessing import StandardScaler\n",
        "sc_X = StandardScaler() \n",
        "X_train = sc_X.fit_transform(X_train)\n",
        "X_test = sc_X.transform(X_test)\n",
        "\n",
        "#Fitting Logistic Regresssion to Training Set\n",
        "from sklearn.linear_model import LogisticRegression\n",
        "classifier = LogisticRegression(random_state =0)\n",
        "classifier.fit(X_train,y_train)\n",
        "\n",
        "#Predicting the Test Set Results\n",
        "y_pred = classifier.predict(X_test) \n",
        "\n",
        "#Making the Confusion Matrix\n",
        "from sklearn.metrics import confusion_matrix\n",
        "cm = confusion_matrix(y_test,y_pred)\n",
        "cm\n",
        "\n",
        "\n",
        "      "
      ],
      "execution_count": null,
      "outputs": [
        {
          "output_type": "execute_result",
          "data": {
            "text/plain": [
              "array([[108,  23],\n",
              "       [ 45,  16]])"
            ]
          },
          "metadata": {
            "tags": []
          },
          "execution_count": 1
        }
      ]
    },
    {
      "cell_type": "code",
      "metadata": {
        "id": "LrIqPPpq6j0E",
        "outputId": "e0e2aaf5-b36e-4aa0-d111-990d5769879b",
        "colab": {
          "base_uri": "https://localhost:8080/",
          "height": 339
        }
      },
      "source": [
        "import seaborn as sns\n",
        "sns.heatmap(cm, annot=True, cmap='Blues')\n"
      ],
      "execution_count": null,
      "outputs": [
        {
          "output_type": "stream",
          "text": [
            "/usr/local/lib/python3.6/dist-packages/statsmodels/tools/_testing.py:19: FutureWarning: pandas.util.testing is deprecated. Use the functions in the public API at pandas.testing instead.\n",
            "  import pandas.util.testing as tm\n"
          ],
          "name": "stderr"
        },
        {
          "output_type": "execute_result",
          "data": {
            "text/plain": [
              "<matplotlib.axes._subplots.AxesSubplot at 0x7fa489061cc0>"
            ]
          },
          "metadata": {
            "tags": []
          },
          "execution_count": 2
        },
        {
          "output_type": "display_data",
          "data": {
            "image/png": "[encoded data removed]",
            "text/plain": [
              "<Figure size 432x288 with 2 Axes>"
            ]
          },
          "metadata": {
            "tags": [],
            "needs_background": "light"
          }
        }
      ]
    },
    {
      "cell_type": "code",
      "metadata": {
        "id": "PvmxLSQGkYEb"
      },
      "source": [
        "metrics.accuracy_score(y_test, y_pred)"
      ],
      "execution_count": null,
      "outputs": []
    }
  ]
}