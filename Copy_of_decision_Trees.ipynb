{
  "nbformat": 4,
  "nbformat_minor": 0,
  "metadata": {
    "colab": {
      "name": "Copy of decision_Trees.ipynb",
      "provenance": [],
      "collapsed_sections": [
        "hCd1DG50Nt2R"
      ]
    },
    "kernelspec": {
      "name": "python3",
      "display_name": "Python 3"
    }
  },
  "cells": [
    {
      "cell_type": "markdown",
      "metadata": {
        "id": "NEErKiVjN0QX",
        "colab_type": "text"
      },
      "source": [
        "#Decision Trees"
      ]
    },
    {
      "cell_type": "code",
      "metadata": {
        "id": "MP-dAMqfI8Ig",
        "colab_type": "code",
        "colab": {}
      },
      "source": [
        "import pydotplus\n",
        "from sklearn.tree import DecisionTreeClassifier \n",
        "from sklearn import datasets"
      ],
      "execution_count": null,
      "outputs": []
    },
    {
      "cell_type": "code",
      "metadata": {
        "id": "gEa3HdqYJg_V",
        "colab_type": "code",
        "colab": {}
      },
      "source": [
        "iris = datasets.load_iris() \n",
        "features = iris.data \n",
        "target = iris.target\n",
        "\n",
        "print(features)\n",
        "print(target)"
      ],
      "execution_count": null,
      "outputs": []
    },
    {
      "cell_type": "code",
      "metadata": {
        "id": "8eeeghQFJtrL",
        "colab_type": "code",
        "colab": {}
      },
      "source": [
        "decisiontree = DecisionTreeClassifier() "
      ],
      "execution_count": null,
      "outputs": []
    },
    {
      "cell_type": "code",
      "metadata": {
        "id": "-UdVhYSkJv_Z",
        "colab_type": "code",
        "colab": {}
      },
      "source": [
        "model = decisiontree.fit(features, target)"
      ],
      "execution_count": null,
      "outputs": []
    },
    {
      "cell_type": "code",
      "metadata": {
        "id": "VNZsZ5uEJx9K",
        "colab_type": "code",
        "colab": {}
      },
      "source": [
        "observation = [[ 5, 4, 3, 2]] # Predict observation's class\n",
        "model.predict(observation)\n",
        "model.predict_proba(observation)"
      ],
      "execution_count": null,
      "outputs": []
    },
    {
      "cell_type": "code",
      "metadata": {
        "id": "5jYFh77MJ1Hj",
        "colab_type": "code",
        "colab": {}
      },
      "source": [
        "from sklearn import tree\n",
        "\n",
        "dot_data = tree.export_graphviz(decisiontree, out_file=None,\n",
        "feature_names=iris.feature_names, \n",
        "class_names=iris.target_names\n",
        ")"
      ],
      "execution_count": null,
      "outputs": []
    },
    {
      "cell_type": "code",
      "metadata": {
        "id": "tbEdmddKJ9dE",
        "colab_type": "code",
        "colab": {}
      },
      "source": [
        "from IPython.display import Image\n",
        "\n",
        "graph = pydotplus.graph_from_dot_data(dot_data) # Show graph\n",
        "\n",
        "Image(graph.create_png()) "
      ],
      "execution_count": null,
      "outputs": []
    },
    {
      "cell_type": "code",
      "metadata": {
        "id": "dWbiwt1p7J5W",
        "colab_type": "code",
        "colab": {}
      },
      "source": [
        "#example-2"
      ],
      "execution_count": null,
      "outputs": []
    },
    {
      "cell_type": "code",
      "metadata": {
        "id": "8CtSYnP1Kisy",
        "colab_type": "code",
        "colab": {}
      },
      "source": [
        "import numpy as np\n",
        "import pandas as pd\n",
        "import matplotlib.pyplot as plt\n",
        "\n",
        "#Loading the dataset\n",
        "df = pd.read_csv('Salary_Data.csv').values\n",
        "#Specify dependent and independent veraibles\n",
        "x = df[:, :-1]   #last coloumn is left behind.\n",
        "y = df[:, -1]"
      ],
      "execution_count": null,
      "outputs": []
    },
    {
      "cell_type": "code",
      "metadata": {
        "id": "wLkG19yJKlKy",
        "colab_type": "code",
        "colab": {}
      },
      "source": [
        "print(x)\n",
        "print(y)"
      ],
      "execution_count": null,
      "outputs": []
    },
    {
      "cell_type": "code",
      "metadata": {
        "id": "7Fgq6lnmKn2I",
        "colab_type": "code",
        "colab": {}
      },
      "source": [
        "#scattering\n",
        "plt.scatter(x,y)\n"
      ],
      "execution_count": null,
      "outputs": []
    },
    {
      "cell_type": "code",
      "metadata": {
        "id": "MrDHNwI8KrFL",
        "colab_type": "code",
        "colab": {}
      },
      "source": [
        "# Importing decision tree class\n",
        "from sklearn.tree import DecisionTreeRegressor"
      ],
      "execution_count": null,
      "outputs": []
    },
    {
      "cell_type": "code",
      "metadata": {
        "id": "Ngt9sipfKuWq",
        "colab_type": "code",
        "colab": {}
      },
      "source": [
        "#1 Create decision tree object\n",
        "model=DecisionTreeRegressor(max_depth=100)"
      ],
      "execution_count": null,
      "outputs": []
    },
    {
      "cell_type": "code",
      "metadata": {
        "id": "EDhf3dlhKwcN",
        "colab_type": "code",
        "colab": {}
      },
      "source": [
        "#2 Train the model using the training sets\n",
        "model.fit(x,y)"
      ],
      "execution_count": null,
      "outputs": []
    },
    {
      "cell_type": "code",
      "metadata": {
        "id": "vUX_3MXJK0do",
        "colab_type": "code",
        "colab": {}
      },
      "source": [
        "#Predicting the Test Set Results\n",
        "y_pred=model.predict(x)              #we can predict the salary of 7.5yrs\n",
        "print(y_pred)"
      ],
      "execution_count": null,
      "outputs": []
    },
    {
      "cell_type": "code",
      "metadata": {
        "id": "6Q3j166IK3fH",
        "colab_type": "code",
        "colab": {}
      },
      "source": [
        "#For high resolution\n",
        "x_grid=np.arange(min (x),max (x),0.01).reshape(-1,1)\n",
        "y_pred=model.predict(x_grid)\n",
        "y_pred"
      ],
      "execution_count": null,
      "outputs": []
    },
    {
      "cell_type": "code",
      "metadata": {
        "id": "yhAM3rtiLALm",
        "colab_type": "code",
        "colab": {}
      },
      "source": [
        "#scattering\n",
        "plt.scatter(x,y)\n",
        "\n",
        "#plt.scatter(X_test, y_test, color='red')\n",
        "plt.plot(x_grid,y_pred,color='red')\n",
        "\n"
      ],
      "execution_count": null,
      "outputs": []
    },
    {
      "cell_type": "code",
      "metadata": {
        "id": "IjXDiUl3LLO2",
        "colab_type": "code",
        "colab": {}
      },
      "source": [
        ""
      ],
      "execution_count": null,
      "outputs": []
    },
    {
      "cell_type": "code",
      "metadata": {
        "id": "rHoguXNr7F4t",
        "colab_type": "code",
        "colab": {}
      },
      "source": [
        "#example-3"
      ],
      "execution_count": null,
      "outputs": []
    },
    {
      "cell_type": "code",
      "metadata": {
        "id": "bOzu-tQrM3Mx",
        "colab_type": "code",
        "colab": {}
      },
      "source": [
        "import numpy as np\n",
        "import pandas as pd\n",
        "import matplotlib.pyplot as plt\n",
        "\n",
        "#Loading the dataset\n",
        "df = pd.read_csv('gunpowder.csv').values\n",
        "#Specify dependent and independent veraibles\n",
        "x = df[:, :-1]   #last coloumn is left behind.\n",
        "y = df[:, -1]\n",
        "\n",
        "df"
      ],
      "execution_count": null,
      "outputs": []
    },
    {
      "cell_type": "code",
      "metadata": {
        "id": "qfs4JC6bM6_t",
        "colab_type": "code",
        "colab": {}
      },
      "source": [
        "print(x)\n",
        "print(y)"
      ],
      "execution_count": null,
      "outputs": []
    },
    {
      "cell_type": "code",
      "metadata": {
        "id": "B9Uw5tUENEO_",
        "colab_type": "code",
        "colab": {}
      },
      "source": [
        "#scattering\n",
        "plt.scatter(x,y)\n",
        "\n"
      ],
      "execution_count": null,
      "outputs": []
    },
    {
      "cell_type": "code",
      "metadata": {
        "id": "gQerTzNKNTxB",
        "colab_type": "code",
        "colab": {}
      },
      "source": [
        "# Importing decision tree class\n",
        "from sklearn.tree import DecisionTreeRegressor\n",
        "\n",
        "#1 Create decision tree object\n",
        "model=DecisionTreeRegressor()\n",
        "\n"
      ],
      "execution_count": null,
      "outputs": []
    },
    {
      "cell_type": "code",
      "metadata": {
        "id": "aTq9HI7eNXDc",
        "colab_type": "code",
        "colab": {}
      },
      "source": [
        "#2 Train the model using the training sets\n",
        "model.fit(x,y)\n",
        "\n"
      ],
      "execution_count": null,
      "outputs": []
    },
    {
      "cell_type": "code",
      "metadata": {
        "id": "njEkL_aiNZkV",
        "colab_type": "code",
        "colab": {}
      },
      "source": [
        "#Predicting the Test Set Results\n",
        "y_pred=model.predict(x)\n",
        "print(y_pred)"
      ],
      "execution_count": null,
      "outputs": []
    },
    {
      "cell_type": "code",
      "metadata": {
        "id": "NHYpYrxQNcJF",
        "colab_type": "code",
        "colab": {}
      },
      "source": [
        "#Visualising the Training & Test Set Results\n",
        "plt.scatter(x,y)\n",
        "\n",
        "#plt.scatter(X_test, y_test, color='red')\n",
        "plt.plot(x,y_pred,color='red')\n",
        "\n"
      ],
      "execution_count": null,
      "outputs": []
    },
    {
      "cell_type": "code",
      "metadata": {
        "id": "ODV25ih2Nf_H",
        "colab_type": "code",
        "colab": {}
      },
      "source": [
        "#For high resolotuion\n",
        "x_grid=np.arange(min (x),max (x),0.1).reshape(-1,1)\n",
        "y_pred=model.predict(x_grid)\n",
        "y_pred"
      ],
      "execution_count": null,
      "outputs": []
    },
    {
      "cell_type": "code",
      "metadata": {
        "id": "pGKVER4zNke3",
        "colab_type": "code",
        "colab": {}
      },
      "source": [
        ""
      ],
      "execution_count": null,
      "outputs": []
    },
    {
      "cell_type": "code",
      "metadata": {
        "id": "k0P6dJxZNqE3",
        "colab_type": "code",
        "colab": {}
      },
      "source": [
        "#example-4"
      ],
      "execution_count": null,
      "outputs": []
    },
    {
      "cell_type": "code",
      "metadata": {
        "id": "SZ4-2B0t7Sos",
        "colab_type": "code",
        "colab": {}
      },
      "source": [
        "import pandas as pd\n",
        "import numpy as np\n",
        "import matplotlib.pyplot as plt"
      ],
      "execution_count": null,
      "outputs": []
    },
    {
      "cell_type": "code",
      "metadata": {
        "id": "Hj1ApAke7Rzx",
        "colab_type": "code",
        "colab": {}
      },
      "source": [
        "#Importing the data\n",
        "df =pd.read_csv('Chip_test.csv').values\n",
        "df.shape"
      ],
      "execution_count": null,
      "outputs": []
    },
    {
      "cell_type": "code",
      "metadata": {
        "id": "zH6gDvwY7RwM",
        "colab_type": "code",
        "colab": {}
      },
      "source": [
        "x= df[:, 0:2 ]\n",
        "y= df[:, -1] "
      ],
      "execution_count": null,
      "outputs": []
    },
    {
      "cell_type": "code",
      "metadata": {
        "id": "VOvMD_zL7hFU",
        "colab_type": "code",
        "colab": {}
      },
      "source": [
        "x, y\n"
      ],
      "execution_count": null,
      "outputs": []
    },
    {
      "cell_type": "code",
      "metadata": {
        "id": "AcMAcaRu7RsR",
        "colab_type": "code",
        "colab": {}
      },
      "source": [
        "# Splitting the dataset into the Training set and Test set\n",
        "from sklearn.model_selection import train_test_split\n",
        "x_train, x_test, y_train, y_test = train_test_split(x, y, test_size = 0.25) "
      ],
      "execution_count": null,
      "outputs": []
    },
    {
      "cell_type": "code",
      "metadata": {
        "id": "4qaTp5jH7Ros",
        "colab_type": "code",
        "colab": {}
      },
      "source": [
        "#Fitting DT classifier to Training Set\n",
        "from sklearn.tree import DecisionTreeClassifier\n",
        "model= DecisionTreeClassifier()"
      ],
      "execution_count": null,
      "outputs": []
    },
    {
      "cell_type": "code",
      "metadata": {
        "id": "NoqVe3AJ7Rk4",
        "colab_type": "code",
        "colab": {}
      },
      "source": [
        "model.fit(x_train,y_train)"
      ],
      "execution_count": null,
      "outputs": []
    },
    {
      "cell_type": "code",
      "metadata": {
        "id": "0U3Ymz_I7Rgy",
        "colab_type": "code",
        "colab": {}
      },
      "source": [
        "#Predicting the Test Set Results\n",
        "y_pred = model.predict(x_test)\n",
        "y_pred"
      ],
      "execution_count": null,
      "outputs": []
    },
    {
      "cell_type": "code",
      "metadata": {
        "id": "8DJbLpn57RdE",
        "colab_type": "code",
        "colab": {}
      },
      "source": [
        "from sklearn.metrics import confusion_matrix\n",
        "cm = confusion_matrix(y_test,y_pred)\n",
        "cm"
      ],
      "execution_count": null,
      "outputs": []
    },
    {
      "cell_type": "code",
      "metadata": {
        "id": "M00yszl77eKe",
        "colab_type": "code",
        "colab": {}
      },
      "source": [
        ""
      ],
      "execution_count": null,
      "outputs": []
    },
    {
      "cell_type": "code",
      "metadata": {
        "id": "GnKd9pi_7d3E",
        "colab_type": "code",
        "colab": {}
      },
      "source": [
        ""
      ],
      "execution_count": null,
      "outputs": []
    },
    {
      "cell_type": "markdown",
      "metadata": {
        "id": "hCd1DG50Nt2R",
        "colab_type": "text"
      },
      "source": [
        "#Random Forest\n",
        "\n"
      ]
    },
    {
      "cell_type": "code",
      "metadata": {
        "id": "uARiLAkXOEvQ",
        "colab_type": "code",
        "colab": {
          "base_uri": "https://localhost:8080/",
          "height": 516
        },
        "outputId": "98817f39-767e-469b-9699-20e20ce8c336"
      },
      "source": [
        "\n",
        "import numpy as np\n",
        "import pandas as pd\n",
        "import matplotlib.pyplot as plt\n",
        "\n",
        "#Loading the dataset\n",
        "df = pd.read_csv('Salary_Data.csv').values\n",
        "df"
      ],
      "execution_count": null,
      "outputs": [
        {
          "output_type": "execute_result",
          "data": {
            "text/plain": [
              "array([[1.10000e+00, 3.93430e+04],\n",
              "       [1.30000e+00, 4.62050e+04],\n",
              "       [1.50000e+00, 3.77310e+04],\n",
              "       [2.00000e+00, 4.35250e+04],\n",
              "       [2.20000e+00, 3.98910e+04],\n",
              "       [2.90000e+00, 5.66420e+04],\n",
              "       [3.00000e+00, 6.01500e+04],\n",
              "       [3.20000e+00, 5.44450e+04],\n",
              "       [3.20000e+00, 6.44450e+04],\n",
              "       [3.70000e+00, 5.71890e+04],\n",
              "       [3.90000e+00, 6.32180e+04],\n",
              "       [4.00000e+00, 5.57940e+04],\n",
              "       [4.00000e+00, 5.69570e+04],\n",
              "       [4.10000e+00, 5.70810e+04],\n",
              "       [4.50000e+00, 6.11110e+04],\n",
              "       [4.90000e+00, 6.79380e+04],\n",
              "       [5.10000e+00, 6.60290e+04],\n",
              "       [5.30000e+00, 8.30880e+04],\n",
              "       [5.90000e+00, 8.13630e+04],\n",
              "       [6.00000e+00, 9.39400e+04],\n",
              "       [6.80000e+00, 9.17380e+04],\n",
              "       [7.10000e+00, 9.82730e+04],\n",
              "       [7.90000e+00, 1.01302e+05],\n",
              "       [8.20000e+00, 1.13812e+05],\n",
              "       [8.70000e+00, 1.09431e+05],\n",
              "       [9.00000e+00, 1.05582e+05],\n",
              "       [9.50000e+00, 1.16969e+05],\n",
              "       [9.60000e+00, 1.12635e+05],\n",
              "       [1.03000e+01, 1.22391e+05],\n",
              "       [1.05000e+01, 1.21872e+05]])"
            ]
          },
          "metadata": {
            "tags": []
          },
          "execution_count": 3
        }
      ]
    },
    {
      "cell_type": "code",
      "metadata": {
        "id": "Qp14rcGfd8FM",
        "colab_type": "code",
        "colab": {
          "base_uri": "https://localhost:8080/",
          "height": 583
        },
        "outputId": "d1d7b1a1-238f-4779-aa57-bfb30fa152a9"
      },
      "source": [
        "#Specify dependent and independent veraibles\n",
        "x = df[:, :-1]                                   #last coloumn is left behind.\n",
        "y = df[:, -1]\n",
        "print(x)\n",
        "print(y)\n"
      ],
      "execution_count": null,
      "outputs": [
        {
          "output_type": "stream",
          "text": [
            "[[ 1.1]\n",
            " [ 1.3]\n",
            " [ 1.5]\n",
            " [ 2. ]\n",
            " [ 2.2]\n",
            " [ 2.9]\n",
            " [ 3. ]\n",
            " [ 3.2]\n",
            " [ 3.2]\n",
            " [ 3.7]\n",
            " [ 3.9]\n",
            " [ 4. ]\n",
            " [ 4. ]\n",
            " [ 4.1]\n",
            " [ 4.5]\n",
            " [ 4.9]\n",
            " [ 5.1]\n",
            " [ 5.3]\n",
            " [ 5.9]\n",
            " [ 6. ]\n",
            " [ 6.8]\n",
            " [ 7.1]\n",
            " [ 7.9]\n",
            " [ 8.2]\n",
            " [ 8.7]\n",
            " [ 9. ]\n",
            " [ 9.5]\n",
            " [ 9.6]\n",
            " [10.3]\n",
            " [10.5]]\n",
            "[ 39343.  46205.  37731.  43525.  39891.  56642.  60150.  54445.  64445.\n",
            "  57189.  63218.  55794.  56957.  57081.  61111.  67938.  66029.  83088.\n",
            "  81363.  93940.  91738.  98273. 101302. 113812. 109431. 105582. 116969.\n",
            " 112635. 122391. 121872.]\n"
          ],
          "name": "stdout"
        }
      ]
    },
    {
      "cell_type": "code",
      "metadata": {
        "id": "0lvRAWcoWUR6",
        "colab_type": "code",
        "colab": {
          "base_uri": "https://localhost:8080/",
          "height": 281
        },
        "outputId": "1411ad85-92ee-4209-9587-6ddc91f30714"
      },
      "source": [
        "#scattering\n",
        "plt.scatter(x,y)"
      ],
      "execution_count": null,
      "outputs": [
        {
          "output_type": "execute_result",
          "data": {
            "text/plain": [
              "<matplotlib.collections.PathCollection at 0x7f3e3c8faf28>"
            ]
          },
          "metadata": {
            "tags": []
          },
          "execution_count": 5
        },
        {
          "output_type": "display_data",
          "data": {
            "image/png": "[encoded data removed]",
            "text/plain": [
              "<Figure size 432x288 with 1 Axes>"
            ]
          },
          "metadata": {
            "tags": [],
            "needs_background": "light"
          }
        }
      ]
    },
    {
      "cell_type": "code",
      "metadata": {
        "id": "PKfCWESXWT7z",
        "colab_type": "code",
        "colab": {}
      },
      "source": [
        "# Importing random forest class\n",
        "from sklearn.ensemble import RandomForestRegressor\n"
      ],
      "execution_count": null,
      "outputs": []
    },
    {
      "cell_type": "code",
      "metadata": {
        "id": "iFFCyTtZeJ_F",
        "colab_type": "code",
        "colab": {}
      },
      "source": [
        "#1 Create decision tree object\n",
        "model=RandomForestRegressor(n_estimators=50)"
      ],
      "execution_count": null,
      "outputs": []
    },
    {
      "cell_type": "code",
      "metadata": {
        "id": "ILXkmGIbeJ8Y",
        "colab_type": "code",
        "colab": {
          "base_uri": "https://localhost:8080/",
          "height": 133
        },
        "outputId": "b3ab089e-d2b1-4f1b-d029-3cca621913d8"
      },
      "source": [
        "#2 Train the model using the training sets\n",
        "model.fit(x,y)"
      ],
      "execution_count": null,
      "outputs": [
        {
          "output_type": "execute_result",
          "data": {
            "text/plain": [
              "RandomForestRegressor(bootstrap=True, ccp_alpha=0.0, criterion='mse',\n",
              "                      max_depth=None, max_features='auto', max_leaf_nodes=None,\n",
              "                      max_samples=None, min_impurity_decrease=0.0,\n",
              "                      min_impurity_split=None, min_samples_leaf=1,\n",
              "                      min_samples_split=2, min_weight_fraction_leaf=0.0,\n",
              "                      n_estimators=50, n_jobs=None, oob_score=False,\n",
              "                      random_state=None, verbose=0, warm_start=False)"
            ]
          },
          "metadata": {
            "tags": []
          },
          "execution_count": 9
        }
      ]
    },
    {
      "cell_type": "code",
      "metadata": {
        "id": "cF-OS8bPeJ6D",
        "colab_type": "code",
        "colab": {
          "base_uri": "https://localhost:8080/",
          "height": 150
        },
        "outputId": "9640a0c5-7ed5-4ca3-bc70-cdc3d10a218f"
      },
      "source": [
        "#Predicting the Test Set Results\n",
        "y_pred=model.predict(x)                     \n",
        "y_pred"
      ],
      "execution_count": null,
      "outputs": [
        {
          "output_type": "execute_result",
          "data": {
            "text/plain": [
              "array([ 41641.64      ,  44111.96      ,  39722.04      ,  41992.08      ,\n",
              "        41035.42      ,  57782.52666667,  59185.72666667,  59647.90666667,\n",
              "        59647.90666667,  58931.85666667,  60812.38266667,  56768.90933333,\n",
              "        56768.90933333,  57056.59666667,  60718.76      ,  67356.48      ,\n",
              "        67479.88      ,  78156.06      ,  84852.96      ,  90397.94      ,\n",
              "        93394.48      ,  96678.52      , 105834.36      , 110630.32      ,\n",
              "       108543.2       , 108003.56      , 114337.86      , 113035.98      ,\n",
              "       120902.44      , 120694.84      ])"
            ]
          },
          "metadata": {
            "tags": []
          },
          "execution_count": 10
        }
      ]
    },
    {
      "cell_type": "code",
      "metadata": {
        "id": "Kr2kSUl5eJ3x",
        "colab_type": "code",
        "colab": {
          "base_uri": "https://localhost:8080/",
          "height": 281
        },
        "outputId": "55af5e4d-23cb-4335-9e0c-f0ae47f25a78"
      },
      "source": [
        "#plt.scatter(X_test, y_test, color='red')\n",
        "plt.plot(x,y_pred,color='red')\n"
      ],
      "execution_count": null,
      "outputs": [
        {
          "output_type": "execute_result",
          "data": {
            "text/plain": [
              "[<matplotlib.lines.Line2D at 0x7f3e2db38470>]"
            ]
          },
          "metadata": {
            "tags": []
          },
          "execution_count": 11
        },
        {
          "output_type": "display_data",
          "data": {
            "image/png": "[encoded data removed]",
            "text/plain": [
              "<Figure size 432x288 with 1 Axes>"
            ]
          },
          "metadata": {
            "tags": [],
            "needs_background": "light"
          }
        }
      ]
    },
    {
      "cell_type": "code",
      "metadata": {
        "id": "CwQdQ9IeeJ1l",
        "colab_type": "code",
        "colab": {
          "base_uri": "https://localhost:8080/",
          "height": 33
        },
        "outputId": "481a0cdb-ffb7-4ebb-df41-fee9841394c3"
      },
      "source": [
        "#test accuracy of prediction\n",
        "#it should closer to 1\n",
        "from sklearn.metrics import mean_squared_error,r2_score\n",
        "msc=mean_squared_error(y,y_pred)      #lesser the value ,more accurate\n",
        "r2_score=r2_score(y,y_pred)  \n",
        "print(msc)\n"
      ],
      "execution_count": null,
      "outputs": [
        {
          "output_type": "stream",
          "text": [
            "6144946.546222488\n"
          ],
          "name": "stdout"
        }
      ]
    },
    {
      "cell_type": "code",
      "metadata": {
        "id": "D5AS42DtedJ6",
        "colab_type": "code",
        "colab": {
          "base_uri": "https://localhost:8080/",
          "height": 33
        },
        "outputId": "5ec8d1f5-1a31-4e73-d83f-1888c4c718d8"
      },
      "source": [
        "print(r2_score)"
      ],
      "execution_count": null,
      "outputs": [
        {
          "output_type": "stream",
          "text": [
            "0.9915417029721938\n"
          ],
          "name": "stdout"
        }
      ]
    },
    {
      "cell_type": "code",
      "metadata": {
        "id": "Jeeb7ZdUedFc",
        "colab_type": "code",
        "colab": {}
      },
      "source": [
        "#example-2"
      ],
      "execution_count": null,
      "outputs": []
    },
    {
      "cell_type": "code",
      "metadata": {
        "id": "DGIqMsc2kb5h",
        "colab_type": "code",
        "colab": {}
      },
      "source": [
        "import numpy as np\n",
        "import matplotlib.pyplot as plt\n",
        "import pandas as pd"
      ],
      "execution_count": null,
      "outputs": []
    },
    {
      "cell_type": "code",
      "metadata": {
        "id": "7L8q5X-2WXvR",
        "colab_type": "code",
        "colab": {}
      },
      "source": [
        "path = \"https://archive.ics.uci.edu/ml/machine-learning-databases/iris/iris.data\"\n"
      ],
      "execution_count": null,
      "outputs": []
    },
    {
      "cell_type": "code",
      "metadata": {
        "id": "a00GEJCAWau3",
        "colab_type": "code",
        "colab": {}
      },
      "source": [
        "headernames = ['sepal-length', 'sepal-width', 'petal-length', 'petal-width', 'Class']\n"
      ],
      "execution_count": null,
      "outputs": []
    },
    {
      "cell_type": "code",
      "metadata": {
        "id": "bgjD55T8Wd27",
        "colab_type": "code",
        "colab": {
          "base_uri": "https://localhost:8080/",
          "height": 197
        },
        "outputId": "0f79789b-8f4c-4aed-eb39-d8fe8a1169fa"
      },
      "source": [
        "dataset = pd.read_csv(path, names = headernames)\n",
        "dataset.head()"
      ],
      "execution_count": null,
      "outputs": [
        {
          "output_type": "execute_result",
          "data": {
            "text/html": [
              "<div>\n",
              "<style scoped>\n",
              "    .dataframe tbody tr th:only-of-type {\n",
              "        vertical-align: middle;\n",
              "    }\n",
              "\n",
              "    .dataframe tbody tr th {\n",
              "        vertical-align: top;\n",
              "    }\n",
              "\n",
              "    .dataframe thead th {\n",
              "        text-align: right;\n",
              "    }\n",
              "</style>\n",
              "<table border=\"1\" class=\"dataframe\">\n",
              "  <thead>\n",
              "    <tr style=\"text-align: right;\">\n",
              "      <th></th>\n",
              "      <th>sepal-length</th>\n",
              "      <th>sepal-width</th>\n",
              "      <th>petal-length</th>\n",
              "      <th>petal-width</th>\n",
              "      <th>Class</th>\n",
              "    </tr>\n",
              "  </thead>\n",
              "  <tbody>\n",
              "    <tr>\n",
              "      <th>0</th>\n",
              "      <td>5.1</td>\n",
              "      <td>3.5</td>\n",
              "      <td>1.4</td>\n",
              "      <td>0.2</td>\n",
              "      <td>Iris-setosa</td>\n",
              "    </tr>\n",
              "    <tr>\n",
              "      <th>1</th>\n",
              "      <td>4.9</td>\n",
              "      <td>3.0</td>\n",
              "      <td>1.4</td>\n",
              "      <td>0.2</td>\n",
              "      <td>Iris-setosa</td>\n",
              "    </tr>\n",
              "    <tr>\n",
              "      <th>2</th>\n",
              "      <td>4.7</td>\n",
              "      <td>3.2</td>\n",
              "      <td>1.3</td>\n",
              "      <td>0.2</td>\n",
              "      <td>Iris-setosa</td>\n",
              "    </tr>\n",
              "    <tr>\n",
              "      <th>3</th>\n",
              "      <td>4.6</td>\n",
              "      <td>3.1</td>\n",
              "      <td>1.5</td>\n",
              "      <td>0.2</td>\n",
              "      <td>Iris-setosa</td>\n",
              "    </tr>\n",
              "    <tr>\n",
              "      <th>4</th>\n",
              "      <td>5.0</td>\n",
              "      <td>3.6</td>\n",
              "      <td>1.4</td>\n",
              "      <td>0.2</td>\n",
              "      <td>Iris-setosa</td>\n",
              "    </tr>\n",
              "  </tbody>\n",
              "</table>\n",
              "</div>"
            ],
            "text/plain": [
              "   sepal-length  sepal-width  petal-length  petal-width        Class\n",
              "0           5.1          3.5           1.4          0.2  Iris-setosa\n",
              "1           4.9          3.0           1.4          0.2  Iris-setosa\n",
              "2           4.7          3.2           1.3          0.2  Iris-setosa\n",
              "3           4.6          3.1           1.5          0.2  Iris-setosa\n",
              "4           5.0          3.6           1.4          0.2  Iris-setosa"
            ]
          },
          "metadata": {
            "tags": []
          },
          "execution_count": 16
        }
      ]
    },
    {
      "cell_type": "code",
      "metadata": {
        "id": "T7CD5YtAWiKK",
        "colab_type": "code",
        "colab": {}
      },
      "source": [
        "X = dataset.iloc[:, :-1].values\n",
        "y = dataset.iloc[:, 4].values"
      ],
      "execution_count": null,
      "outputs": []
    },
    {
      "cell_type": "code",
      "metadata": {
        "id": "QJ8vvzNpWlnt",
        "colab_type": "code",
        "colab": {}
      },
      "source": [
        "from sklearn.model_selection import train_test_split\n",
        "X_train, X_test, y_train, y_test = train_test_split(X, y, test_size = 0.30)"
      ],
      "execution_count": null,
      "outputs": []
    },
    {
      "cell_type": "code",
      "metadata": {
        "id": "A7cenBdyWpuI",
        "colab_type": "code",
        "colab": {
          "base_uri": "https://localhost:8080/",
          "height": 150
        },
        "outputId": "29433c53-3673-4faa-dda2-2a4554e1e914"
      },
      "source": [
        "from sklearn.ensemble import RandomForestClassifier\n",
        "classifier = RandomForestClassifier(n_estimators = 50)\n",
        "classifier.fit(X_train, y_train)"
      ],
      "execution_count": null,
      "outputs": [
        {
          "output_type": "execute_result",
          "data": {
            "text/plain": [
              "RandomForestClassifier(bootstrap=True, ccp_alpha=0.0, class_weight=None,\n",
              "                       criterion='gini', max_depth=None, max_features='auto',\n",
              "                       max_leaf_nodes=None, max_samples=None,\n",
              "                       min_impurity_decrease=0.0, min_impurity_split=None,\n",
              "                       min_samples_leaf=1, min_samples_split=2,\n",
              "                       min_weight_fraction_leaf=0.0, n_estimators=50,\n",
              "                       n_jobs=None, oob_score=False, random_state=None,\n",
              "                       verbose=0, warm_start=False)"
            ]
          },
          "metadata": {
            "tags": []
          },
          "execution_count": 19
        }
      ]
    },
    {
      "cell_type": "code",
      "metadata": {
        "id": "vKYgOkLHWsiJ",
        "colab_type": "code",
        "colab": {
          "base_uri": "https://localhost:8080/",
          "height": 250
        },
        "outputId": "b72bbd67-ad6a-466e-839a-5544ef2be0df"
      },
      "source": [
        "y_pred = classifier.predict(X_test)\n",
        "y_pred"
      ],
      "execution_count": null,
      "outputs": [
        {
          "output_type": "execute_result",
          "data": {
            "text/plain": [
              "array(['Iris-virginica', 'Iris-virginica', 'Iris-virginica',\n",
              "       'Iris-versicolor', 'Iris-virginica', 'Iris-virginica',\n",
              "       'Iris-virginica', 'Iris-versicolor', 'Iris-versicolor',\n",
              "       'Iris-setosa', 'Iris-versicolor', 'Iris-versicolor',\n",
              "       'Iris-versicolor', 'Iris-versicolor', 'Iris-virginica',\n",
              "       'Iris-setosa', 'Iris-virginica', 'Iris-versicolor',\n",
              "       'Iris-virginica', 'Iris-setosa', 'Iris-setosa', 'Iris-setosa',\n",
              "       'Iris-versicolor', 'Iris-virginica', 'Iris-versicolor',\n",
              "       'Iris-virginica', 'Iris-versicolor', 'Iris-versicolor',\n",
              "       'Iris-setosa', 'Iris-versicolor', 'Iris-virginica',\n",
              "       'Iris-versicolor', 'Iris-versicolor', 'Iris-versicolor',\n",
              "       'Iris-setosa', 'Iris-setosa', 'Iris-setosa', 'Iris-versicolor',\n",
              "       'Iris-versicolor', 'Iris-setosa', 'Iris-versicolor', 'Iris-setosa',\n",
              "       'Iris-setosa', 'Iris-virginica', 'Iris-setosa'], dtype=object)"
            ]
          },
          "metadata": {
            "tags": []
          },
          "execution_count": 20
        }
      ]
    },
    {
      "cell_type": "code",
      "metadata": {
        "id": "ZbG7ogODWucE",
        "colab_type": "code",
        "colab": {
          "base_uri": "https://localhost:8080/",
          "height": 83
        },
        "outputId": "dc84275d-0910-4118-de0f-0e0237bce1e3"
      },
      "source": [
        "from sklearn.metrics import classification_report, confusion_matrix, accuracy_score\n",
        "result = confusion_matrix(y_test, y_pred)\n",
        "print(\"Confusion Matrix:\")\n",
        "print(result)"
      ],
      "execution_count": null,
      "outputs": [
        {
          "output_type": "stream",
          "text": [
            "Confusion Matrix:\n",
            "[[13  0  0]\n",
            " [ 0 17  1]\n",
            " [ 0  2 12]]\n"
          ],
          "name": "stdout"
        }
      ]
    },
    {
      "cell_type": "code",
      "metadata": {
        "id": "GwTbo-9HWyHu",
        "colab_type": "code",
        "colab": {
          "base_uri": "https://localhost:8080/",
          "height": 200
        },
        "outputId": "a97c8e35-3082-4b63-b842-34c89d39e41c"
      },
      "source": [
        "result1 = classification_report(y_test, y_pred)\n",
        "print(\"Classification Report:\",)\n",
        "print (result1)"
      ],
      "execution_count": null,
      "outputs": [
        {
          "output_type": "stream",
          "text": [
            "Classification Report:\n",
            "                 precision    recall  f1-score   support\n",
            "\n",
            "    Iris-setosa       1.00      1.00      1.00        13\n",
            "Iris-versicolor       0.89      0.94      0.92        18\n",
            " Iris-virginica       0.92      0.86      0.89        14\n",
            "\n",
            "       accuracy                           0.93        45\n",
            "      macro avg       0.94      0.93      0.94        45\n",
            "   weighted avg       0.93      0.93      0.93        45\n",
            "\n"
          ],
          "name": "stdout"
        }
      ]
    },
    {
      "cell_type": "code",
      "metadata": {
        "id": "Uup2a4mCu5eG",
        "colab_type": "code",
        "colab": {
          "base_uri": "https://localhost:8080/",
          "height": 33
        },
        "outputId": "953b9b21-9692-4284-cda1-9d3f629e3c02"
      },
      "source": [
        "result2 = accuracy_score(y_test,y_pred)\n",
        "print(\"Accuracy:\",result2)"
      ],
      "execution_count": null,
      "outputs": [
        {
          "output_type": "stream",
          "text": [
            "Accuracy: 0.9333333333333333\n"
          ],
          "name": "stdout"
        }
      ]
    },
    {
      "cell_type": "code",
      "metadata": {
        "id": "SMP3wh-x6HGi",
        "colab_type": "code",
        "colab": {}
      },
      "source": [
        "#example-3"
      ],
      "execution_count": null,
      "outputs": []
    },
    {
      "cell_type": "code",
      "metadata": {
        "id": "Zzk9v9_D6JDu",
        "colab_type": "code",
        "colab": {}
      },
      "source": [
        "# Importing the libraries\n",
        "\n",
        "# Importing the dataset\n",
        "df = pd.read_csv('Chip_test.csv').values\n",
        "x = df[:, 0:2]\n",
        "y = df[:, -1]"
      ],
      "execution_count": null,
      "outputs": []
    },
    {
      "cell_type": "code",
      "metadata": {
        "id": "3fp2-oAu6I3k",
        "colab_type": "code",
        "colab": {
          "base_uri": "https://localhost:8080/",
          "height": 1000
        },
        "outputId": "0b324b0a-401c-4403-e341-e9741e144639"
      },
      "source": [
        "x, y\n"
      ],
      "execution_count": null,
      "outputs": [
        {
          "output_type": "execute_result",
          "data": {
            "text/plain": [
              "(array([[ 0.051267 ,  0.69956  ],\n",
              "        [-0.092742 ,  0.68494  ],\n",
              "        [-0.21371  ,  0.69225  ],\n",
              "        [-0.375    ,  0.50219  ],\n",
              "        [-0.51325  ,  0.46564  ],\n",
              "        [-0.52477  ,  0.2098   ],\n",
              "        [-0.39804  ,  0.034357 ],\n",
              "        [-0.30588  , -0.19225  ],\n",
              "        [ 0.016705 , -0.40424  ],\n",
              "        [ 0.13191  , -0.51389  ],\n",
              "        [ 0.38537  , -0.56506  ],\n",
              "        [ 0.52938  , -0.5212   ],\n",
              "        [ 0.63882  , -0.24342  ],\n",
              "        [ 0.73675  , -0.18494  ],\n",
              "        [ 0.54666  ,  0.48757  ],\n",
              "        [ 0.322    ,  0.5826   ],\n",
              "        [ 0.16647  ,  0.53874  ],\n",
              "        [-0.046659 ,  0.81652  ],\n",
              "        [-0.17339  ,  0.69956  ],\n",
              "        [-0.47869  ,  0.63377  ],\n",
              "        [-0.60541  ,  0.59722  ],\n",
              "        [-0.62846  ,  0.33406  ],\n",
              "        [-0.59389  ,  0.005117 ],\n",
              "        [-0.42108  , -0.27266  ],\n",
              "        [-0.11578  , -0.39693  ],\n",
              "        [ 0.20104  , -0.60161  ],\n",
              "        [ 0.46601  , -0.53582  ],\n",
              "        [ 0.67339  , -0.53582  ],\n",
              "        [-0.13882  ,  0.54605  ],\n",
              "        [-0.29435  ,  0.77997  ],\n",
              "        [-0.26555  ,  0.96272  ],\n",
              "        [-0.16187  ,  0.8019   ],\n",
              "        [-0.17339  ,  0.64839  ],\n",
              "        [-0.28283  ,  0.47295  ],\n",
              "        [-0.36348  ,  0.31213  ],\n",
              "        [-0.30012  ,  0.027047 ],\n",
              "        [-0.23675  , -0.21418  ],\n",
              "        [-0.06394  , -0.18494  ],\n",
              "        [ 0.062788 , -0.16301  ],\n",
              "        [ 0.22984  , -0.41155  ],\n",
              "        [ 0.2932   , -0.2288   ],\n",
              "        [ 0.48329  , -0.18494  ],\n",
              "        [ 0.64459  , -0.14108  ],\n",
              "        [ 0.46025  ,  0.012427 ],\n",
              "        [ 0.6273   ,  0.15863  ],\n",
              "        [ 0.57546  ,  0.26827  ],\n",
              "        [ 0.72523  ,  0.44371  ],\n",
              "        [ 0.22408  ,  0.52412  ],\n",
              "        [ 0.44297  ,  0.67032  ],\n",
              "        [ 0.322    ,  0.69225  ],\n",
              "        [ 0.13767  ,  0.57529  ],\n",
              "        [-0.0063364,  0.39985  ],\n",
              "        [-0.092742 ,  0.55336  ],\n",
              "        [-0.20795  ,  0.35599  ],\n",
              "        [-0.20795  ,  0.17325  ],\n",
              "        [-0.43836  ,  0.21711  ],\n",
              "        [-0.21947  , -0.016813 ],\n",
              "        [-0.13882  , -0.27266  ],\n",
              "        [ 0.18376  ,  0.93348  ],\n",
              "        [ 0.22408  ,  0.77997  ],\n",
              "        [ 0.29896  ,  0.61915  ],\n",
              "        [ 0.50634  ,  0.75804  ],\n",
              "        [ 0.61578  ,  0.7288   ],\n",
              "        [ 0.60426  ,  0.59722  ],\n",
              "        [ 0.76555  ,  0.50219  ],\n",
              "        [ 0.92684  ,  0.3633   ],\n",
              "        [ 0.82316  ,  0.27558  ],\n",
              "        [ 0.96141  ,  0.085526 ],\n",
              "        [ 0.93836  ,  0.012427 ],\n",
              "        [ 0.86348  , -0.082602 ],\n",
              "        [ 0.89804  , -0.20687  ],\n",
              "        [ 0.85196  , -0.36769  ],\n",
              "        [ 0.82892  , -0.5212   ],\n",
              "        [ 0.79435  , -0.55775  ],\n",
              "        [ 0.59274  , -0.7405   ],\n",
              "        [ 0.51786  , -0.5943   ],\n",
              "        [ 0.46601  , -0.41886  ],\n",
              "        [ 0.35081  , -0.57968  ],\n",
              "        [ 0.28744  , -0.76974  ],\n",
              "        [ 0.085829 , -0.75512  ],\n",
              "        [ 0.14919  , -0.57968  ],\n",
              "        [-0.13306  , -0.4481   ],\n",
              "        [-0.40956  , -0.41155  ],\n",
              "        [-0.39228  , -0.25804  ],\n",
              "        [-0.74366  , -0.25804  ],\n",
              "        [-0.69758  ,  0.041667 ],\n",
              "        [-0.75518  ,  0.2902   ],\n",
              "        [-0.69758  ,  0.68494  ],\n",
              "        [-0.4038   ,  0.70687  ],\n",
              "        [-0.38076  ,  0.91886  ],\n",
              "        [-0.50749  ,  0.90424  ],\n",
              "        [-0.54781  ,  0.70687  ],\n",
              "        [ 0.10311  ,  0.77997  ],\n",
              "        [ 0.057028 ,  0.91886  ],\n",
              "        [-0.10426  ,  0.99196  ],\n",
              "        [-0.081221 ,  1.1089   ],\n",
              "        [ 0.28744  ,  1.087    ],\n",
              "        [ 0.39689  ,  0.82383  ],\n",
              "        [ 0.63882  ,  0.88962  ],\n",
              "        [ 0.82316  ,  0.66301  ],\n",
              "        [ 0.67339  ,  0.64108  ],\n",
              "        [ 1.0709   ,  0.10015  ],\n",
              "        [-0.046659 , -0.57968  ],\n",
              "        [-0.23675  , -0.63816  ],\n",
              "        [-0.15035  , -0.36769  ],\n",
              "        [-0.49021  , -0.3019   ],\n",
              "        [-0.46717  , -0.13377  ],\n",
              "        [-0.28859  , -0.060673 ],\n",
              "        [-0.61118  , -0.067982 ],\n",
              "        [-0.66302  , -0.21418  ],\n",
              "        [-0.59965  , -0.41886  ],\n",
              "        [-0.72638  , -0.082602 ],\n",
              "        [-0.83007  ,  0.31213  ],\n",
              "        [-0.72062  ,  0.53874  ],\n",
              "        [-0.59389  ,  0.49488  ],\n",
              "        [-0.48445  ,  0.99927  ],\n",
              "        [-0.0063364,  0.99927  ],\n",
              "        [ 0.63265  , -0.030612 ]]),\n",
              " array([1., 1., 1., 1., 1., 1., 1., 1., 1., 1., 1., 1., 1., 1., 1., 1., 1.,\n",
              "        1., 1., 1., 1., 1., 1., 1., 1., 1., 1., 1., 1., 1., 1., 1., 1., 1.,\n",
              "        1., 1., 1., 1., 1., 1., 1., 1., 1., 1., 1., 1., 1., 1., 1., 1., 1.,\n",
              "        1., 1., 1., 1., 1., 1., 1., 0., 0., 0., 0., 0., 0., 0., 0., 0., 0.,\n",
              "        0., 0., 0., 0., 0., 0., 0., 0., 0., 0., 0., 0., 0., 0., 0., 0., 0.,\n",
              "        0., 0., 0., 0., 0., 0., 0., 0., 0., 0., 0., 0., 0., 0., 0., 0., 0.,\n",
              "        0., 0., 0., 0., 0., 0., 0., 0., 0., 0., 0., 0., 0., 0., 0., 0.]))"
            ]
          },
          "metadata": {
            "tags": []
          },
          "execution_count": 25
        }
      ]
    },
    {
      "cell_type": "code",
      "metadata": {
        "id": "5GS1zHrmvMz-",
        "colab_type": "code",
        "colab": {
          "base_uri": "https://localhost:8080/",
          "height": 33
        },
        "outputId": "30314d3f-3258-4977-a24e-82aa8965d055"
      },
      "source": [
        "x.shape"
      ],
      "execution_count": null,
      "outputs": [
        {
          "output_type": "execute_result",
          "data": {
            "text/plain": [
              "(118, 2)"
            ]
          },
          "metadata": {
            "tags": []
          },
          "execution_count": 26
        }
      ]
    },
    {
      "cell_type": "code",
      "metadata": {
        "id": "tg45xZtF6NlS",
        "colab_type": "code",
        "colab": {}
      },
      "source": [
        "# Splitting the dataset into the Training set and Test set\n",
        "from sklearn.model_selection import train_test_split\n",
        "x_train, x_test, y_train, y_test = train_test_split(x, y, test_size = 0.25) "
      ],
      "execution_count": null,
      "outputs": []
    },
    {
      "cell_type": "code",
      "metadata": {
        "id": "KtnX0ef86Pgu",
        "colab_type": "code",
        "colab": {}
      },
      "source": [
        "from sklearn.preprocessing import StandardScaler\n",
        "sc_x = StandardScaler()\n",
        "x_train = sc_x.fit_transform(x_train)\n",
        "x_test = sc_x.transform(x_test)"
      ],
      "execution_count": null,
      "outputs": []
    },
    {
      "cell_type": "code",
      "metadata": {
        "id": "ScjVAIis6RPR",
        "colab_type": "code",
        "colab": {
          "base_uri": "https://localhost:8080/",
          "height": 150
        },
        "outputId": "ba5e88ba-ec04-45f3-e184-ef887e0161e2"
      },
      "source": [
        "#Fitting Decision Tree classifier to Training Set\n",
        "from sklearn.ensemble import RandomForestClassifier\n",
        "classifier = RandomForestClassifier(n_estimators = 100, criterion = 'entropy', random_state = 0)\n",
        "classifier.fit(x_train,y_train)\n"
      ],
      "execution_count": null,
      "outputs": [
        {
          "output_type": "execute_result",
          "data": {
            "text/plain": [
              "RandomForestClassifier(bootstrap=True, ccp_alpha=0.0, class_weight=None,\n",
              "                       criterion='entropy', max_depth=None, max_features='auto',\n",
              "                       max_leaf_nodes=None, max_samples=None,\n",
              "                       min_impurity_decrease=0.0, min_impurity_split=None,\n",
              "                       min_samples_leaf=1, min_samples_split=2,\n",
              "                       min_weight_fraction_leaf=0.0, n_estimators=100,\n",
              "                       n_jobs=None, oob_score=False, random_state=0, verbose=0,\n",
              "                       warm_start=False)"
            ]
          },
          "metadata": {
            "tags": []
          },
          "execution_count": 30
        }
      ]
    },
    {
      "cell_type": "code",
      "metadata": {
        "id": "5DAB_Bla6S29",
        "colab_type": "code",
        "colab": {}
      },
      "source": [
        "#Predicting the Test Set Results\n",
        "y_pred = classifier.predict(x_test)"
      ],
      "execution_count": null,
      "outputs": []
    },
    {
      "cell_type": "code",
      "metadata": {
        "id": "AxZqNhdy6Tda",
        "colab_type": "code",
        "colab": {
          "base_uri": "https://localhost:8080/",
          "height": 50
        },
        "outputId": "97baf2bd-bcbb-4ccb-8bc6-8a575a80bdd2"
      },
      "source": [
        "#Making the Confusion Matrix\n",
        "from sklearn.metrics import confusion_matrix\n",
        "cm = confusion_matrix(y_test,y_pred)\n",
        "cm"
      ],
      "execution_count": null,
      "outputs": [
        {
          "output_type": "execute_result",
          "data": {
            "text/plain": [
              "array([[10,  2],\n",
              "       [ 4, 14]])"
            ]
          },
          "metadata": {
            "tags": []
          },
          "execution_count": 32
        }
      ]
    },
    {
      "cell_type": "code",
      "metadata": {
        "id": "DBW-fgN26TaF",
        "colab_type": "code",
        "colab": {
          "base_uri": "https://localhost:8080/",
          "height": 334
        },
        "outputId": "3f50f59b-1c50-455c-cbf6-714c40bec438"
      },
      "source": [
        "#Visualizing the Training Set Results\n",
        "from matplotlib.colors import ListedColormap\n",
        "x_set , y_set = x_train ,y_train\n",
        "x1, x2 = np.meshgrid(np.arange(start = x_set[:,0].min()-1,stop =x_set[:,0].max()+1,step=0.01),\n",
        "                    np.arange(start = x_set[:,1].min()-1,stop =x_set[:,1].max()+1,step=0.01))\n",
        "plt.contour(x1,x2,classifier.predict(np.array([x1.ravel(),x2.ravel()]).T).reshape(x1.shape),\n",
        "            alpha= 0.75 ,cmap = ListedColormap(('red','green')))\n",
        "plt.xlim(x1.min() ,x1.max())\n",
        "plt.ylim(x2.min() ,x2.max())\n",
        "for i,j in enumerate(np.unique(y_set)):\n",
        "    plt.scatter(x_set[y_set == j ,0], x_set[y_set == j,1],\n",
        "                c= ListedColormap(('red' , 'green'))(i) , label = j)\n",
        "plt.title('(Training Set)')\n",
        "\n",
        "plt.legend()\n",
        "plt.show()"
      ],
      "execution_count": null,
      "outputs": [
        {
          "output_type": "stream",
          "text": [
            "*c* argument looks like a single numeric RGB or RGBA sequence, which should be avoided as value-mapping will have precedence in case its length matches with *x* & *y*.  Please use the *color* keyword-argument or provide a 2-D array with a single row if you intend to specify the same RGB or RGBA value for all points.\n",
            "*c* argument looks like a single numeric RGB or RGBA sequence, which should be avoided as value-mapping will have precedence in case its length matches with *x* & *y*.  Please use the *color* keyword-argument or provide a 2-D array with a single row if you intend to specify the same RGB or RGBA value for all points.\n"
          ],
          "name": "stderr"
        },
        {
          "output_type": "display_data",
          "data": {
            "image/png": "[encoded data removed]",
            "text/plain": [
              "<Figure size 432x288 with 1 Axes>"
            ]
          },
          "metadata": {
            "tags": [],
            "needs_background": "light"
          }
        }
      ]
    },
    {
      "cell_type": "code",
      "metadata": {
        "id": "tlH6pmHd6X-G",
        "colab_type": "code",
        "colab": {
          "base_uri": "https://localhost:8080/",
          "height": 351
        },
        "outputId": "37e145dd-a424-4de2-d586-7909adf8e52e"
      },
      "source": [
        "#Visualizing the Test Set Results\n",
        "from matplotlib.colors import ListedColormap\n",
        "x_set , y_set = x_test ,y_test\n",
        "x1, x2 = np.meshgrid(np.arange(start = x_set[:,0].min()-1,stop =x_set[:,0].max()+1,step=0.01),\n",
        "                    np.arange(start = x_set[:,1].min()-1,stop =x_set[:,1].max()+1,step=0.01))\n",
        "plt.contour(x1,x2,classifier.predict(np.array([x1.ravel(),x2.ravel()]).T).reshape(x1.shape),\n",
        "            alpha= 0.75 ,cmap = ListedColormap(('red','green')))\n",
        "plt.xlim(x1.min() ,x1.max())\n",
        "plt.ylim(x2.min() ,x2.max())\n",
        "for i,j in enumerate(np.unique(y_set)):\n",
        "    plt.scatter(x_set[y_set == j ,0], x_set[y_set == j,1],\n",
        "                c= ListedColormap(('red' , 'green'))(i) , label = j)\n",
        "plt.title('Test Set')\n",
        " \n",
        "plt.legend()"
      ],
      "execution_count": null,
      "outputs": [
        {
          "output_type": "stream",
          "text": [
            "*c* argument looks like a single numeric RGB or RGBA sequence, which should be avoided as value-mapping will have precedence in case its length matches with *x* & *y*.  Please use the *color* keyword-argument or provide a 2-D array with a single row if you intend to specify the same RGB or RGBA value for all points.\n",
            "*c* argument looks like a single numeric RGB or RGBA sequence, which should be avoided as value-mapping will have precedence in case its length matches with *x* & *y*.  Please use the *color* keyword-argument or provide a 2-D array with a single row if you intend to specify the same RGB or RGBA value for all points.\n"
          ],
          "name": "stderr"
        },
        {
          "output_type": "execute_result",
          "data": {
            "text/plain": [
              "<matplotlib.legend.Legend at 0x7f3e2db6c2e8>"
            ]
          },
          "metadata": {
            "tags": []
          },
          "execution_count": 34
        },
        {
          "output_type": "display_data",
          "data": {
            "image/png": "[encoded data removed]",
            "text/plain": [
              "<Figure size 432x288 with 1 Axes>"
            ]
          },
          "metadata": {
            "tags": [],
            "needs_background": "light"
          }
        }
      ]
    },
    {
      "cell_type": "code",
      "metadata": {
        "id": "uMd1CUPt6a0U",
        "colab_type": "code",
        "colab": {}
      },
      "source": [
        ""
      ],
      "execution_count": null,
      "outputs": []
    },
    {
      "cell_type": "code",
      "metadata": {
        "id": "xBU_PWy-6avu",
        "colab_type": "code",
        "colab": {}
      },
      "source": [
        "#example-4"
      ],
      "execution_count": null,
      "outputs": []
    },
    {
      "cell_type": "code",
      "metadata": {
        "id": "H3Redgx-6p3G",
        "colab_type": "code",
        "colab": {}
      },
      "source": [
        "# Importing the libraries\n",
        "import numpy as np\n",
        "import matplotlib.pyplot as plt\n",
        "import pandas as pd"
      ],
      "execution_count": null,
      "outputs": []
    },
    {
      "cell_type": "code",
      "metadata": {
        "id": "i_86tW-A6qtv",
        "colab_type": "code",
        "colab": {}
      },
      "source": [
        "# Importing the dataset\n",
        "df = pd.read_csv('Ads.csv')\n",
        "x = df.iloc[:, [2, 3]].values\n",
        "y = df.iloc[:, 4].values"
      ],
      "execution_count": null,
      "outputs": []
    },
    {
      "cell_type": "code",
      "metadata": {
        "id": "TxMZQ05Bxa4-",
        "colab_type": "code",
        "colab": {
          "base_uri": "https://localhost:8080/",
          "height": 1000
        },
        "outputId": "3c3a51af-abff-4637-91c7-d44ab076905a"
      },
      "source": [
        "x, y"
      ],
      "execution_count": null,
      "outputs": [
        {
          "output_type": "execute_result",
          "data": {
            "text/plain": [
              "(array([[1.90e+01, 1.90e+04],\n",
              "        [3.50e+01, 2.00e+04],\n",
              "        [2.60e+01, 4.30e+04],\n",
              "        [2.70e+01, 5.70e+04],\n",
              "        [1.90e+01, 7.60e+04],\n",
              "        [2.70e+01, 5.80e+04],\n",
              "        [2.70e+01, 8.40e+04],\n",
              "        [3.20e+01, 1.50e+05],\n",
              "        [2.50e+01, 3.30e+04],\n",
              "        [3.50e+01, 6.50e+04],\n",
              "        [2.60e+01, 8.00e+04],\n",
              "        [2.60e+01, 5.20e+04],\n",
              "        [2.00e+01, 8.60e+04],\n",
              "        [3.20e+01, 1.80e+04],\n",
              "        [1.80e+01, 8.20e+04],\n",
              "        [2.90e+01, 8.00e+04],\n",
              "        [4.70e+01, 2.50e+04],\n",
              "        [4.50e+01, 2.60e+04],\n",
              "        [4.60e+01, 2.80e+04],\n",
              "        [4.80e+01, 2.90e+04],\n",
              "        [4.50e+01, 2.20e+04],\n",
              "        [4.70e+01, 4.90e+04],\n",
              "        [4.80e+01, 4.10e+04],\n",
              "        [4.50e+01, 2.20e+04],\n",
              "        [4.60e+01, 2.30e+04],\n",
              "        [4.70e+01, 2.00e+04],\n",
              "        [4.90e+01, 2.80e+04],\n",
              "        [4.70e+01, 3.00e+04],\n",
              "        [2.90e+01, 4.30e+04],\n",
              "        [3.10e+01, 1.80e+04],\n",
              "        [3.10e+01, 7.40e+04],\n",
              "        [2.70e+01, 1.37e+05],\n",
              "        [2.10e+01, 1.60e+04],\n",
              "        [2.80e+01, 4.40e+04],\n",
              "        [2.70e+01, 9.00e+04],\n",
              "        [3.50e+01, 2.70e+04],\n",
              "        [3.30e+01, 2.80e+04],\n",
              "        [3.00e+01, 4.90e+04],\n",
              "        [2.60e+01, 7.20e+04],\n",
              "        [2.70e+01, 3.10e+04],\n",
              "        [2.70e+01, 1.70e+04],\n",
              "        [3.30e+01, 5.10e+04],\n",
              "        [3.50e+01, 1.08e+05],\n",
              "        [3.00e+01, 1.50e+04],\n",
              "        [2.80e+01, 8.40e+04],\n",
              "        [2.30e+01, 2.00e+04],\n",
              "        [2.50e+01, 7.90e+04],\n",
              "        [2.70e+01, 5.40e+04],\n",
              "        [3.00e+01, 1.35e+05],\n",
              "        [3.10e+01, 8.90e+04],\n",
              "        [2.40e+01, 3.20e+04],\n",
              "        [1.80e+01, 4.40e+04],\n",
              "        [2.90e+01, 8.30e+04],\n",
              "        [3.50e+01, 2.30e+04],\n",
              "        [2.70e+01, 5.80e+04],\n",
              "        [2.40e+01, 5.50e+04],\n",
              "        [2.30e+01, 4.80e+04],\n",
              "        [2.80e+01, 7.90e+04],\n",
              "        [2.20e+01, 1.80e+04],\n",
              "        [3.20e+01, 1.17e+05],\n",
              "        [2.70e+01, 2.00e+04],\n",
              "        [2.50e+01, 8.70e+04],\n",
              "        [2.30e+01, 6.60e+04],\n",
              "        [3.20e+01, 1.20e+05],\n",
              "        [5.90e+01, 8.30e+04],\n",
              "        [2.40e+01, 5.80e+04],\n",
              "        [2.40e+01, 1.90e+04],\n",
              "        [2.30e+01, 8.20e+04],\n",
              "        [2.20e+01, 6.30e+04],\n",
              "        [3.10e+01, 6.80e+04],\n",
              "        [2.50e+01, 8.00e+04],\n",
              "        [2.40e+01, 2.70e+04],\n",
              "        [2.00e+01, 2.30e+04],\n",
              "        [3.30e+01, 1.13e+05],\n",
              "        [3.20e+01, 1.80e+04],\n",
              "        [3.40e+01, 1.12e+05],\n",
              "        [1.80e+01, 5.20e+04],\n",
              "        [2.20e+01, 2.70e+04],\n",
              "        [2.80e+01, 8.70e+04],\n",
              "        [2.60e+01, 1.70e+04],\n",
              "        [3.00e+01, 8.00e+04],\n",
              "        [3.90e+01, 4.20e+04],\n",
              "        [2.00e+01, 4.90e+04],\n",
              "        [3.50e+01, 8.80e+04],\n",
              "        [3.00e+01, 6.20e+04],\n",
              "        [3.10e+01, 1.18e+05],\n",
              "        [2.40e+01, 5.50e+04],\n",
              "        [2.80e+01, 8.50e+04],\n",
              "        [2.60e+01, 8.10e+04],\n",
              "        [3.50e+01, 5.00e+04],\n",
              "        [2.20e+01, 8.10e+04],\n",
              "        [3.00e+01, 1.16e+05],\n",
              "        [2.60e+01, 1.50e+04],\n",
              "        [2.90e+01, 2.80e+04],\n",
              "        [2.90e+01, 8.30e+04],\n",
              "        [3.50e+01, 4.40e+04],\n",
              "        [3.50e+01, 2.50e+04],\n",
              "        [2.80e+01, 1.23e+05],\n",
              "        [3.50e+01, 7.30e+04],\n",
              "        [2.80e+01, 3.70e+04],\n",
              "        [2.70e+01, 8.80e+04],\n",
              "        [2.80e+01, 5.90e+04],\n",
              "        [3.20e+01, 8.60e+04],\n",
              "        [3.30e+01, 1.49e+05],\n",
              "        [1.90e+01, 2.10e+04],\n",
              "        [2.10e+01, 7.20e+04],\n",
              "        [2.60e+01, 3.50e+04],\n",
              "        [2.70e+01, 8.90e+04],\n",
              "        [2.60e+01, 8.60e+04],\n",
              "        [3.80e+01, 8.00e+04],\n",
              "        [3.90e+01, 7.10e+04],\n",
              "        [3.70e+01, 7.10e+04],\n",
              "        [3.80e+01, 6.10e+04],\n",
              "        [3.70e+01, 5.50e+04],\n",
              "        [4.20e+01, 8.00e+04],\n",
              "        [4.00e+01, 5.70e+04],\n",
              "        [3.50e+01, 7.50e+04],\n",
              "        [3.60e+01, 5.20e+04],\n",
              "        [4.00e+01, 5.90e+04],\n",
              "        [4.10e+01, 5.90e+04],\n",
              "        [3.60e+01, 7.50e+04],\n",
              "        [3.70e+01, 7.20e+04],\n",
              "        [4.00e+01, 7.50e+04],\n",
              "        [3.50e+01, 5.30e+04],\n",
              "        [4.10e+01, 5.10e+04],\n",
              "        [3.90e+01, 6.10e+04],\n",
              "        [4.20e+01, 6.50e+04],\n",
              "        [2.60e+01, 3.20e+04],\n",
              "        [3.00e+01, 1.70e+04],\n",
              "        [2.60e+01, 8.40e+04],\n",
              "        [3.10e+01, 5.80e+04],\n",
              "        [3.30e+01, 3.10e+04],\n",
              "        [3.00e+01, 8.70e+04],\n",
              "        [2.10e+01, 6.80e+04],\n",
              "        [2.80e+01, 5.50e+04],\n",
              "        [2.30e+01, 6.30e+04],\n",
              "        [2.00e+01, 8.20e+04],\n",
              "        [3.00e+01, 1.07e+05],\n",
              "        [2.80e+01, 5.90e+04],\n",
              "        [1.90e+01, 2.50e+04],\n",
              "        [1.90e+01, 8.50e+04],\n",
              "        [1.80e+01, 6.80e+04],\n",
              "        [3.50e+01, 5.90e+04],\n",
              "        [3.00e+01, 8.90e+04],\n",
              "        [3.40e+01, 2.50e+04],\n",
              "        [2.40e+01, 8.90e+04],\n",
              "        [2.70e+01, 9.60e+04],\n",
              "        [4.10e+01, 3.00e+04],\n",
              "        [2.90e+01, 6.10e+04],\n",
              "        [2.00e+01, 7.40e+04],\n",
              "        [2.60e+01, 1.50e+04],\n",
              "        [4.10e+01, 4.50e+04],\n",
              "        [3.10e+01, 7.60e+04],\n",
              "        [3.60e+01, 5.00e+04],\n",
              "        [4.00e+01, 4.70e+04],\n",
              "        [3.10e+01, 1.50e+04],\n",
              "        [4.60e+01, 5.90e+04],\n",
              "        [2.90e+01, 7.50e+04],\n",
              "        [2.60e+01, 3.00e+04],\n",
              "        [3.20e+01, 1.35e+05],\n",
              "        [3.20e+01, 1.00e+05],\n",
              "        [2.50e+01, 9.00e+04],\n",
              "        [3.70e+01, 3.30e+04],\n",
              "        [3.50e+01, 3.80e+04],\n",
              "        [3.30e+01, 6.90e+04],\n",
              "        [1.80e+01, 8.60e+04],\n",
              "        [2.20e+01, 5.50e+04],\n",
              "        [3.50e+01, 7.10e+04],\n",
              "        [2.90e+01, 1.48e+05],\n",
              "        [2.90e+01, 4.70e+04],\n",
              "        [2.10e+01, 8.80e+04],\n",
              "        [3.40e+01, 1.15e+05],\n",
              "        [2.60e+01, 1.18e+05],\n",
              "        [3.40e+01, 4.30e+04],\n",
              "        [3.40e+01, 7.20e+04],\n",
              "        [2.30e+01, 2.80e+04],\n",
              "        [3.50e+01, 4.70e+04],\n",
              "        [2.50e+01, 2.20e+04],\n",
              "        [2.40e+01, 2.30e+04],\n",
              "        [3.10e+01, 3.40e+04],\n",
              "        [2.60e+01, 1.60e+04],\n",
              "        [3.10e+01, 7.10e+04],\n",
              "        [3.20e+01, 1.17e+05],\n",
              "        [3.30e+01, 4.30e+04],\n",
              "        [3.30e+01, 6.00e+04],\n",
              "        [3.10e+01, 6.60e+04],\n",
              "        [2.00e+01, 8.20e+04],\n",
              "        [3.30e+01, 4.10e+04],\n",
              "        [3.50e+01, 7.20e+04],\n",
              "        [2.80e+01, 3.20e+04],\n",
              "        [2.40e+01, 8.40e+04],\n",
              "        [1.90e+01, 2.60e+04],\n",
              "        [2.90e+01, 4.30e+04],\n",
              "        [1.90e+01, 7.00e+04],\n",
              "        [2.80e+01, 8.90e+04],\n",
              "        [3.40e+01, 4.30e+04],\n",
              "        [3.00e+01, 7.90e+04],\n",
              "        [2.00e+01, 3.60e+04],\n",
              "        [2.60e+01, 8.00e+04],\n",
              "        [3.50e+01, 2.20e+04],\n",
              "        [3.50e+01, 3.90e+04],\n",
              "        [4.90e+01, 7.40e+04],\n",
              "        [3.90e+01, 1.34e+05],\n",
              "        [4.10e+01, 7.10e+04],\n",
              "        [5.80e+01, 1.01e+05],\n",
              "        [4.70e+01, 4.70e+04],\n",
              "        [5.50e+01, 1.30e+05],\n",
              "        [5.20e+01, 1.14e+05],\n",
              "        [4.00e+01, 1.42e+05],\n",
              "        [4.60e+01, 2.20e+04],\n",
              "        [4.80e+01, 9.60e+04],\n",
              "        [5.20e+01, 1.50e+05],\n",
              "        [5.90e+01, 4.20e+04],\n",
              "        [3.50e+01, 5.80e+04],\n",
              "        [4.70e+01, 4.30e+04],\n",
              "        [6.00e+01, 1.08e+05],\n",
              "        [4.90e+01, 6.50e+04],\n",
              "        [4.00e+01, 7.80e+04],\n",
              "        [4.60e+01, 9.60e+04],\n",
              "        [5.90e+01, 1.43e+05],\n",
              "        [4.10e+01, 8.00e+04],\n",
              "        [3.50e+01, 9.10e+04],\n",
              "        [3.70e+01, 1.44e+05],\n",
              "        [6.00e+01, 1.02e+05],\n",
              "        [3.50e+01, 6.00e+04],\n",
              "        [3.70e+01, 5.30e+04],\n",
              "        [3.60e+01, 1.26e+05],\n",
              "        [5.60e+01, 1.33e+05],\n",
              "        [4.00e+01, 7.20e+04],\n",
              "        [4.20e+01, 8.00e+04],\n",
              "        [3.50e+01, 1.47e+05],\n",
              "        [3.90e+01, 4.20e+04],\n",
              "        [4.00e+01, 1.07e+05],\n",
              "        [4.90e+01, 8.60e+04],\n",
              "        [3.80e+01, 1.12e+05],\n",
              "        [4.60e+01, 7.90e+04],\n",
              "        [4.00e+01, 5.70e+04],\n",
              "        [3.70e+01, 8.00e+04],\n",
              "        [4.60e+01, 8.20e+04],\n",
              "        [5.30e+01, 1.43e+05],\n",
              "        [4.20e+01, 1.49e+05],\n",
              "        [3.80e+01, 5.90e+04],\n",
              "        [5.00e+01, 8.80e+04],\n",
              "        [5.60e+01, 1.04e+05],\n",
              "        [4.10e+01, 7.20e+04],\n",
              "        [5.10e+01, 1.46e+05],\n",
              "        [3.50e+01, 5.00e+04],\n",
              "        [5.70e+01, 1.22e+05],\n",
              "        [4.10e+01, 5.20e+04],\n",
              "        [3.50e+01, 9.70e+04],\n",
              "        [4.40e+01, 3.90e+04],\n",
              "        [3.70e+01, 5.20e+04],\n",
              "        [4.80e+01, 1.34e+05],\n",
              "        [3.70e+01, 1.46e+05],\n",
              "        [5.00e+01, 4.40e+04],\n",
              "        [5.20e+01, 9.00e+04],\n",
              "        [4.10e+01, 7.20e+04],\n",
              "        [4.00e+01, 5.70e+04],\n",
              "        [5.80e+01, 9.50e+04],\n",
              "        [4.50e+01, 1.31e+05],\n",
              "        [3.50e+01, 7.70e+04],\n",
              "        [3.60e+01, 1.44e+05],\n",
              "        [5.50e+01, 1.25e+05],\n",
              "        [3.50e+01, 7.20e+04],\n",
              "        [4.80e+01, 9.00e+04],\n",
              "        [4.20e+01, 1.08e+05],\n",
              "        [4.00e+01, 7.50e+04],\n",
              "        [3.70e+01, 7.40e+04],\n",
              "        [4.70e+01, 1.44e+05],\n",
              "        [4.00e+01, 6.10e+04],\n",
              "        [4.30e+01, 1.33e+05],\n",
              "        [5.90e+01, 7.60e+04],\n",
              "        [6.00e+01, 4.20e+04],\n",
              "        [3.90e+01, 1.06e+05],\n",
              "        [5.70e+01, 2.60e+04],\n",
              "        [5.70e+01, 7.40e+04],\n",
              "        [3.80e+01, 7.10e+04],\n",
              "        [4.90e+01, 8.80e+04],\n",
              "        [5.20e+01, 3.80e+04],\n",
              "        [5.00e+01, 3.60e+04],\n",
              "        [5.90e+01, 8.80e+04],\n",
              "        [3.50e+01, 6.10e+04],\n",
              "        [3.70e+01, 7.00e+04],\n",
              "        [5.20e+01, 2.10e+04],\n",
              "        [4.80e+01, 1.41e+05],\n",
              "        [3.70e+01, 9.30e+04],\n",
              "        [3.70e+01, 6.20e+04],\n",
              "        [4.80e+01, 1.38e+05],\n",
              "        [4.10e+01, 7.90e+04],\n",
              "        [3.70e+01, 7.80e+04],\n",
              "        [3.90e+01, 1.34e+05],\n",
              "        [4.90e+01, 8.90e+04],\n",
              "        [5.50e+01, 3.90e+04],\n",
              "        [3.70e+01, 7.70e+04],\n",
              "        [3.50e+01, 5.70e+04],\n",
              "        [3.60e+01, 6.30e+04],\n",
              "        [4.20e+01, 7.30e+04],\n",
              "        [4.30e+01, 1.12e+05],\n",
              "        [4.50e+01, 7.90e+04],\n",
              "        [4.60e+01, 1.17e+05],\n",
              "        [5.80e+01, 3.80e+04],\n",
              "        [4.80e+01, 7.40e+04],\n",
              "        [3.70e+01, 1.37e+05],\n",
              "        [3.70e+01, 7.90e+04],\n",
              "        [4.00e+01, 6.00e+04],\n",
              "        [4.20e+01, 5.40e+04],\n",
              "        [5.10e+01, 1.34e+05],\n",
              "        [4.70e+01, 1.13e+05],\n",
              "        [3.60e+01, 1.25e+05],\n",
              "        [3.80e+01, 5.00e+04],\n",
              "        [4.20e+01, 7.00e+04],\n",
              "        [3.90e+01, 9.60e+04],\n",
              "        [3.80e+01, 5.00e+04],\n",
              "        [4.90e+01, 1.41e+05],\n",
              "        [3.90e+01, 7.90e+04],\n",
              "        [3.90e+01, 7.50e+04],\n",
              "        [5.40e+01, 1.04e+05],\n",
              "        [3.50e+01, 5.50e+04],\n",
              "        [4.50e+01, 3.20e+04],\n",
              "        [3.60e+01, 6.00e+04],\n",
              "        [5.20e+01, 1.38e+05],\n",
              "        [5.30e+01, 8.20e+04],\n",
              "        [4.10e+01, 5.20e+04],\n",
              "        [4.80e+01, 3.00e+04],\n",
              "        [4.80e+01, 1.31e+05],\n",
              "        [4.10e+01, 6.00e+04],\n",
              "        [4.10e+01, 7.20e+04],\n",
              "        [4.20e+01, 7.50e+04],\n",
              "        [3.60e+01, 1.18e+05],\n",
              "        [4.70e+01, 1.07e+05],\n",
              "        [3.80e+01, 5.10e+04],\n",
              "        [4.80e+01, 1.19e+05],\n",
              "        [4.20e+01, 6.50e+04],\n",
              "        [4.00e+01, 6.50e+04],\n",
              "        [5.70e+01, 6.00e+04],\n",
              "        [3.60e+01, 5.40e+04],\n",
              "        [5.80e+01, 1.44e+05],\n",
              "        [3.50e+01, 7.90e+04],\n",
              "        [3.80e+01, 5.50e+04],\n",
              "        [3.90e+01, 1.22e+05],\n",
              "        [5.30e+01, 1.04e+05],\n",
              "        [3.50e+01, 7.50e+04],\n",
              "        [3.80e+01, 6.50e+04],\n",
              "        [4.70e+01, 5.10e+04],\n",
              "        [4.70e+01, 1.05e+05],\n",
              "        [4.10e+01, 6.30e+04],\n",
              "        [5.30e+01, 7.20e+04],\n",
              "        [5.40e+01, 1.08e+05],\n",
              "        [3.90e+01, 7.70e+04],\n",
              "        [3.80e+01, 6.10e+04],\n",
              "        [3.80e+01, 1.13e+05],\n",
              "        [3.70e+01, 7.50e+04],\n",
              "        [4.20e+01, 9.00e+04],\n",
              "        [3.70e+01, 5.70e+04],\n",
              "        [3.60e+01, 9.90e+04],\n",
              "        [6.00e+01, 3.40e+04],\n",
              "        [5.40e+01, 7.00e+04],\n",
              "        [4.10e+01, 7.20e+04],\n",
              "        [4.00e+01, 7.10e+04],\n",
              "        [4.20e+01, 5.40e+04],\n",
              "        [4.30e+01, 1.29e+05],\n",
              "        [5.30e+01, 3.40e+04],\n",
              "        [4.70e+01, 5.00e+04],\n",
              "        [4.20e+01, 7.90e+04],\n",
              "        [4.20e+01, 1.04e+05],\n",
              "        [5.90e+01, 2.90e+04],\n",
              "        [5.80e+01, 4.70e+04],\n",
              "        [4.60e+01, 8.80e+04],\n",
              "        [3.80e+01, 7.10e+04],\n",
              "        [5.40e+01, 2.60e+04],\n",
              "        [6.00e+01, 4.60e+04],\n",
              "        [6.00e+01, 8.30e+04],\n",
              "        [3.90e+01, 7.30e+04],\n",
              "        [5.90e+01, 1.30e+05],\n",
              "        [3.70e+01, 8.00e+04],\n",
              "        [4.60e+01, 3.20e+04],\n",
              "        [4.60e+01, 7.40e+04],\n",
              "        [4.20e+01, 5.30e+04],\n",
              "        [4.10e+01, 8.70e+04],\n",
              "        [5.80e+01, 2.30e+04],\n",
              "        [4.20e+01, 6.40e+04],\n",
              "        [4.80e+01, 3.30e+04],\n",
              "        [4.40e+01, 1.39e+05],\n",
              "        [4.90e+01, 2.80e+04],\n",
              "        [5.70e+01, 3.30e+04],\n",
              "        [5.60e+01, 6.00e+04],\n",
              "        [4.90e+01, 3.90e+04],\n",
              "        [3.90e+01, 7.10e+04],\n",
              "        [4.70e+01, 3.40e+04],\n",
              "        [4.80e+01, 3.50e+04],\n",
              "        [4.80e+01, 3.30e+04],\n",
              "        [4.70e+01, 2.30e+04],\n",
              "        [4.50e+01, 4.50e+04],\n",
              "        [6.00e+01, 4.20e+04],\n",
              "        [3.90e+01, 5.90e+04],\n",
              "        [4.60e+01, 4.10e+04],\n",
              "        [5.10e+01, 2.30e+04],\n",
              "        [5.00e+01, 2.00e+04],\n",
              "        [3.60e+01, 3.30e+04],\n",
              "        [4.90e+01, 3.60e+04]]),\n",
              " array([0, 0, 0, 0, 0, 0, 0, 1, 0, 0, 0, 0, 0, 0, 0, 0, 1, 1, 1, 1, 1, 1,\n",
              "        1, 1, 1, 1, 1, 1, 0, 0, 0, 1, 0, 0, 0, 0, 0, 0, 0, 0, 0, 0, 0, 0,\n",
              "        0, 0, 0, 0, 1, 0, 0, 0, 0, 0, 0, 0, 0, 0, 0, 0, 0, 0, 0, 1, 0, 0,\n",
              "        0, 0, 0, 0, 0, 0, 0, 0, 0, 1, 0, 0, 0, 0, 0, 0, 0, 0, 0, 1, 0, 0,\n",
              "        0, 0, 0, 0, 0, 0, 0, 0, 0, 1, 0, 0, 0, 0, 0, 1, 0, 0, 0, 0, 0, 0,\n",
              "        0, 0, 0, 0, 0, 0, 0, 0, 0, 0, 0, 0, 0, 0, 0, 0, 0, 0, 0, 0, 0, 0,\n",
              "        0, 0, 0, 0, 0, 1, 0, 0, 0, 0, 0, 0, 0, 0, 1, 0, 0, 0, 0, 0, 0, 0,\n",
              "        0, 0, 0, 0, 0, 1, 1, 0, 0, 0, 0, 0, 0, 0, 1, 0, 0, 0, 0, 0, 0, 0,\n",
              "        0, 0, 0, 0, 0, 0, 1, 0, 0, 0, 0, 0, 0, 0, 0, 0, 0, 0, 0, 0, 0, 0,\n",
              "        0, 0, 0, 0, 1, 0, 1, 0, 1, 0, 1, 0, 1, 1, 0, 0, 0, 1, 0, 0, 0, 1,\n",
              "        0, 1, 1, 1, 0, 0, 1, 1, 0, 1, 1, 0, 1, 1, 0, 1, 0, 0, 0, 1, 1, 0,\n",
              "        1, 1, 0, 1, 0, 1, 0, 1, 0, 0, 1, 1, 0, 1, 0, 0, 1, 1, 0, 1, 1, 0,\n",
              "        1, 1, 0, 0, 1, 0, 0, 1, 1, 1, 1, 1, 0, 1, 1, 1, 1, 0, 1, 1, 0, 1,\n",
              "        0, 1, 0, 1, 1, 1, 1, 0, 0, 0, 1, 1, 0, 1, 1, 1, 1, 1, 0, 0, 0, 1,\n",
              "        1, 0, 0, 1, 0, 1, 0, 1, 1, 0, 1, 0, 1, 1, 0, 1, 1, 0, 0, 0, 1, 1,\n",
              "        0, 1, 0, 0, 1, 0, 1, 0, 0, 1, 1, 0, 0, 1, 1, 0, 1, 1, 0, 0, 1, 0,\n",
              "        1, 0, 1, 1, 1, 0, 1, 0, 1, 1, 1, 0, 1, 1, 1, 1, 0, 1, 1, 1, 0, 1,\n",
              "        0, 1, 0, 0, 1, 1, 0, 1, 1, 1, 1, 1, 1, 0, 1, 1, 1, 1, 1, 1, 0, 1,\n",
              "        1, 1, 0, 1]))"
            ]
          },
          "metadata": {
            "tags": []
          },
          "execution_count": 36
        }
      ]
    },
    {
      "cell_type": "code",
      "metadata": {
        "id": "casZXOv9xd8V",
        "colab_type": "code",
        "colab": {
          "base_uri": "https://localhost:8080/",
          "height": 33
        },
        "outputId": "ee0c5172-8800-46fd-d027-d3301e8f7151"
      },
      "source": [
        "df.shape"
      ],
      "execution_count": null,
      "outputs": [
        {
          "output_type": "execute_result",
          "data": {
            "text/plain": [
              "(400, 5)"
            ]
          },
          "metadata": {
            "tags": []
          },
          "execution_count": 37
        }
      ]
    },
    {
      "cell_type": "code",
      "metadata": {
        "id": "Dza_JUjR6rBx",
        "colab_type": "code",
        "colab": {}
      },
      "source": [
        "# Splitting the dataset into the Training set and Test set\n",
        "from sklearn.model_selection import train_test_split\n",
        "x_train, x_test, y_train, y_test = train_test_split(x, y, test_size = 0.20) "
      ],
      "execution_count": null,
      "outputs": []
    },
    {
      "cell_type": "code",
      "metadata": {
        "id": "e-WJegs96q-U",
        "colab_type": "code",
        "colab": {}
      },
      "source": [
        "from sklearn.preprocessing import StandardScaler\n",
        "sc_x = StandardScaler()\n",
        "x_train = sc_x.fit_transform(x_train)\n",
        "x_test = sc_x.transform(x_test)"
      ],
      "execution_count": null,
      "outputs": []
    },
    {
      "cell_type": "code",
      "metadata": {
        "id": "DdVxctA66q6p",
        "colab_type": "code",
        "colab": {}
      },
      "source": [
        "#Fitting RF classifier to Training Set\n",
        "from sklearn.ensemble import RandomForestClassifier\n",
        "model = RandomForestClassifier()"
      ],
      "execution_count": null,
      "outputs": []
    },
    {
      "cell_type": "code",
      "metadata": {
        "id": "YdZCC87M6q22",
        "colab_type": "code",
        "colab": {
          "base_uri": "https://localhost:8080/",
          "height": 150
        },
        "outputId": "94dd9666-0927-436a-f0cf-a75eab1be4ab"
      },
      "source": [
        "model.fit(x_train, y_train)"
      ],
      "execution_count": null,
      "outputs": [
        {
          "output_type": "execute_result",
          "data": {
            "text/plain": [
              "RandomForestClassifier(bootstrap=True, ccp_alpha=0.0, class_weight=None,\n",
              "                       criterion='gini', max_depth=None, max_features='auto',\n",
              "                       max_leaf_nodes=None, max_samples=None,\n",
              "                       min_impurity_decrease=0.0, min_impurity_split=None,\n",
              "                       min_samples_leaf=1, min_samples_split=2,\n",
              "                       min_weight_fraction_leaf=0.0, n_estimators=100,\n",
              "                       n_jobs=None, oob_score=False, random_state=None,\n",
              "                       verbose=0, warm_start=False)"
            ]
          },
          "metadata": {
            "tags": []
          },
          "execution_count": 41
        }
      ]
    },
    {
      "cell_type": "code",
      "metadata": {
        "id": "fl3B-RP46qy9",
        "colab_type": "code",
        "colab": {
          "base_uri": "https://localhost:8080/",
          "height": 83
        },
        "outputId": "94cf998e-fbdf-4216-a968-5a408b4dd3d1"
      },
      "source": [
        "#Predicting the Test Set Results\n",
        "y_pred = model.predict(x_test)\n",
        "y_pred"
      ],
      "execution_count": null,
      "outputs": [
        {
          "output_type": "execute_result",
          "data": {
            "text/plain": [
              "array([1, 0, 0, 0, 0, 0, 1, 0, 0, 1, 1, 1, 0, 1, 0, 0, 1, 0, 0, 1, 1, 0,\n",
              "       0, 0, 0, 0, 1, 0, 0, 0, 0, 0, 0, 0, 1, 0, 1, 0, 1, 0, 0, 0, 1, 0,\n",
              "       1, 1, 0, 0, 1, 1, 0, 1, 1, 1, 0, 1, 0, 0, 0, 1, 1, 1, 0, 1, 0, 1,\n",
              "       0, 0, 1, 1, 0, 0, 1, 0, 0, 0, 0, 1, 0, 0])"
            ]
          },
          "metadata": {
            "tags": []
          },
          "execution_count": 42
        }
      ]
    },
    {
      "cell_type": "code",
      "metadata": {
        "id": "TwIr9doR6qpY",
        "colab_type": "code",
        "colab": {
          "base_uri": "https://localhost:8080/",
          "height": 50
        },
        "outputId": "b24e6c23-8497-4c95-b770-e140406e3db7"
      },
      "source": [
        "#Making the Confusion Matrix\n",
        "from sklearn.metrics import confusion_matrix\n",
        "cm = confusion_matrix(y_test,y_pred)\n",
        "cm"
      ],
      "execution_count": null,
      "outputs": [
        {
          "output_type": "execute_result",
          "data": {
            "text/plain": [
              "array([[42,  6],\n",
              "       [ 7, 25]])"
            ]
          },
          "metadata": {
            "tags": []
          },
          "execution_count": 43
        }
      ]
    },
    {
      "cell_type": "code",
      "metadata": {
        "id": "0p_KIBBk62An",
        "colab_type": "code",
        "colab": {
          "base_uri": "https://localhost:8080/",
          "height": 334
        },
        "outputId": "13d8bc42-fb5d-4879-f9d4-12c93b22ce45"
      },
      "source": [
        "#Visualizing the Training Set Results\n",
        "from matplotlib.colors import ListedColormap\n",
        "x_set , y_set = x_train ,y_train\n",
        "x1, x2 = np.meshgrid(np.arange(start = x_set[:,0].min()-1,stop =x_set[:,0].max()+1,step=0.01),\n",
        "                    np.arange(start = x_set[:,1].min()-1,stop =x_set[:,1].max()+1,step=0.01))\n",
        "plt.contour(x1,x2,model.predict(np.array([x1.ravel(),x2.ravel()]).T).reshape(x1.shape),\n",
        "            alpha= 0.75 ,cmap = ListedColormap(('red','green')))\n",
        "plt.xlim(x1.min() ,x1.max())\n",
        "plt.ylim(x2.min() ,x2.max())\n",
        "for i,j in enumerate(np.unique(y_set)):\n",
        "    plt.scatter(x_set[y_set == j ,0], x_set[y_set == j,1],\n",
        "                c= ListedColormap(('red' , 'green'))(i) , label = j)\n",
        "plt.title(' (Training Set)')\n",
        " \n",
        "plt.legend()\n",
        "plt.show()"
      ],
      "execution_count": null,
      "outputs": [
        {
          "output_type": "stream",
          "text": [
            "*c* argument looks like a single numeric RGB or RGBA sequence, which should be avoided as value-mapping will have precedence in case its length matches with *x* & *y*.  Please use the *color* keyword-argument or provide a 2-D array with a single row if you intend to specify the same RGB or RGBA value for all points.\n",
            "*c* argument looks like a single numeric RGB or RGBA sequence, which should be avoided as value-mapping will have precedence in case its length matches with *x* & *y*.  Please use the *color* keyword-argument or provide a 2-D array with a single row if you intend to specify the same RGB or RGBA value for all points.\n"
          ],
          "name": "stderr"
        },
        {
          "output_type": "display_data",
          "data": {
            "image/png": "[encoded data removed]",
            "text/plain": [
              "<Figure size 432x288 with 1 Axes>"
            ]
          },
          "metadata": {
            "tags": [],
            "needs_background": "light"
          }
        }
      ]
    },
    {
      "cell_type": "code",
      "metadata": {
        "id": "rxua1Ff56196",
        "colab_type": "code",
        "colab": {
          "base_uri": "https://localhost:8080/",
          "height": 351
        },
        "outputId": "1de15bbe-d7f8-46b2-82c6-e25497027e43"
      },
      "source": [
        "#Visualizing the Test Set Results\n",
        "from matplotlib.colors import ListedColormap\n",
        "x_set , y_set = x_test ,y_test\n",
        "x1, x2 = np.meshgrid(np.arange(start = x_set[:,0].min()-1,stop =x_set[:,0].max()+1,step=0.01),\n",
        "                    np.arange(start = x_set[:,1].min()-1,stop =x_set[:,1].max()+1,step=0.01))\n",
        "plt.contour(x1,x2,model.predict(np.array([x1.ravel(),x2.ravel()]).T).reshape(x1.shape),\n",
        "            alpha= 0.75 ,cmap = ListedColormap(('red','green')))\n",
        "plt.xlim(x1.min() ,x1.max())\n",
        "plt.ylim(x2.min() ,x2.max())\n",
        "for i,j in enumerate(np.unique(y_set)):\n",
        "    plt.scatter(x_set[y_set == j ,0], x_set[y_set == j,1],\n",
        "                c= ListedColormap(('red' , 'green'))(i) , label = j)\n",
        "plt.title('Test Set')\n",
        " \n",
        "plt.legend()"
      ],
      "execution_count": null,
      "outputs": [
        {
          "output_type": "stream",
          "text": [
            "*c* argument looks like a single numeric RGB or RGBA sequence, which should be avoided as value-mapping will have precedence in case its length matches with *x* & *y*.  Please use the *color* keyword-argument or provide a 2-D array with a single row if you intend to specify the same RGB or RGBA value for all points.\n",
            "*c* argument looks like a single numeric RGB or RGBA sequence, which should be avoided as value-mapping will have precedence in case its length matches with *x* & *y*.  Please use the *color* keyword-argument or provide a 2-D array with a single row if you intend to specify the same RGB or RGBA value for all points.\n"
          ],
          "name": "stderr"
        },
        {
          "output_type": "execute_result",
          "data": {
            "text/plain": [
              "<matplotlib.legend.Legend at 0x7f3e2d007390>"
            ]
          },
          "metadata": {
            "tags": []
          },
          "execution_count": 45
        },
        {
          "output_type": "display_data",
          "data": {
            "image/png": "[encoded data removed]",
            "text/plain": [
              "<Figure size 432x288 with 1 Axes>"
            ]
          },
          "metadata": {
            "tags": [],
            "needs_background": "light"
          }
        }
      ]
    }
  ]
}