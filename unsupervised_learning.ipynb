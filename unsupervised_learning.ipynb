{
  "nbformat": 4,
  "nbformat_minor": 0,
  "metadata": {
    "colab": {
      "name": "unsupervised_learning.ipynb",
      "provenance": [],
      "collapsed_sections": [],
      "toc_visible": true
    },
    "kernelspec": {
      "name": "python3",
      "display_name": "Python 3"
    }
  },
  "cells": [
    {
      "cell_type": "markdown",
      "metadata": {
        "id": "iNhqCyh0W6lZ",
        "colab_type": "text"
      },
      "source": [
        "#Simple K-means example"
      ]
    },
    {
      "cell_type": "code",
      "metadata": {
        "id": "VztmK8rLdmYj",
        "colab_type": "code",
        "colab": {}
      },
      "source": [
        "# import the Libraries\n",
        "import numpy as np        \n",
        "import pandas as pd        \n",
        "import matplotlib.pyplot as plt    \n",
        "import seaborn as sns\n"
      ],
      "execution_count": null,
      "outputs": []
    },
    {
      "cell_type": "code",
      "metadata": {
        "id": "du8WHZwrExZv",
        "colab_type": "code",
        "colab": {}
      },
      "source": [
        "from sklearn.datasets.samples_generator import (make_blobs,\n",
        "                                                make_circles,\n",
        "                                                make_moons)\n",
        "from sklearn.cluster import KMeans, SpectralClustering\n",
        "from sklearn.preprocessing import StandardScaler\n",
        "from sklearn.metrics import silhouette_samples, silhouette_score"
      ],
      "execution_count": null,
      "outputs": []
    },
    {
      "cell_type": "code",
      "metadata": {
        "id": "FhM8j2AEXOE1",
        "colab_type": "code",
        "colab": {}
      },
      "source": [
        "#Code for generating some random data in a two-dimensional space:\n",
        "X= -2 * np.random.rand(100,2)\n",
        "X1 = 1 + 2 * np.random.rand(50,2)\n",
        "X[50:100, :] = X1\n",
        "plt.scatter(X[ : , 0], X[ :, 1], s = 50, c = 'b')\n",
        "plt.show()"
      ],
      "execution_count": null,
      "outputs": []
    },
    {
      "cell_type": "code",
      "metadata": {
        "id": "Sd1vGgNGXCss",
        "colab_type": "code",
        "colab": {}
      },
      "source": [
        "Kmean = KMeans(n_clusters=2)\n",
        "Kmean.fit(X)"
      ],
      "execution_count": null,
      "outputs": []
    },
    {
      "cell_type": "code",
      "metadata": {
        "id": "ewxPjqvcXWuW",
        "colab_type": "code",
        "colab": {}
      },
      "source": [
        "#Finding the centroid\n",
        "Kmean.cluster_centers_"
      ],
      "execution_count": null,
      "outputs": []
    },
    {
      "cell_type": "code",
      "metadata": {
        "id": "IvmXKwvjXdSF",
        "colab_type": "code",
        "colab": {}
      },
      "source": [
        "#Let’s display the cluster centroids (using green and red color).\n",
        "plt.scatter(X[ : , 0], X[ : , 1], s =50, c='b')\n",
        "plt.scatter(-0.94665068, -0.97138368, s=200, c='g', marker='s')\n",
        "plt.scatter(2.01559419, 2.02597093, s=200, c='r', marker='s')\n",
        "plt.show()"
      ],
      "execution_count": null,
      "outputs": []
    },
    {
      "cell_type": "markdown",
      "metadata": {
        "id": "9tHb5LcBP954",
        "colab_type": "text"
      },
      "source": [
        "#K-means Clustering: Algorithm"
      ]
    },
    {
      "cell_type": "code",
      "metadata": {
        "id": "0_jBGdk3QpuZ",
        "colab_type": "code",
        "colab": {}
      },
      "source": [
        "import numpy as np\n",
        "from numpy.linalg import norm\n",
        "\n",
        "\n",
        "class Kmeans:\n",
        "    '''Implementing Kmeans algorithm.'''\n",
        "\n",
        "    def __init__(self, n_clusters, max_iter=100, random_state=123):\n",
        "        self.n_clusters = n_clusters\n",
        "        self.max_iter = max_iter\n",
        "        self.random_state = random_state\n",
        "\n",
        "    def initializ_centroids(self, X):\n",
        "        np.random.RandomState(self.random_state)\n",
        "        random_idx = np.random.permutation(X.shape[0])\n",
        "        centroids = X[random_idx[:self.n_clusters]]\n",
        "        return centroids\n",
        "\n",
        "    def compute_centroids(self, X, labels):\n",
        "        centroids = np.zeros((self.n_clusters, X.shape[1]))\n",
        "        for k in range(self.n_clusters):\n",
        "            centroids[k, :] = np.mean(X[labels == k, :], axis=0)\n",
        "        return centroids\n",
        "\n",
        "    def compute_distance(self, X, centroids):\n",
        "        distance = np.zeros((X.shape[0], self.n_clusters))\n",
        "        for k in range(self.n_clusters):\n",
        "            row_norm = norm(X - centroids[k, :], axis=1)\n",
        "            distance[:, k] = np.square(row_norm)\n",
        "        return distance\n",
        "\n",
        "    def find_closest_cluster(self, distance):\n",
        "        return np.argmin(distance, axis=1)\n",
        "\n",
        "    def compute_sse(self, X, labels, centroids):\n",
        "        distance = np.zeros(X.shape[0])\n",
        "        for k in range(self.n_clusters):\n",
        "            distance[labels == k] = norm(X[labels == k] - centroids[k], axis=1)\n",
        "        return np.sum(np.square(distance))\n",
        "    \n",
        "    def fit(self, X):\n",
        "        self.centroids = self.initializ_centroids(X)\n",
        "        for i in range(self.max_iter):\n",
        "            old_centroids = self.centroids\n",
        "            distance = self.compute_distance(X, old_centroids)\n",
        "            self.labels = self.find_closest_cluster(distance)\n",
        "            self.centroids = self.compute_centroids(X, self.labels)\n",
        "            if np.all(old_centroids == self.centroids):\n",
        "                break\n",
        "        self.error = self.compute_sse(X, self.labels, self.centroids)\n",
        "    \n",
        "    def predict(self, X):\n",
        "        distance = self.compute_distance(X, old_centroids)\n",
        "        return self.find_closest_cluster(distance)"
      ],
      "execution_count": null,
      "outputs": []
    },
    {
      "cell_type": "code",
      "metadata": {
        "id": "wIbiAdVnWO4U",
        "colab_type": "code",
        "colab": {}
      },
      "source": [
        "%matplotlib inline\n",
        "sns.set_context('notebook')\n",
        "plt.style.use('fivethirtyeight')\n",
        "from warnings import filterwarnings\n",
        "filterwarnings('ignore')"
      ],
      "execution_count": null,
      "outputs": []
    },
    {
      "cell_type": "code",
      "metadata": {
        "id": "vFkczFhxYtzB",
        "colab_type": "code",
        "colab": {}
      },
      "source": [
        "# Import the data\n",
        "df = pd.read_csv('faithful.csv')\n",
        "\n",
        "# Plot the data\n",
        "plt.figure(figsize=(6, 6))\n",
        "plt.scatter(df.iloc[:, 1], df.iloc[:, 2])\n",
        "plt.xlabel('Eruption time in mins')\n",
        "plt.ylabel('Waiting time to next eruption')\n",
        "plt.title('Visualization of raw data');"
      ],
      "execution_count": null,
      "outputs": []
    },
    {
      "cell_type": "code",
      "metadata": {
        "id": "uic551aFWS0M",
        "colab_type": "code",
        "colab": {}
      },
      "source": [
        "# Standardize the data\n",
        "X_std = StandardScaler().fit_transform(df)\n",
        "\n",
        "# Run local implementation of kmeans\n",
        "km = Kmeans(n_clusters=2, max_iter=100)\n",
        "km.fit(X_std)\n",
        "centroids = km.centroids\n",
        "\n",
        "# Plot the clustered data\n",
        "fig, ax = plt.subplots(figsize=(6, 6))\n",
        "plt.scatter(X_std[km.labels == 0, 0], X_std[km.labels == 0, 1],\n",
        "            c='green', label='cluster 1')\n",
        "plt.scatter(X_std[km.labels == 1, 0], X_std[km.labels == 1, 1],\n",
        "            c='blue', label='cluster 2')\n",
        "plt.scatter(centroids[:, 0], centroids[:, 1], marker='*', s=300,\n",
        "            c='r', label='centroid')\n",
        "plt.legend()\n",
        "plt.xlim([-2, 2])\n",
        "plt.ylim([-2, 2])\n",
        "plt.xlabel('Eruption time in mins')\n",
        "plt.ylabel('Waiting time to next eruption')\n",
        "plt.title('Visualization of clustered data', fontweight='bold')\n",
        "ax.set_aspect('equal');"
      ],
      "execution_count": null,
      "outputs": []
    },
    {
      "cell_type": "code",
      "metadata": {
        "id": "A54Layv5Wd_A",
        "colab_type": "code",
        "colab": {}
      },
      "source": [
        "n_iter = 9\n",
        "fig, ax = plt.subplots(3, 3, figsize=(16, 16))\n",
        "ax = np.ravel(ax)\n",
        "centers = []\n",
        "for i in range(n_iter):\n",
        "    # Run local implementation of kmeans\n",
        "    km = Kmeans(n_clusters=2,\n",
        "                max_iter=3,\n",
        "                random_state=np.random.randint(0, 1000, size=1))\n",
        "    km.fit(X_std)\n",
        "    centroids = km.centroids\n",
        "    centers.append(centroids)\n",
        "    ax[i].scatter(X_std[km.labels == 0, 0], X_std[km.labels == 0, 1],\n",
        "                  c='green', label='cluster 1')\n",
        "    ax[i].scatter(X_std[km.labels == 1, 0], X_std[km.labels == 1, 1],\n",
        "                  c='blue', label='cluster 2')\n",
        "    ax[i].scatter(centroids[:, 0], centroids[:, 1],\n",
        "                  c='r', marker='*', s=300, label='centroid')\n",
        "    ax[i].set_xlim([-2, 2])\n",
        "    ax[i].set_ylim([-2, 2])\n",
        "    ax[i].legend(loc='lower right')\n",
        "    ax[i].set_title(f'{km.error:.4f}')\n",
        "    ax[i].set_aspect('equal')\n",
        "plt.tight_layout();"
      ],
      "execution_count": null,
      "outputs": []
    },
    {
      "cell_type": "code",
      "metadata": {
        "id": "hrYgV7zMWiXi",
        "colab_type": "code",
        "colab": {}
      },
      "source": [
        ""
      ],
      "execution_count": null,
      "outputs": []
    },
    {
      "cell_type": "markdown",
      "metadata": {
        "id": "ipsYFyOMYTea",
        "colab_type": "text"
      },
      "source": [
        "#K-means on Wholesale Retail Customer\n",
        "\n",
        "The aim of this problem is to segment the clients of a wholesale distributor based on their annual spending on diverse product categories, like milk, grocery, region, etc. So, let’s start coding!"
      ]
    },
    {
      "cell_type": "code",
      "metadata": {
        "id": "wuWNf4DmYbF5",
        "colab_type": "code",
        "colab": {}
      },
      "source": [
        "# reading the data and looking at the first five rows of the data\n",
        "data=pd.read_csv(\"Wholesale customers data.csv\")\n",
        "data.head()"
      ],
      "execution_count": null,
      "outputs": []
    },
    {
      "cell_type": "code",
      "metadata": {
        "id": "Dp1HjHNbY7l3",
        "colab_type": "code",
        "colab": {}
      },
      "source": [
        "# statistics of the data\n",
        "data.describe()"
      ],
      "execution_count": null,
      "outputs": []
    },
    {
      "cell_type": "markdown",
      "metadata": {
        "id": "ej1dgT9wZGAe",
        "colab_type": "text"
      },
      "source": [
        "Here, we see that there is a lot of variation in the magnitude of the data. Variables like Channel and Region have low magnitude whereas variables like Fresh, Milk, Grocery, etc. have a higher magnitude.\n",
        "\n",
        "Since K-Means is a distance-based algorithm, this difference of magnitude can create a problem. So let’s first bring all the variables to the same magnitude:\n",
        "\n"
      ]
    },
    {
      "cell_type": "code",
      "metadata": {
        "id": "jZofnQ_zY-Fz",
        "colab_type": "code",
        "colab": {}
      },
      "source": [
        "# standardizing the data\n",
        "from sklearn.preprocessing import StandardScaler\n",
        "scaler = StandardScaler()\n",
        "data_scaled = scaler.fit_transform(data)\n",
        "\n",
        "# statistics of scaled data\n",
        "pd.DataFrame(data_scaled).describe()"
      ],
      "execution_count": null,
      "outputs": []
    },
    {
      "cell_type": "code",
      "metadata": {
        "id": "5h037np-ZBRT",
        "colab_type": "code",
        "colab": {}
      },
      "source": [
        "# defining the kmeans function with initialization as k-means++\n",
        "kmeans = KMeans(n_clusters=2, init='k-means++')\n",
        "\n",
        "# fitting the k means algorithm on scaled data\n",
        "kmeans.fit(data_scaled)"
      ],
      "execution_count": null,
      "outputs": []
    },
    {
      "cell_type": "code",
      "metadata": {
        "id": "Wl86a6nlZRPI",
        "colab_type": "code",
        "colab": {}
      },
      "source": [
        "# k means using 5 clusters and k-means++ initialization\n",
        "kmeans = KMeans(n_jobs = -1, n_clusters = 5, init='k-means++')\n",
        "kmeans.fit(data_scaled)\n",
        "pred = kmeans.predict(data_scaled)"
      ],
      "execution_count": null,
      "outputs": []
    },
    {
      "cell_type": "code",
      "metadata": {
        "id": "49Sx8d-cbhUF",
        "colab_type": "code",
        "colab": {}
      },
      "source": [
        "frame = pd.DataFrame(data_scaled)\n",
        "frame['cluster'] = pred\n",
        "frame['cluster'].value_counts()"
      ],
      "execution_count": null,
      "outputs": []
    },
    {
      "cell_type": "markdown",
      "metadata": {
        "id": "a20bUrAzbp9h",
        "colab_type": "text"
      },
      "source": [
        "So, there are 234 data points belonging to cluster 4 (index 3), then 125 points in cluster 2 (index 1), and so on. This is how we can implement K-Means Clustering in Python."
      ]
    },
    {
      "cell_type": "markdown",
      "metadata": {
        "id": "q4zkR444cJ3V",
        "colab_type": "text"
      },
      "source": [
        "#K-means on random pricing"
      ]
    },
    {
      "cell_type": "code",
      "metadata": {
        "id": "6UCTcli6cJoS",
        "colab_type": "code",
        "colab": {}
      },
      "source": [
        "# Importing the dataset\n",
        "data = pd.read_csv('xclara.csv')\n",
        "print(data.shape)\n",
        "data.head()"
      ],
      "execution_count": null,
      "outputs": []
    },
    {
      "cell_type": "code",
      "metadata": {
        "id": "xdV6vMOEcf0W",
        "colab_type": "code",
        "colab": {}
      },
      "source": [
        "# Getting the values and plotting it\n",
        "f1 = data['V1'].values\n",
        "f2 = data['V2'].values\n",
        "X = np.array(list(zip(f1, f2)))\n",
        "plt.scatter(f1, f2, c='black', s=7)"
      ],
      "execution_count": null,
      "outputs": []
    },
    {
      "cell_type": "code",
      "metadata": {
        "id": "mU1NNdotciaB",
        "colab_type": "code",
        "colab": {}
      },
      "source": [
        "# Euclidean Distance Caculator\n",
        "def dist(a, b, ax=1):\n",
        "    return np.linalg.norm(a - b, axis=ax)"
      ],
      "execution_count": null,
      "outputs": []
    },
    {
      "cell_type": "code",
      "metadata": {
        "id": "lKLlin7JclNP",
        "colab_type": "code",
        "colab": {}
      },
      "source": [
        "# Number of clusters\n",
        "k = 3\n",
        "# X coordinates of random centroids\n",
        "C_x = np.random.randint(0, np.max(X)-20, size=k)\n",
        "# Y coordinates of random centroids\n",
        "C_y = np.random.randint(0, np.max(X)-20, size=k)\n",
        "C = np.array(list(zip(C_x, C_y)), dtype=np.float32)\n",
        "print(C)"
      ],
      "execution_count": null,
      "outputs": []
    },
    {
      "cell_type": "code",
      "metadata": {
        "id": "nQni4_wHcnB2",
        "colab_type": "code",
        "colab": {}
      },
      "source": [
        "# Plotting along with the Centroids\n",
        "plt.scatter(f1, f2, c='#050505', s=7)\n",
        "plt.scatter(C_x, C_y, marker='*', s=200, c='g')"
      ],
      "execution_count": null,
      "outputs": []
    },
    {
      "cell_type": "code",
      "metadata": {
        "id": "vrpE2FV3criS",
        "colab_type": "code",
        "colab": {}
      },
      "source": [
        "# To store the value of centroids when it updates\n",
        "from copy import deepcopy\n",
        "C_old = np.zeros(C.shape)\n",
        "# Cluster Lables(0, 1, 2)\n",
        "clusters = np.zeros(len(X))\n",
        "# Error func. - Distance between new centroids and old centroids\n",
        "error = dist(C, C_old, None)\n",
        "# Loop will run till the error becomes zero\n",
        "while error != 0:\n",
        "    # Assigning each value to its closest cluster\n",
        "    for i in range(len(X)):\n",
        "        distances = dist(X[i], C)\n",
        "        cluster = np.argmin(distances)\n",
        "        clusters[i] = cluster\n",
        "    # Storing the old centroid values\n",
        "    C_old = deepcopy(C)\n",
        "    # Finding the new centroids by taking the average value\n",
        "    for i in range(k):\n",
        "        points = [X[j] for j in range(len(X)) if clusters[j] == i]\n",
        "        C[i] = np.mean(points, axis=0)\n",
        "    error = dist(C, C_old, None)"
      ],
      "execution_count": null,
      "outputs": []
    },
    {
      "cell_type": "code",
      "metadata": {
        "id": "PreagroHcw9d",
        "colab_type": "code",
        "colab": {}
      },
      "source": [
        "colors = ['r', 'g', 'b', 'y', 'c', 'm']\n",
        "fig, ax = plt.subplots()\n",
        "for i in range(k):\n",
        "        points = np.array([X[j] for j in range(len(X)) if clusters[j] == i])\n",
        "        ax.scatter(points[:, 0], points[:, 1], s=7, c=colors[i])\n",
        "ax.scatter(C[:, 0], C[:, 1], marker='*', s=200, c='#050505')"
      ],
      "execution_count": null,
      "outputs": []
    },
    {
      "cell_type": "markdown",
      "metadata": {
        "id": "i54sq_r1c-8r",
        "colab_type": "text"
      },
      "source": [
        "From this visualization it is clear that there are 3 clusters with black stars as their centroid.\n",
        "\n",
        "If you run K-Means with wrong values of K, you will get completely misleading clusters. For example, if you run K-Means on this with values 2, 4, 5 and 6, you will get the following clusters."
      ]
    },
    {
      "cell_type": "code",
      "metadata": {
        "id": "tlEfSRe9dAaw",
        "colab_type": "code",
        "colab": {}
      },
      "source": [
        ""
      ],
      "execution_count": null,
      "outputs": []
    },
    {
      "cell_type": "markdown",
      "metadata": {
        "id": "aqwL2XCgW8Sz",
        "colab_type": "text"
      },
      "source": [
        "#K-means on Retail_customer dataset"
      ]
    },
    {
      "cell_type": "code",
      "metadata": {
        "id": "jvyTqvp9Me0h",
        "colab_type": "code",
        "colab": {}
      },
      "source": [
        "# import dataset\n",
        "dataset=pd.read_csv('Retail_Customers.csv')\n",
        "X=dataset.iloc[:, [3,4]].values"
      ],
      "execution_count": null,
      "outputs": []
    },
    {
      "cell_type": "code",
      "metadata": {
        "id": "xG6eja0rMoAY",
        "colab_type": "code",
        "colab": {}
      },
      "source": [
        "# let's plot elbow method graph\n",
        "wcss = []\n",
        "for i in range(1,11):\n",
        "    kmeans=KMeans(n_clusters= i, init='k-means++', max_iter=300, n_init=10, random_state=0)\n",
        "    kmeans.fit(X)\n",
        "    wcss.append(kmeans.inertia_)\n",
        "plt.plot(range(1,11),wcss)\n",
        "plt.title('The Elbow method')\n",
        "plt.xlabel('Number of Cluster')\n",
        "plt.ylabel('wcss')\n",
        "plt.show"
      ],
      "execution_count": null,
      "outputs": []
    },
    {
      "cell_type": "code",
      "metadata": {
        "id": "CvM4Abx0bCpS",
        "colab_type": "code",
        "colab": {}
      },
      "source": [
        "# make a dendogram used ward method \n",
        "import scipy.cluster.hierarchy as sch\n",
        "dendrogram = sch.dendrogram(sch.linkage(X, method = 'ward'))\n",
        "plt.title('Dendogram')\n",
        "plt.xlabel('customers')\n",
        "plt.ylabel('Euclidean distance')\n",
        "plt.show()"
      ],
      "execution_count": null,
      "outputs": []
    },
    {
      "cell_type": "code",
      "metadata": {
        "id": "fXN1eE0DMrTN",
        "colab_type": "code",
        "colab": {}
      },
      "source": [
        "# so applying take five cluster on the basis of elbow method\n",
        "kmeans = KMeans(n_clusters= 5, init='k-means++', max_iter=300, n_init=10, random_state=0)\n",
        "y_kmeans = kmeans.fit_predict(X)"
      ],
      "execution_count": null,
      "outputs": []
    },
    {
      "cell_type": "code",
      "metadata": {
        "id": "xqy9qxuFMviG",
        "colab_type": "code",
        "colab": {}
      },
      "source": [
        "# predict the cluster\n",
        "y_kmeans = kmeans.fit_predict(X)"
      ],
      "execution_count": null,
      "outputs": []
    },
    {
      "cell_type": "code",
      "metadata": {
        "id": "stNjGnSmMx6y",
        "colab_type": "code",
        "colab": {}
      },
      "source": [
        "# Visulising the five Cluster\n",
        "plt.scatter(X[y_kmeans == 0, 0], X[y_kmeans == 0, 1], s=100, c='red', label = 'Careful')\n",
        "plt.scatter(X[y_kmeans == 1, 0], X[y_kmeans == 1, 1], s=100, c='blue', label = 'Standard')\n",
        "plt.scatter(X[y_kmeans == 2, 0], X[y_kmeans == 2, 1], s=100, c='green', label = 'Target')\n",
        "plt.scatter(X[y_kmeans == 3, 0], X[y_kmeans == 3, 1], s=100, c='cyan', label = 'Careless')\n",
        "plt.scatter(X[y_kmeans == 4, 0], X[y_kmeans == 4, 1], s=100, c='magenta', label = 'Sensible')\n",
        "# apply centroid for all cluster\n",
        "plt.scatter(kmeans.cluster_centers_[:, 0] , kmeans.cluster_centers_[:, 1] , s=300, c='yellow', label = 'Centroids')\n",
        "plt.title('Cluster of Client')\n",
        "plt.xlabel('Annual income (k$)')\n",
        "plt.ylabel('Spending Score(1-100)')\n",
        "plt.legend()\n",
        "plt.show()"
      ],
      "execution_count": null,
      "outputs": []
    },
    {
      "cell_type": "code",
      "metadata": {
        "id": "F6ZfbgDUM14x",
        "colab_type": "code",
        "colab": {}
      },
      "source": [
        ""
      ],
      "execution_count": null,
      "outputs": []
    },
    {
      "cell_type": "markdown",
      "metadata": {
        "id": "dXjc0ALWeojL",
        "colab_type": "text"
      },
      "source": [
        "#US Arrests Using Hierarchical Clustering Analysis"
      ]
    },
    {
      "cell_type": "code",
      "metadata": {
        "id": "px-BzrgveqzO",
        "colab_type": "code",
        "colab": {}
      },
      "source": [
        "from sklearn.preprocessing import StandardScaler\n",
        "scaler= StandardScaler()\n",
        "import scipy.cluster.hierarchy as sch\n",
        "from sklearn.cluster import AgglomerativeClustering"
      ],
      "execution_count": null,
      "outputs": []
    },
    {
      "cell_type": "code",
      "metadata": {
        "id": "fUbmpowSfBYE",
        "colab_type": "code",
        "colab": {}
      },
      "source": [
        "crime = pd.read_csv(\"USArrests.csv\")\n",
        "crime.head(10)"
      ],
      "execution_count": null,
      "outputs": []
    },
    {
      "cell_type": "code",
      "metadata": {
        "id": "ePQX_rx3fJIx",
        "colab_type": "code",
        "colab": {}
      },
      "source": [
        "# Let's see how many rows and columns we got!\n",
        "\n",
        "crime.shape"
      ],
      "execution_count": null,
      "outputs": []
    },
    {
      "cell_type": "code",
      "metadata": {
        "id": "_GmXBGiMfOxb",
        "colab_type": "code",
        "colab": {}
      },
      "source": [
        "#Let's see some facts here\n",
        "\n",
        "crime.info()"
      ],
      "execution_count": null,
      "outputs": []
    },
    {
      "cell_type": "code",
      "metadata": {
        "id": "2VGFnvy2fQ8D",
        "colab_type": "code",
        "colab": {}
      },
      "source": [
        "# Let's get some statistics summary\n",
        "\n",
        "crime.describe()"
      ],
      "execution_count": null,
      "outputs": []
    },
    {
      "cell_type": "code",
      "metadata": {
        "id": "H9dhEHt_fTOR",
        "colab_type": "code",
        "colab": {}
      },
      "source": [
        "#Let's check for missing values.\n",
        "crime.isnull().sum()"
      ],
      "execution_count": null,
      "outputs": []
    },
    {
      "cell_type": "code",
      "metadata": {
        "id": "t4HC6m4CfVno",
        "colab_type": "code",
        "colab": {}
      },
      "source": [
        "# Renaming the column as Unnmaed doesn't make sense.\n",
        "\n",
        "crime = crime.rename(columns={'Unnamed: 0':'State'})\n",
        "crime.head(10)"
      ],
      "execution_count": null,
      "outputs": []
    },
    {
      "cell_type": "code",
      "metadata": {
        "id": "AiR2hq0Yfc-z",
        "colab_type": "code",
        "colab": {}
      },
      "source": [
        "#Murder rate\n",
        "plt.figure(figsize=(20,5))\n",
        "crime.groupby('State')['Murder'].max().plot(kind='bar')"
      ],
      "execution_count": null,
      "outputs": []
    },
    {
      "cell_type": "markdown",
      "metadata": {
        "id": "4ASJJHq9foWN",
        "colab_type": "text"
      },
      "source": [
        "Observations:\n",
        "Highest Murder Rate : Georgia and Missisippi\n",
        "Lowest Murder Rate : Idaho , Iowa, Maine, New Hampshire, North Dakota, Vermont and Wisconsin."
      ]
    },
    {
      "cell_type": "code",
      "metadata": {
        "id": "jCQVIEX_fiII",
        "colab_type": "code",
        "colab": {}
      },
      "source": [
        "#Assault Rate\n",
        "plt.figure(figsize=(20,5))\n",
        "crime.groupby('State')['Assault'].max().plot(kind='bar')"
      ],
      "execution_count": null,
      "outputs": []
    },
    {
      "cell_type": "markdown",
      "metadata": {
        "id": "En26ym9Ufu3N",
        "colab_type": "text"
      },
      "source": [
        "Observations:\n",
        "Highest Assualt Rate : Florida and North California.\n",
        "Lowest Assualt Rate : Hawaii, North Dakota, Vermont , New Hampshire and Wisconsin."
      ]
    },
    {
      "cell_type": "code",
      "metadata": {
        "id": "Y6tQxG2QftcT",
        "colab_type": "code",
        "colab": {}
      },
      "source": [
        "#Rape Rate\n",
        "plt.figure(figsize=(20,5))\n",
        "crime.groupby('State')['Rape'].max().plot(kind='bar')"
      ],
      "execution_count": null,
      "outputs": []
    },
    {
      "cell_type": "code",
      "metadata": {
        "id": "Eh95H_1sf1EQ",
        "colab_type": "code",
        "colab": {}
      },
      "source": [
        "data = crime.iloc[:,1:].values"
      ],
      "execution_count": null,
      "outputs": []
    },
    {
      "cell_type": "code",
      "metadata": {
        "id": "q8pcAGPegFdq",
        "colab_type": "code",
        "colab": {}
      },
      "source": [
        "scaled_data = scaler.fit_transform(data)"
      ],
      "execution_count": null,
      "outputs": []
    },
    {
      "cell_type": "code",
      "metadata": {
        "id": "44tDxqQbgHML",
        "colab_type": "code",
        "colab": {}
      },
      "source": [
        "#1) Single Leakage:\n",
        "#The distance between 2 clusters is defined as the shortest distance between points in the two clusters\n",
        "plt.figure(figsize=(20,5))\n",
        "plt.title(\"Crime Rate Dendograms\")\n",
        "dend = sch.dendrogram(sch.linkage(scaled_data, method='single'))\n",
        "plt.xlabel('Crime Rate')\n",
        "plt.ylabel('Euclidean distances')"
      ],
      "execution_count": null,
      "outputs": []
    },
    {
      "cell_type": "code",
      "metadata": {
        "id": "7AH-LJ8pgJQt",
        "colab_type": "code",
        "colab": {}
      },
      "source": [
        "#2) Complete Linkage:\n",
        "#The distance between 2 clusters is defined as the maximum distance between any 2 points in the clusters\n",
        "plt.figure(figsize=(20,5))\n",
        "plt.title(\"Crime Rate Dendograms\")\n",
        "dend = sch.dendrogram(sch.linkage(scaled_data, method='complete'))\n",
        "plt.xlabel('Crime Rate')\n",
        "plt.ylabel('Euclidean distances')"
      ],
      "execution_count": null,
      "outputs": []
    },
    {
      "cell_type": "markdown",
      "metadata": {
        "id": "MnrrHlpAhNY-",
        "colab_type": "text"
      },
      "source": [
        "How do we determine the optimal number of clusters from this diagram?"
      ]
    },
    {
      "cell_type": "code",
      "metadata": {
        "id": "vBI7uMg4hJ5Z",
        "colab_type": "code",
        "colab": {}
      },
      "source": [
        "# Fit the Agglomerative Clustering\n",
        " \n",
        "AC = AgglomerativeClustering(n_clusters = 3, affinity = 'euclidean', linkage ='ward')"
      ],
      "execution_count": null,
      "outputs": []
    },
    {
      "cell_type": "code",
      "metadata": {
        "id": "af-Se7OVhQsN",
        "colab_type": "code",
        "colab": {}
      },
      "source": [
        "# Fit and predict to have the cluster labels.\n",
        "y_pred =AC.fit_predict(data)\n",
        "y_pred"
      ],
      "execution_count": null,
      "outputs": []
    },
    {
      "cell_type": "code",
      "metadata": {
        "id": "Jg73TqARhSr_",
        "colab_type": "code",
        "colab": {}
      },
      "source": [
        "# Fetch the cluster labels\n",
        "crime['cluster labels']= y_pred"
      ],
      "execution_count": null,
      "outputs": []
    },
    {
      "cell_type": "code",
      "metadata": {
        "id": "Dpx8isL7hVK7",
        "colab_type": "code",
        "colab": {}
      },
      "source": [
        "# Let's see which State falls in which cluster\n",
        "crime[['State','cluster labels']]"
      ],
      "execution_count": null,
      "outputs": []
    },
    {
      "cell_type": "markdown",
      "metadata": {
        "id": "BOjoLPlQhabT",
        "colab_type": "text"
      },
      "source": [
        "Observations:\n",
        "\n",
        "The Cities in the Cluster-0 seems to be Safe-Zone where there are relativley less Murders,Assaults and Rapes.\n",
        "\n",
        "The Cities in Cluster-1 seems to have higher crime rates and can be regarded as Danger-Zone.\n",
        "\n",
        "The Cities in Cluster-3 seems to have moderate crime rates when compared to other zones and can be called as Moderate-Zone"
      ]
    },
    {
      "cell_type": "code",
      "metadata": {
        "id": "ANW-ycHAhW6Z",
        "colab_type": "code",
        "colab": {}
      },
      "source": [
        "Safe_Zone= crime.groupby('cluster labels')['State'].unique()[0]\n",
        "Safe_Zone"
      ],
      "execution_count": null,
      "outputs": []
    },
    {
      "cell_type": "code",
      "metadata": {
        "id": "2YtsyLvWhk3Y",
        "colab_type": "code",
        "colab": {}
      },
      "source": [
        "Danger_Zone= crime.groupby('cluster labels')['State'].unique()[1]\n",
        "Danger_Zone"
      ],
      "execution_count": null,
      "outputs": []
    },
    {
      "cell_type": "code",
      "metadata": {
        "id": "hy9l3v3dhmgY",
        "colab_type": "code",
        "colab": {}
      },
      "source": [
        "Moderate_Zone= crime.groupby('cluster labels')['State'].unique()[2]\n",
        "Moderate_Zone"
      ],
      "execution_count": null,
      "outputs": []
    },
    {
      "cell_type": "code",
      "metadata": {
        "id": "b_KkE-JehoXE",
        "colab_type": "code",
        "colab": {}
      },
      "source": [
        ""
      ],
      "execution_count": null,
      "outputs": []
    }
  ]
}